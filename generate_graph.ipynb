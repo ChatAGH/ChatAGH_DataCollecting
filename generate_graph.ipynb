{
 "cells": [
  {
   "cell_type": "markdown",
   "id": "62c3ccd1-9109-469f-ab00-c93f0b001f85",
   "metadata": {},
   "source": [
    "## 1. Imports & Setup\n",
    "\n",
    "We import:\n",
    "- **NetworkX** for graph analysis,  \n",
    "- **Seaborn/Matplotlib** for statistical visualization,  \n",
    "- **Pandas/Numpy** for data handling,  \n",
    "- **json/urlparse** to load and normalize graph data.\n",
    "\n",
    "We also configure Seaborn for clear plots."
   ]
  },
  {
   "cell_type": "code",
   "id": "3a4984d134b0ddb9",
   "metadata": {
    "ExecuteTime": {
     "end_time": "2025-10-07T10:12:40.567835Z",
     "start_time": "2025-10-07T10:12:40.564551Z"
    }
   },
   "source": [
    "import json\n",
    "import re\n",
    "from urllib.parse import urlparse\n",
    "\n",
    "import networkx as nx\n",
    "import pandas as pd\n",
    "import numpy as np\n",
    "\n",
    "import matplotlib.pyplot as plt\n",
    "import seaborn as sns\n",
    "\n",
    "sns.set(context=\"notebook\", style=\"whitegrid\", font_scale=1.1)\n",
    "pd.options.display.max_colwidth = 150"
   ],
   "outputs": [],
   "execution_count": 4
  },
  {
   "cell_type": "markdown",
   "id": "bbbec009-4afd-425d-abc4-ee2f6a6ef231",
   "metadata": {},
   "source": [
    "# 2. Generate graph"
   ]
  },
  {
   "cell_type": "code",
   "id": "36d67491d1aa5dbd",
   "metadata": {
    "ExecuteTime": {
     "end_time": "2025-10-07T20:18:16.691298Z",
     "start_time": "2025-10-07T11:28:18.697656Z"
    }
   },
   "source": [
    "from web_scraping.graph_generator import GraphGenerator\n",
    "\n",
    "urls = [\n",
    "    \"https://iet.agh.edu.pl/\",\n",
    "    \"https://skos.agh.edu.pl/tel\",\n",
    "    \"https://oferta-badawcza.agh.edu.pl/\",\n",
    "    \"https://podyplomowe.agh.edu.pl\",\n",
    "    \"https://szkolenia.agh.edu.pl/\",\n",
    "    \"https://open.agh.edu.pl/\",\n",
    "    \"https://badap.agh.edu.pl/\",\n",
    "    \"http://www.dzp.agh.edu.pl/\",\n",
    "    \"https://cwp.agh.edu.pl\",\n",
    "    \"https://ckim.agh.edu.pl/\",\n",
    "    \"https://rownosc.agh.edu.pl/\",\n",
    "    \"https://wilgz.agh.edu.pl/\",\n",
    "    \"https://www.metal.agh.edu.pl/\",\n",
    "    \"https://www.eaiib.agh.edu.pl/\",\n",
    "    \"https://imir.agh.edu.pl/\",\n",
    "    \"https://www.wggios.agh.edu.pl/\",\n",
    "    \"https://www.ceramika.agh.edu.pl/\",\n",
    "    \"https://odlewnictwo.agh.edu.pl/\",\n",
    "    \"https://wmn.agh.edu.pl/\",\n",
    "    \"https://wnig.agh.edu.pl/\",\n",
    "    \"https://www.zarz.agh.edu.pl/\",\n",
    "    \"https://weip.agh.edu.pl/\",\n",
    "    \"https://www.fis.agh.edu.pl/\",\n",
    "    \"https://www.wms.agh.edu.pl/\",\n",
    "    \"https://wh.agh.edu.pl/\",\n",
    "    \"https://www.informatyka.agh.edu.pl/pl/\",\n",
    "    \"https://spacetech.agh.edu.pl/pl\",\n",
    "    \"https://www.sjo.agh.edu.pl/\",\n",
    "    \"https://swfis.agh.edu.pl/\"\n",
    "]\n",
    "\n",
    "for url in urls:\n",
    "    print(url)\n",
    "    prefix = url.replace(\".\", \"_\").replace(\"http:\", \"\").replace(\"https:\", \"\").replace(\"/\", \"\")\n",
    "    GRAPH_JSON_PATH = f\"graphs{prefix}_graph.json\"\n",
    "\n",
    "    graph_generator = GraphGenerator(\n",
    "        allowed_domains=[url],\n",
    "        start_urls=[url],\n",
    "        max_pages=1000,\n",
    "    )\n",
    "    graph_generator.generate_graph()\n",
    "    graph_generator.graph_to_json(output_file=GRAPH_JSON_PATH)"
   ],
   "outputs": [
    {
     "name": "stdout",
     "output_type": "stream",
     "text": [
      "https://iet.agh.edu.pl/\n"
     ]
    },
    {
     "name": "stderr",
     "output_type": "stream",
     "text": [
      "\n",
      "\n",
      "Crawling:   0%|          | 0/1000 [00:00<?, ?it/s]\u001B[A\u001B[A\n",
      "\n",
      "Crawling:   0%|          | 2/1000 [00:03<24:56,  1.50s/it]\u001B[A\u001B[A\n",
      "\n",
      "Crawling:   0%|          | 1/1000 [00:34<9:27:48, 34.10s/it]A\u001B[A\n",
      "\n",
      "\n",
      "Crawling:   0%|          | 4/1000 [00:08<37:06,  2.24s/it]\u001B[A\u001B[A\n",
      "\n",
      "Crawling:   0%|          | 5/1000 [00:10<37:21,  2.25s/it]\u001B[A\u001B[A\n",
      "\n",
      "Crawling:   1%|          | 6/1000 [00:13<40:12,  2.43s/it]\u001B[A\u001B[A\n",
      "\n",
      "Crawling:   1%|          | 7/1000 [00:16<42:03,  2.54s/it]\u001B[A\u001B[A\n",
      "\n",
      "Crawling:   1%|          | 8/1000 [00:18<42:46,  2.59s/it]\u001B[A\u001B[A\n",
      "\n",
      "Crawling:   1%|          | 9/1000 [00:21<41:48,  2.53s/it]\u001B[A\u001B[A\n",
      "\n",
      "Crawling:   1%|          | 10/1000 [00:23<40:51,  2.48s/it]\u001B[A\u001B[A\n",
      "\n",
      "Crawling:   1%|          | 11/1000 [00:26<41:46,  2.53s/it]\u001B[A\u001B[A\n",
      "\n",
      "Crawling:   1%|          | 12/1000 [00:29<43:08,  2.62s/it]\u001B[A\u001B[A\n",
      "\n",
      "Crawling:   1%|▏         | 13/1000 [00:31<41:48,  2.54s/it]\u001B[A\u001B[A\n",
      "\n",
      "Crawling:   1%|▏         | 14/1000 [00:34<42:50,  2.61s/it]\u001B[A\u001B[A\n",
      "\n",
      "Crawling:   2%|▏         | 15/1000 [00:36<43:47,  2.67s/it]\u001B[A\u001B[A\n",
      "\n",
      "Crawling:   2%|▏         | 16/1000 [00:39<41:55,  2.56s/it]\u001B[A\u001B[A\n",
      "\n",
      "Crawling:   2%|▏         | 17/1000 [00:41<41:11,  2.51s/it]\u001B[A\u001B[A\n",
      "\n",
      "Crawling:   2%|▏         | 18/1000 [00:43<39:49,  2.43s/it]\u001B[A\u001B[A\n",
      "\n",
      "Crawling:   2%|▏         | 19/1000 [00:46<40:35,  2.48s/it]\u001B[A\u001B[A\n",
      "\n",
      "Crawling:   2%|▏         | 20/1000 [00:49<40:46,  2.50s/it]\u001B[A\u001B[A\n",
      "\n",
      "Crawling:   2%|▏         | 21/1000 [00:51<42:18,  2.59s/it]\u001B[A\u001B[A\n",
      "\n",
      "Crawling:   2%|▏         | 22/1000 [00:54<42:47,  2.63s/it]\u001B[A\u001B[A\n",
      "\n",
      "Crawling:   2%|▏         | 23/1000 [00:57<42:05,  2.59s/it]\u001B[A\u001B[A\n",
      "\n",
      "Crawling:   2%|▏         | 24/1000 [00:59<42:32,  2.62s/it]\u001B[A\u001B[A\n",
      "\n",
      "Crawling:   2%|▎         | 25/1000 [01:02<41:52,  2.58s/it]\u001B[A\u001B[A\n",
      "\n",
      "Crawling:   3%|▎         | 26/1000 [01:04<41:47,  2.57s/it]\u001B[A\u001B[A\n",
      "\n",
      "Crawling:   3%|▎         | 27/1000 [01:07<40:35,  2.50s/it]\u001B[A\u001B[A\n",
      "\n",
      "Crawling:   3%|▎         | 28/1000 [01:09<42:02,  2.59s/it]\u001B[A\u001B[A\n",
      "\n",
      "Crawling:   3%|▎         | 29/1000 [01:12<41:20,  2.56s/it]\u001B[A\u001B[A\n",
      "\n",
      "Crawling:   3%|▎         | 30/1000 [01:14<40:27,  2.50s/it]\u001B[A\u001B[A\n",
      "\n",
      "Crawling:   3%|▎         | 31/1000 [01:17<41:49,  2.59s/it]\u001B[A\u001B[A\n",
      "\n",
      "Crawling:   3%|▎         | 32/1000 [01:20<43:00,  2.67s/it]\u001B[A\u001B[A\n",
      "\n",
      "Crawling:   3%|▎         | 33/1000 [01:23<42:55,  2.66s/it]\u001B[A\u001B[A\n",
      "\n",
      "Crawling:   3%|▎         | 34/1000 [01:25<42:19,  2.63s/it]\u001B[A\u001B[A\n",
      "\n",
      "Crawling:   4%|▎         | 35/1000 [01:28<43:21,  2.70s/it]\u001B[A\u001B[A\n",
      "\n",
      "Crawling:   4%|▎         | 36/1000 [01:30<42:12,  2.63s/it]\u001B[A\u001B[A\n",
      "\n",
      "Crawling:   4%|▎         | 37/1000 [01:33<42:10,  2.63s/it]\u001B[A\u001B[A\n",
      "\n",
      "Crawling:   4%|▍         | 38/1000 [01:36<42:43,  2.66s/it]\u001B[A\u001B[A\n",
      "\n",
      "Crawling:   4%|▍         | 39/1000 [01:38<42:40,  2.66s/it]\u001B[A\u001B[A\n",
      "\n",
      "Crawling:   4%|▍         | 40/1000 [01:41<42:39,  2.67s/it]\u001B[A\u001B[A\n",
      "\n",
      "Crawling:   4%|▍         | 41/1000 [01:44<42:05,  2.63s/it]\u001B[A\u001B[A\n",
      "\n",
      "Crawling:   4%|▍         | 42/1000 [01:46<42:02,  2.63s/it]\u001B[A\u001B[A\n",
      "\n",
      "Crawling:   4%|▍         | 43/1000 [01:49<42:20,  2.65s/it]\u001B[A\u001B[A\n",
      "\n",
      "Crawling:   4%|▍         | 44/1000 [01:51<40:57,  2.57s/it]\u001B[A\u001B[A\n",
      "\n",
      "Crawling:   4%|▍         | 45/1000 [01:54<40:26,  2.54s/it]\u001B[A\u001B[A\n",
      "\n",
      "Crawling:   5%|▍         | 46/1000 [01:56<39:52,  2.51s/it]\u001B[A\u001B[A\n",
      "\n",
      "Crawling:   5%|▍         | 47/1000 [01:59<42:24,  2.67s/it]\u001B[A\u001B[A\n",
      "\n",
      "Crawling:   5%|▍         | 48/1000 [02:02<41:08,  2.59s/it]\u001B[A\u001B[A\n",
      "\n",
      "Crawling:   5%|▍         | 49/1000 [02:04<41:15,  2.60s/it]\u001B[A\u001B[A\n",
      "\n",
      "Crawling:   5%|▌         | 50/1000 [02:07<40:13,  2.54s/it]\u001B[A\u001B[A\n",
      "\n",
      "Crawling:   5%|▌         | 51/1000 [02:09<40:32,  2.56s/it]\u001B[A\u001B[A\n",
      "\n",
      "Crawling:   5%|▌         | 52/1000 [02:12<42:16,  2.68s/it]\u001B[A\u001B[A\n",
      "\n",
      "Crawling:   5%|▌         | 53/1000 [02:15<42:39,  2.70s/it]\u001B[A\u001B[A\n",
      "\n",
      "Crawling:   5%|▌         | 54/1000 [02:18<43:17,  2.75s/it]\u001B[A\u001B[A\n",
      "\n",
      "Crawling:   6%|▌         | 55/1000 [02:21<42:29,  2.70s/it]\u001B[A\u001B[A\n",
      "\n",
      "Crawling:   6%|▌         | 56/1000 [02:23<41:09,  2.62s/it]\u001B[A\u001B[A\n",
      "\n",
      "Crawling:   6%|▌         | 57/1000 [02:25<40:31,  2.58s/it]\u001B[A\u001B[A\n",
      "\n",
      "Crawling:   6%|▌         | 58/1000 [02:28<41:47,  2.66s/it]\u001B[A\u001B[A\n",
      "\n",
      "Crawling:   6%|▌         | 59/1000 [02:31<43:09,  2.75s/it]\u001B[A\u001B[A\n",
      "\n",
      "Crawling:   6%|▌         | 60/1000 [02:34<43:10,  2.76s/it]\u001B[A\u001B[A\n",
      "\n",
      "Crawling:   6%|▌         | 61/1000 [02:37<42:07,  2.69s/it]\u001B[A\u001B[A\n",
      "\n",
      "Crawling:   6%|▌         | 62/1000 [02:39<42:15,  2.70s/it]\u001B[A\u001B[A\n",
      "\n",
      "Crawling:   6%|▋         | 63/1000 [02:42<42:16,  2.71s/it]\u001B[A\u001B[A\n",
      "\n",
      "Crawling:   6%|▋         | 64/1000 [02:44<40:37,  2.60s/it]\u001B[A\u001B[A\n",
      "\n",
      "Crawling:   6%|▋         | 65/1000 [02:47<41:48,  2.68s/it]\u001B[A\u001B[A\n",
      "\n",
      "Crawling:   7%|▋         | 66/1000 [02:49<36:18,  2.33s/it]\u001B[A\u001B[A\n",
      "\n",
      "Crawling:   7%|▋         | 67/1000 [02:51<33:53,  2.18s/it]\u001B[A\u001B[A\n",
      "\n",
      "Crawling:   7%|▋         | 68/1000 [02:52<31:36,  2.04s/it]\u001B[A\u001B[A\n",
      "\n",
      "Crawling:   7%|▋         | 69/1000 [02:54<30:15,  1.95s/it]\u001B[A\u001B[A\n",
      "\n",
      "Crawling:   7%|▋         | 70/1000 [02:57<32:56,  2.13s/it]\u001B[A\u001B[A\n",
      "\n",
      "Crawling:   7%|▋         | 71/1000 [02:59<34:46,  2.25s/it]\u001B[A\u001B[A\n",
      "\n",
      "Crawling:   7%|▋         | 72/1000 [03:02<37:58,  2.45s/it]\u001B[A\u001B[A\n",
      "\n",
      "Crawling:   7%|▋         | 73/1000 [03:05<38:45,  2.51s/it]\u001B[A\u001B[A\n",
      "\n",
      "Crawling:   7%|▋         | 74/1000 [03:07<39:15,  2.54s/it]\u001B[A\u001B[A\n",
      "\n",
      "Crawling:   8%|▊         | 75/1000 [03:10<40:12,  2.61s/it]\u001B[A\u001B[A\n",
      "\n",
      "Crawling:   8%|▊         | 76/1000 [03:12<34:57,  2.27s/it]\u001B[A\u001B[A\n",
      "\n",
      "Crawling:   8%|▊         | 77/1000 [03:13<32:09,  2.09s/it]\u001B[A\u001B[A\n",
      "\n",
      "Crawling:   8%|▊         | 78/1000 [03:15<32:02,  2.09s/it]\u001B[A\u001B[A\n",
      "\n",
      "Crawling:   8%|▊         | 79/1000 [03:18<34:55,  2.28s/it]\u001B[A\u001B[A\n",
      "\n",
      "Crawling:   8%|▊         | 80/1000 [03:21<37:47,  2.46s/it]\u001B[A\u001B[A\n",
      "\n",
      "Crawling:   8%|▊         | 81/1000 [03:24<38:59,  2.55s/it]\u001B[A\u001B[A\n",
      "\n",
      "Crawling:   8%|▊         | 82/1000 [03:26<39:45,  2.60s/it]\u001B[A\u001B[A\n",
      "\n",
      "Crawling:   8%|▊         | 83/1000 [03:29<40:24,  2.64s/it]\u001B[A\u001B[A\n",
      "\n",
      "Crawling:   8%|▊         | 84/1000 [03:32<40:04,  2.62s/it]\u001B[A\u001B[A\n",
      "\n",
      "Crawling:   8%|▊         | 85/1000 [03:34<39:27,  2.59s/it]\u001B[A\u001B[A\n",
      "\n",
      "Crawling:   9%|▊         | 86/1000 [03:37<40:27,  2.66s/it]\u001B[A\u001B[A\n",
      "\n",
      "Crawling:   9%|▊         | 87/1000 [03:39<35:57,  2.36s/it]\u001B[A\u001B[A\n",
      "\n",
      "Crawling:   9%|▉         | 88/1000 [03:40<31:45,  2.09s/it]\u001B[A\u001B[A\n",
      "\n",
      "Crawling:   9%|▉         | 89/1000 [03:42<30:01,  1.98s/it]\u001B[A\u001B[A\n",
      "\n",
      "Crawling:   9%|▉         | 90/1000 [03:44<29:17,  1.93s/it]\u001B[A\u001B[A\n",
      "\n",
      "Crawling:   9%|▉         | 91/1000 [03:45<27:01,  1.78s/it]\u001B[A\u001B[A\n",
      "\n",
      "Crawling:   9%|▉         | 92/1000 [03:47<26:17,  1.74s/it]\u001B[A\u001B[A\n",
      "\n",
      "Crawling:   9%|▉         | 93/1000 [03:48<24:59,  1.65s/it]\u001B[A\u001B[A\n",
      "\n",
      "Crawling:   9%|▉         | 94/1000 [03:50<24:22,  1.61s/it]\u001B[A\u001B[A\n",
      "\n",
      "Crawling:  10%|▉         | 95/1000 [03:52<24:56,  1.65s/it]\u001B[A\u001B[A\n",
      "\n",
      "Crawling:  10%|▉         | 96/1000 [03:53<25:34,  1.70s/it]\u001B[A\u001B[A\n",
      "\n",
      "Crawling:  10%|▉         | 97/1000 [03:55<25:36,  1.70s/it]\u001B[A\u001B[A\n",
      "\n",
      "Crawling:  10%|▉         | 98/1000 [03:56<24:29,  1.63s/it]\u001B[A\u001B[A\n",
      "\n",
      "Crawling:  10%|▉         | 99/1000 [03:58<24:02,  1.60s/it]\u001B[A\u001B[A\n",
      "\n",
      "Crawling:  10%|█         | 100/1000 [04:00<25:19,  1.69s/it]\u001B[A\u001B[A\n",
      "\n",
      "Crawling:  10%|█         | 101/1000 [04:03<29:26,  1.96s/it]\u001B[A\u001B[A\n",
      "\n",
      "Crawling:  10%|█         | 102/1000 [04:05<31:45,  2.12s/it]\u001B[A\u001B[A\n",
      "\n",
      "Crawling:  10%|█         | 103/1000 [04:07<29:35,  1.98s/it]\u001B[A\u001B[A\n",
      "\n",
      "Crawling:  10%|█         | 104/1000 [04:09<32:10,  2.15s/it]\u001B[A\u001B[A\n",
      "\n",
      "Crawling:  10%|█         | 105/1000 [04:12<33:53,  2.27s/it]\u001B[A\u001B[A\n",
      "\n",
      "Crawling:  11%|█         | 106/1000 [04:14<34:34,  2.32s/it]\u001B[A\u001B[A\n",
      "\n",
      "Crawling:  11%|█         | 107/1000 [04:17<35:15,  2.37s/it]\u001B[A\u001B[A\n",
      "\n",
      "Crawling:  11%|█         | 108/1000 [04:18<31:24,  2.11s/it]\u001B[A\u001B[A\n",
      "\n",
      "Crawling:  11%|█         | 109/1000 [04:20<29:05,  1.96s/it]\u001B[A\u001B[A\n",
      "\n",
      "Crawling:  11%|█         | 110/1000 [04:21<26:51,  1.81s/it]\u001B[A\u001B[A\n",
      "\n",
      "Crawling:  11%|█         | 111/1000 [04:23<25:08,  1.70s/it]\u001B[A\u001B[A\n",
      "\n",
      "Crawling:  11%|█         | 112/1000 [04:24<24:31,  1.66s/it]\u001B[A\u001B[A\n",
      "\n",
      "Crawling:  11%|█▏        | 113/1000 [04:26<25:37,  1.73s/it]\u001B[A\u001B[A\n",
      "\n",
      "Crawling:  11%|█▏        | 114/1000 [04:28<24:52,  1.68s/it]\u001B[A\u001B[A\n",
      "\n",
      "Crawling:  12%|█▏        | 115/1000 [04:29<24:38,  1.67s/it]\u001B[A\u001B[A\n",
      "\n",
      "Crawling:  12%|█▏        | 116/1000 [04:31<23:35,  1.60s/it]\u001B[A\u001B[A\n",
      "\n",
      "Crawling:  12%|█▏        | 117/1000 [04:32<22:57,  1.56s/it]\u001B[A\u001B[A\n",
      "\n",
      "Crawling:  12%|█▏        | 118/1000 [04:34<24:27,  1.66s/it]\u001B[A\u001B[A\n",
      "\n",
      "Crawling:  12%|█▏        | 119/1000 [04:36<24:52,  1.69s/it]\u001B[A\u001B[A\n",
      "\n",
      "Crawling:  12%|█▏        | 120/1000 [04:38<24:52,  1.70s/it]\u001B[A\u001B[A\n",
      "\n",
      "Crawling:  12%|█▏        | 121/1000 [04:40<28:16,  1.93s/it]\u001B[A\u001B[A\n",
      "\n",
      "Crawling:  12%|█▏        | 122/1000 [04:43<31:37,  2.16s/it]\u001B[A\u001B[A"
     ]
    },
    {
     "name": "stdout",
     "output_type": "stream",
     "text": [
      "Error fetching the URL: HTTPSConnectionPool(host='www.wrss.iet.agh.edu.pl', port=443): Max retries exceeded with url: / (Caused by SSLError(SSLCertVerificationError(1, '[SSL: CERTIFICATE_VERIFY_FAILED] certificate verify failed: unable to get local issuer certificate (_ssl.c:1010)')))\n"
     ]
    },
    {
     "name": "stderr",
     "output_type": "stream",
     "text": [
      "\n",
      "\n",
      "Crawling:  12%|█▏        | 123/1000 [04:45<29:46,  2.04s/it]\u001B[A\u001B[A\n",
      "\n",
      "Crawling:  12%|█▏        | 124/1000 [04:46<28:26,  1.95s/it]\u001B[A\u001B[A\n",
      "\n",
      "Crawling:  12%|█▎        | 125/1000 [04:48<26:00,  1.78s/it]\u001B[A\u001B[A\n",
      "\n",
      "Crawling:  13%|█▎        | 126/1000 [04:49<24:11,  1.66s/it]\u001B[A\u001B[A\n",
      "\n",
      "Crawling:  13%|█▎        | 127/1000 [04:51<24:45,  1.70s/it]\u001B[A\u001B[A\n",
      "\n",
      "Crawling:  13%|█▎        | 128/1000 [04:52<24:17,  1.67s/it]\u001B[A\u001B[A\n",
      "\n",
      "Crawling:  13%|█▎        | 129/1000 [04:54<24:00,  1.65s/it]\u001B[A\u001B[A\n",
      "\n",
      "Crawling:  13%|█▎        | 130/1000 [04:56<24:45,  1.71s/it]\u001B[A\u001B[A\n",
      "\n",
      "Crawling:  13%|█▎        | 131/1000 [04:57<23:57,  1.65s/it]\u001B[A\u001B[A\n",
      "\n",
      "Crawling:  13%|█▎        | 132/1000 [04:59<24:29,  1.69s/it]\u001B[A\u001B[A\n",
      "\n",
      "Crawling:  13%|█▎        | 133/1000 [05:01<24:20,  1.68s/it]\u001B[A\u001B[A\n",
      "\n",
      "Crawling:  13%|█▎        | 134/1000 [05:03<24:11,  1.68s/it]\u001B[A\u001B[A\n",
      "\n",
      "Crawling:  14%|█▎        | 135/1000 [05:05<25:20,  1.76s/it]\u001B[A\u001B[A\n",
      "\n",
      "Crawling:  14%|█▎        | 136/1000 [05:06<24:21,  1.69s/it]\u001B[A\u001B[A\n",
      "\n",
      "Crawling:  14%|█▎        | 137/1000 [05:08<23:49,  1.66s/it]\u001B[A\u001B[A\n",
      "\n",
      "Crawling:  14%|█▍        | 138/1000 [05:09<24:29,  1.70s/it]\u001B[A\u001B[A\n",
      "\n",
      "Crawling:  14%|█▍        | 139/1000 [05:11<25:37,  1.79s/it]\u001B[A\u001B[A\n",
      "\n",
      "Crawling:  14%|█▍        | 140/1000 [05:13<26:18,  1.84s/it]\u001B[A\u001B[A\n",
      "\n",
      "Crawling:  14%|█▍        | 141/1000 [05:15<25:16,  1.77s/it]\u001B[A\u001B[A\n",
      "\n",
      "Crawling:  14%|█▍        | 142/1000 [05:17<25:03,  1.75s/it]\u001B[A\u001B[A\n",
      "\n",
      "Crawling:  14%|█▍        | 143/1000 [05:18<24:19,  1.70s/it]\u001B[A\u001B[A\n",
      "\n",
      "Crawling:  14%|█▍        | 144/1000 [05:20<24:40,  1.73s/it]\u001B[A\u001B[A\n",
      "\n",
      "Crawling:  14%|█▍        | 145/1000 [05:22<23:43,  1.67s/it]\u001B[A\u001B[A\n",
      "\n",
      "Crawling:  15%|█▍        | 146/1000 [05:23<24:10,  1.70s/it]\u001B[A\u001B[A\n",
      "\n",
      "Crawling:  15%|█▍        | 147/1000 [05:25<23:30,  1.65s/it]\u001B[A\u001B[A\n",
      "\n",
      "Crawling:  15%|█▍        | 148/1000 [05:27<26:59,  1.90s/it]\u001B[A\u001B[A\n",
      "\n",
      "Crawling:  15%|█▍        | 149/1000 [05:30<28:50,  2.03s/it]\u001B[A\u001B[A\n",
      "\n",
      "Crawling:  15%|█▌        | 150/1000 [05:31<26:24,  1.86s/it]\u001B[A\u001B[A\n",
      "\n",
      "Crawling:  15%|█▌        | 151/1000 [05:33<24:47,  1.75s/it]\u001B[A\u001B[A\n",
      "\n",
      "Crawling:  15%|█▌        | 152/1000 [05:34<23:46,  1.68s/it]\u001B[A\u001B[A\n",
      "\n",
      "Crawling:  15%|█▌        | 153/1000 [05:36<24:39,  1.75s/it]\u001B[A\u001B[A\n",
      "\n",
      "Crawling:  15%|█▌        | 154/1000 [05:38<24:36,  1.74s/it]\u001B[A\u001B[A\n",
      "\n",
      "Crawling:  16%|█▌        | 155/1000 [05:40<25:07,  1.78s/it]\u001B[A\u001B[A\n",
      "\n",
      "Crawling:  16%|█▌        | 156/1000 [05:42<25:06,  1.78s/it]\u001B[A\u001B[A\n",
      "\n",
      "Crawling:  16%|█▌        | 157/1000 [05:43<23:24,  1.67s/it]\u001B[A\u001B[A\n",
      "\n",
      "Crawling:  16%|█▌        | 158/1000 [05:45<23:43,  1.69s/it]\u001B[A\u001B[A\n",
      "\n",
      "Crawling:  16%|█▌        | 159/1000 [05:47<28:20,  2.02s/it]\u001B[A\u001B[A\n",
      "\n",
      "Crawling:  16%|█▌        | 160/1000 [05:49<28:08,  2.01s/it]\u001B[A\u001B[A\n",
      "\n",
      "Crawling:  16%|█▌        | 161/1000 [05:51<27:18,  1.95s/it]\u001B[A\u001B[A\n",
      "\n",
      "Crawling:  16%|█▌        | 162/1000 [05:53<25:51,  1.85s/it]\u001B[A\u001B[A\n",
      "\n",
      "Crawling:  16%|█▋        | 163/1000 [05:55<25:42,  1.84s/it]\u001B[A\u001B[A\n",
      "\n",
      "Crawling:  16%|█▋        | 164/1000 [05:57<25:42,  1.85s/it]\u001B[A\u001B[A\n",
      "\n",
      "Crawling:  16%|█▋        | 165/1000 [05:57<19:58,  1.44s/it]\u001B[A\u001B[A"
     ]
    },
    {
     "name": "stdout",
     "output_type": "stream",
     "text": [
      "Error crawling https://iet.agh.edu.pl/wp-content/uploads/2025/03/dzien_otwarty_2024-7.webp: The markup you provided was rejected by the parser. Trying a different parser or a different encoding may help.\n",
      "\n",
      "Original exception(s) from parser:\n",
      " AssertionError: expected name token at '<![\\x12��%�>��s\\x0c!Ӓ�@m\\x138'\n"
     ]
    },
    {
     "name": "stderr",
     "output_type": "stream",
     "text": [
      "\n",
      "\n",
      "Crawling:  17%|█▋        | 166/1000 [05:59<22:10,  1.59s/it]\u001B[A\u001B[A\n",
      "\n",
      "Crawling:  17%|█▋        | 167/1000 [06:01<23:03,  1.66s/it]\u001B[A\u001B[A\n",
      "\n",
      "Crawling:  17%|█▋        | 168/1000 [06:03<23:30,  1.70s/it]\u001B[A\u001B[A\n",
      "\n",
      "Crawling:  17%|█▋        | 169/1000 [06:04<22:39,  1.64s/it]\u001B[A\u001B[A\n",
      "\n",
      "Crawling:  17%|█▋        | 170/1000 [06:06<21:53,  1.58s/it]\u001B[A\u001B[A\n",
      "\n",
      "Crawling:  17%|█▋        | 171/1000 [06:07<22:16,  1.61s/it]\u001B[A\u001B[A\n",
      "\n",
      "Crawling:  17%|█▋        | 172/1000 [06:10<26:56,  1.95s/it]\u001B[A\u001B[A\n",
      "\n",
      "Crawling:  17%|█▋        | 173/1000 [06:12<28:17,  2.05s/it]\u001B[A\u001B[A\n",
      "\n",
      "Crawling:  17%|█▋        | 174/1000 [06:15<29:56,  2.18s/it]\u001B[A\u001B[A\n",
      "\n",
      "Crawling:  18%|█▊        | 175/1000 [06:17<31:17,  2.28s/it]\u001B[A\u001B[A\n",
      "\n",
      "Crawling:  18%|█▊        | 176/1000 [06:20<31:24,  2.29s/it]\u001B[A\u001B[A\n",
      "\n",
      "Crawling:  18%|█▊        | 177/1000 [06:22<32:03,  2.34s/it]\u001B[A\u001B[A\n",
      "\n",
      "Crawling:  18%|█▊        | 178/1000 [06:24<32:30,  2.37s/it]\u001B[A\u001B[A\n",
      "\n",
      "Crawling:  18%|█▊        | 179/1000 [06:27<34:08,  2.49s/it]\u001B[A\u001B[A\n",
      "\n",
      "Crawling:  18%|█▊        | 180/1000 [06:30<34:31,  2.53s/it]\u001B[A\u001B[A\n",
      "\n",
      "Crawling:  18%|█▊        | 181/1000 [06:33<35:27,  2.60s/it]\u001B[A\u001B[A\n",
      "\n",
      "Crawling:  18%|█▊        | 182/1000 [06:35<36:04,  2.65s/it]\u001B[A\u001B[A\n",
      "\n",
      "Crawling:  18%|█▊        | 183/1000 [06:39<39:10,  2.88s/it]\u001B[A\u001B[A\n",
      "\n",
      "Crawling:  18%|█▊        | 184/1000 [06:41<37:58,  2.79s/it]\u001B[A\u001B[A\n",
      "\n",
      "Crawling:  18%|█▊        | 185/1000 [06:43<34:52,  2.57s/it]\u001B[A\u001B[A\n",
      "\n",
      "Crawling:  19%|█▊        | 186/1000 [06:46<36:56,  2.72s/it]\u001B[A\u001B[A\n",
      "\n",
      "Crawling:  19%|█▊        | 187/1000 [06:49<37:45,  2.79s/it]\u001B[A\u001B[A\n",
      "\n",
      "Crawling:  19%|█▉        | 188/1000 [06:52<36:53,  2.73s/it]\u001B[A\u001B[A\n",
      "\n",
      "Crawling:  19%|█▉        | 189/1000 [06:54<35:49,  2.65s/it]\u001B[A\u001B[A\n",
      "\n",
      "Crawling:  19%|█▉        | 190/1000 [06:59<42:02,  3.11s/it]\u001B[A\u001B[A\n",
      "\n",
      "Crawling:  19%|█▉        | 191/1000 [07:01<39:56,  2.96s/it]\u001B[A\u001B[A\n",
      "\n",
      "Crawling:  19%|█▉        | 192/1000 [07:04<39:07,  2.91s/it]\u001B[A\u001B[A\n",
      "\n",
      "Crawling:  19%|█▉        | 193/1000 [07:07<38:11,  2.84s/it]\u001B[A\u001B[A\n",
      "\n",
      "Crawling:  19%|█▉        | 194/1000 [07:10<38:11,  2.84s/it]\u001B[A\u001B[A\n",
      "\n",
      "Crawling:  20%|█▉        | 195/1000 [07:12<37:24,  2.79s/it]\u001B[A\u001B[A\n",
      "\n",
      "Crawling:  20%|█▉        | 196/1000 [07:13<29:23,  2.19s/it]\u001B[A\u001B[A"
     ]
    },
    {
     "name": "stdout",
     "output_type": "stream",
     "text": [
      "Error crawling https://iet.agh.edu.pl/wp-content/uploads/2024/11/B9_TC.webp: The markup you provided was rejected by the parser. Trying a different parser or a different encoding may help.\n",
      "\n",
      "Original exception(s) from parser:\n",
      " AssertionError: unknown status keyword 'WE' in marked section\n"
     ]
    },
    {
     "name": "stderr",
     "output_type": "stream",
     "text": [
      "\n",
      "\n",
      "Crawling:  20%|█▉        | 197/1000 [07:15<28:04,  2.10s/it]\u001B[A\u001B[A\n",
      "\n",
      "Crawling:  20%|█▉        | 198/1000 [07:17<26:50,  2.01s/it]\u001B[A\u001B[A\n",
      "\n",
      "Crawling:  20%|█▉        | 199/1000 [07:18<25:53,  1.94s/it]\u001B[A\u001B[A\n",
      "\n",
      "Crawling:  20%|██        | 200/1000 [07:21<28:09,  2.11s/it]\u001B[A\u001B[A\n",
      "\n",
      "Crawling:  20%|██        | 201/1000 [07:23<28:49,  2.16s/it]\u001B[A\u001B[A\n",
      "\n",
      "Crawling:  20%|██        | 202/1000 [07:26<29:34,  2.22s/it]\u001B[A\u001B[A\n",
      "\n",
      "Crawling:  20%|██        | 203/1000 [07:27<27:07,  2.04s/it]\u001B[A\u001B[A\n",
      "\n",
      "Crawling:  20%|██        | 204/1000 [07:29<25:36,  1.93s/it]\u001B[A\u001B[A\n",
      "\n",
      "Crawling:  20%|██        | 205/1000 [07:31<25:22,  1.92s/it]\u001B[A\u001B[A\n",
      "\n",
      "Crawling:  21%|██        | 206/1000 [07:32<23:33,  1.78s/it]\u001B[A\u001B[A\n",
      "\n",
      "Crawling:  21%|██        | 207/1000 [07:34<23:09,  1.75s/it]\u001B[A\u001B[A\n",
      "\n",
      "Crawling:  21%|██        | 208/1000 [07:36<22:52,  1.73s/it]\u001B[A\u001B[A\n",
      "\n",
      "Crawling:  21%|██        | 209/1000 [07:37<21:43,  1.65s/it]\u001B[A\u001B[A\n",
      "\n",
      "Crawling:  21%|██        | 210/1000 [07:39<21:01,  1.60s/it]\u001B[A\u001B[A\n",
      "\n",
      "Crawling:  21%|██        | 211/1000 [07:40<20:21,  1.55s/it]\u001B[A\u001B[A\n",
      "\n",
      "Crawling:  21%|██        | 212/1000 [07:41<19:41,  1.50s/it]\u001B[A\u001B[A\n",
      "\n",
      "Crawling:  21%|██▏       | 213/1000 [07:43<19:14,  1.47s/it]\u001B[A\u001B[A\n",
      "\n",
      "Crawling:  21%|██▏       | 214/1000 [07:45<20:40,  1.58s/it]\u001B[A\u001B[A\n",
      "\n",
      "Crawling:  22%|██▏       | 215/1000 [07:46<21:37,  1.65s/it]\u001B[A\u001B[A\n",
      "\n",
      "Crawling:  22%|██▏       | 216/1000 [07:48<21:10,  1.62s/it]\u001B[A\u001B[A\n",
      "\n",
      "Crawling:  22%|██▏       | 217/1000 [07:49<20:34,  1.58s/it]\u001B[A\u001B[A\n",
      "\n",
      "Crawling:  22%|██▏       | 218/1000 [07:51<20:39,  1.59s/it]\u001B[A\u001B[A\n",
      "\n",
      "Crawling:  22%|██▏       | 219/1000 [07:52<19:52,  1.53s/it]\u001B[A\u001B[A\n",
      "\n",
      "Crawling:  22%|██▏       | 220/1000 [07:54<20:35,  1.58s/it]\u001B[A\u001B[A\n",
      "\n",
      "Crawling:  22%|██▏       | 221/1000 [07:56<21:16,  1.64s/it]\u001B[A\u001B[A\n",
      "\n",
      "Crawling:  22%|██▏       | 222/1000 [07:57<20:18,  1.57s/it]\u001B[A\u001B[A\n",
      "\n",
      "Crawling:  22%|██▏       | 223/1000 [07:59<19:51,  1.53s/it]\u001B[A\u001B[A\n",
      "\n",
      "Crawling:  22%|██▏       | 224/1000 [08:00<19:26,  1.50s/it]\u001B[A\u001B[A\n",
      "\n",
      "Crawling:  22%|██▎       | 225/1000 [08:02<20:36,  1.60s/it]\u001B[A\u001B[A\n",
      "\n",
      "Crawling:  23%|██▎       | 226/1000 [08:04<20:27,  1.59s/it]\u001B[A\u001B[A\n",
      "\n",
      "Crawling:  23%|██▎       | 227/1000 [08:05<20:22,  1.58s/it]\u001B[A\u001B[A\n",
      "\n",
      "Crawling:  23%|██▎       | 228/1000 [08:07<19:30,  1.52s/it]\u001B[A\u001B[A\n",
      "\n",
      "Crawling:  23%|██▎       | 229/1000 [08:10<25:12,  1.96s/it]\u001B[A\u001B[A\n",
      "\n",
      "Crawling:  23%|██▎       | 230/1000 [08:12<27:52,  2.17s/it]\u001B[A\u001B[A\n",
      "\n",
      "Crawling:  23%|██▎       | 231/1000 [08:15<29:43,  2.32s/it]\u001B[A\u001B[A\n",
      "\n",
      "Crawling:  23%|██▎       | 232/1000 [08:18<31:02,  2.42s/it]\u001B[A\u001B[A\n",
      "\n",
      "Crawling:  23%|██▎       | 233/1000 [08:21<33:10,  2.60s/it]\u001B[A\u001B[A\n",
      "\n",
      "Crawling:  23%|██▎       | 234/1000 [08:23<33:57,  2.66s/it]\u001B[A\u001B[A\n",
      "\n",
      "Crawling:  24%|██▎       | 235/1000 [08:26<32:57,  2.59s/it]\u001B[A\u001B[A\n",
      "\n",
      "Crawling:  24%|██▎       | 236/1000 [08:29<34:37,  2.72s/it]\u001B[A\u001B[A\n",
      "\n",
      "Crawling:  24%|██▎       | 237/1000 [08:32<34:55,  2.75s/it]\u001B[A\u001B[A\n",
      "\n",
      "Crawling:  24%|██▍       | 238/1000 [08:34<34:26,  2.71s/it]\u001B[A\u001B[A\n",
      "\n",
      "Crawling:  24%|██▍       | 239/1000 [08:37<34:44,  2.74s/it]\u001B[A\u001B[A\n",
      "\n",
      "Crawling:  24%|██▍       | 240/1000 [08:40<34:28,  2.72s/it]\u001B[A\u001B[A\n",
      "\n",
      "Crawling:  24%|██▍       | 241/1000 [08:42<34:14,  2.71s/it]\u001B[A\u001B[A\n",
      "\n",
      "Crawling:  24%|██▍       | 242/1000 [08:45<33:28,  2.65s/it]\u001B[A\u001B[A\n",
      "\n",
      "Crawling:  24%|██▍       | 243/1000 [08:48<34:49,  2.76s/it]\u001B[A\u001B[A\n",
      "\n",
      "Crawling:  24%|██▍       | 244/1000 [08:50<33:06,  2.63s/it]\u001B[A\u001B[A\n",
      "\n",
      "Crawling:  24%|██▍       | 245/1000 [08:53<33:34,  2.67s/it]\u001B[A\u001B[A\n",
      "\n",
      "Crawling:  25%|██▍       | 246/1000 [08:56<33:37,  2.68s/it]\u001B[A\u001B[A\n",
      "\n",
      "Crawling:  25%|██▍       | 247/1000 [08:59<34:43,  2.77s/it]\u001B[A\u001B[A\n",
      "\n",
      "Crawling:  25%|██▍       | 248/1000 [09:02<35:10,  2.81s/it]\u001B[A\u001B[A\n",
      "\n",
      "Crawling:  25%|██▍       | 249/1000 [09:04<33:29,  2.68s/it]\u001B[A\u001B[A\n",
      "\n",
      "Crawling:  25%|██▌       | 250/1000 [09:06<32:34,  2.61s/it]\u001B[A\u001B[A\n",
      "\n",
      "Crawling:  25%|██▌       | 251/1000 [09:09<33:00,  2.64s/it]\u001B[A\u001B[A\n",
      "\n",
      "Crawling:  25%|██▌       | 252/1000 [09:12<33:09,  2.66s/it]\u001B[A\u001B[A\n",
      "\n",
      "Crawling:  25%|██▌       | 253/1000 [09:15<33:33,  2.69s/it]\u001B[A\u001B[A\n",
      "\n",
      "Crawling:  25%|██▌       | 254/1000 [09:17<33:16,  2.68s/it]\u001B[A\u001B[A\n",
      "\n",
      "Crawling:  26%|██▌       | 255/1000 [09:20<32:26,  2.61s/it]\u001B[A\u001B[A\n",
      "\n",
      "Crawling:  26%|██▌       | 256/1000 [09:23<33:15,  2.68s/it]\u001B[A\u001B[A\n",
      "\n",
      "Crawling:  26%|██▌       | 257/1000 [09:25<32:55,  2.66s/it]\u001B[A\u001B[A\n",
      "\n",
      "Crawling:  26%|██▌       | 258/1000 [09:28<34:26,  2.79s/it]\u001B[A\u001B[A\n",
      "\n",
      "Crawling:  26%|██▌       | 259/1000 [09:30<31:05,  2.52s/it]\u001B[A\u001B[A\n",
      "\n",
      "Crawling:  26%|██▌       | 260/1000 [09:32<27:31,  2.23s/it]\u001B[A\u001B[A\n",
      "\n",
      "Crawling:  26%|██▌       | 261/1000 [09:33<24:34,  2.00s/it]\u001B[A\u001B[A\n",
      "\n",
      "Crawling:  26%|██▌       | 262/1000 [09:36<26:41,  2.17s/it]\u001B[A\u001B[A\n",
      "\n",
      "Crawling:  26%|██▋       | 263/1000 [09:38<28:09,  2.29s/it]\u001B[A\u001B[A\n",
      "\n",
      "Crawling:  26%|██▋       | 264/1000 [09:41<28:20,  2.31s/it]\u001B[A\u001B[A\n",
      "\n",
      "Crawling:  26%|██▋       | 265/1000 [09:43<29:41,  2.42s/it]\u001B[A\u001B[A\n",
      "\n",
      "Crawling:  27%|██▋       | 266/1000 [09:45<27:46,  2.27s/it]\u001B[A\u001B[A\n",
      "\n",
      "Crawling:  27%|██▋       | 267/1000 [09:48<29:02,  2.38s/it]\u001B[A\u001B[A\n",
      "\n",
      "Crawling:  27%|██▋       | 268/1000 [09:50<29:44,  2.44s/it]\u001B[A\u001B[A\n",
      "\n",
      "Crawling:  27%|██▋       | 269/1000 [09:53<30:06,  2.47s/it]\u001B[A\u001B[A\n",
      "\n",
      "Crawling:  27%|██▋       | 270/1000 [09:55<29:32,  2.43s/it]\u001B[A\u001B[A\n",
      "\n",
      "Crawling:  27%|██▋       | 271/1000 [09:58<29:35,  2.44s/it]\u001B[A\u001B[A\n",
      "\n",
      "Crawling:  27%|██▋       | 272/1000 [10:00<27:20,  2.25s/it]\u001B[A\u001B[A\n",
      "\n",
      "Crawling:  27%|██▋       | 273/1000 [10:02<28:41,  2.37s/it]\u001B[A\u001B[A\n",
      "\n",
      "Crawling:  27%|██▋       | 274/1000 [10:05<29:36,  2.45s/it]\u001B[A\u001B[A\n",
      "\n",
      "Crawling:  28%|██▊       | 275/1000 [10:06<26:19,  2.18s/it]\u001B[A\u001B[A\n",
      "\n",
      "Crawling:  28%|██▊       | 276/1000 [10:08<24:56,  2.07s/it]\u001B[A\u001B[A\n",
      "\n",
      "Crawling:  28%|██▊       | 277/1000 [10:10<23:37,  1.96s/it]\u001B[A\u001B[A\n",
      "\n",
      "Crawling:  28%|██▊       | 278/1000 [10:12<22:21,  1.86s/it]\u001B[A\u001B[A\n",
      "\n",
      "Crawling:  28%|██▊       | 279/1000 [10:13<21:25,  1.78s/it]\u001B[A\u001B[A\n",
      "\n",
      "Crawling:  28%|██▊       | 280/1000 [10:15<20:14,  1.69s/it]\u001B[A\u001B[A\n",
      "\n",
      "Crawling:  28%|██▊       | 281/1000 [10:16<19:53,  1.66s/it]\u001B[A\u001B[A\n",
      "\n",
      "Crawling:  28%|██▊       | 282/1000 [10:18<19:45,  1.65s/it]\u001B[A\u001B[A\n",
      "\n",
      "Crawling:  28%|██▊       | 283/1000 [10:20<20:17,  1.70s/it]\u001B[A\u001B[A\n",
      "\n",
      "Crawling:  28%|██▊       | 284/1000 [10:22<20:49,  1.74s/it]\u001B[A\u001B[A\n",
      "\n",
      "Crawling:  28%|██▊       | 285/1000 [10:23<19:58,  1.68s/it]\u001B[A\u001B[A\n",
      "\n",
      "Crawling:  29%|██▊       | 286/1000 [10:25<19:56,  1.68s/it]\u001B[A\u001B[A\n",
      "\n",
      "Crawling:  29%|██▊       | 287/1000 [10:26<19:26,  1.64s/it]\u001B[A\u001B[A\n",
      "\n",
      "Crawling:  29%|██▉       | 288/1000 [10:28<19:29,  1.64s/it]\u001B[A\u001B[A\n",
      "\n",
      "Crawling:  29%|██▉       | 289/1000 [10:29<19:12,  1.62s/it]\u001B[A\u001B[A\n",
      "\n",
      "Crawling:  29%|██▉       | 290/1000 [10:32<21:36,  1.83s/it]\u001B[A\u001B[A\n",
      "\n",
      "Crawling:  29%|██▉       | 291/1000 [10:34<24:24,  2.07s/it]\u001B[A\u001B[A\n",
      "\n",
      "Crawling:  29%|██▉       | 292/1000 [10:36<23:43,  2.01s/it]\u001B[A\u001B[A\n",
      "\n",
      "Crawling:  29%|██▉       | 293/1000 [10:39<25:54,  2.20s/it]\u001B[A\u001B[A\n",
      "\n",
      "Crawling:  29%|██▉       | 294/1000 [10:42<27:58,  2.38s/it]\u001B[A\u001B[A\n",
      "\n",
      "Crawling:  30%|██▉       | 295/1000 [10:43<25:37,  2.18s/it]\u001B[A\u001B[A\n",
      "\n",
      "Crawling:  30%|██▉       | 296/1000 [10:46<26:56,  2.30s/it]\u001B[A\u001B[A\n",
      "\n",
      "Crawling:  30%|██▉       | 297/1000 [10:48<24:33,  2.10s/it]\u001B[A\u001B[A\n",
      "\n",
      "Crawling:  30%|██▉       | 298/1000 [10:49<23:35,  2.02s/it]\u001B[A\u001B[A\n",
      "\n",
      "Crawling:  30%|██▉       | 299/1000 [10:51<22:44,  1.95s/it]\u001B[A\u001B[A\n",
      "\n",
      "Crawling:  30%|███       | 300/1000 [10:53<22:07,  1.90s/it]\u001B[A\u001B[A\n",
      "\n",
      "Crawling:  30%|███       | 301/1000 [10:55<20:46,  1.78s/it]\u001B[A\u001B[A\n",
      "\n",
      "Crawling:  30%|███       | 302/1000 [10:56<20:45,  1.78s/it]\u001B[A\u001B[A\n",
      "\n",
      "Crawling:  30%|███       | 303/1000 [10:58<21:00,  1.81s/it]\u001B[A\u001B[A\n",
      "\n",
      "Crawling:  30%|███       | 304/1000 [11:00<21:30,  1.85s/it]\u001B[A\u001B[A\n",
      "\n",
      "Crawling:  30%|███       | 305/1000 [11:02<20:08,  1.74s/it]\u001B[A\u001B[A\n",
      "\n",
      "Crawling:  31%|███       | 306/1000 [11:03<19:43,  1.71s/it]\u001B[A\u001B[A\n",
      "\n",
      "Crawling:  31%|███       | 307/1000 [11:05<20:56,  1.81s/it]\u001B[A\u001B[A\n",
      "\n",
      "Crawling:  31%|███       | 308/1000 [11:07<20:16,  1.76s/it]\u001B[A\u001B[A\n",
      "\n",
      "Crawling:  31%|███       | 309/1000 [11:09<20:10,  1.75s/it]\u001B[A\u001B[A\n",
      "\n",
      "Crawling:  31%|███       | 310/1000 [11:10<20:06,  1.75s/it]\u001B[A\u001B[A\n",
      "\n",
      "Crawling:  31%|███       | 311/1000 [11:12<20:30,  1.79s/it]\u001B[A\u001B[A\n",
      "\n",
      "Crawling:  31%|███       | 312/1000 [11:14<20:48,  1.81s/it]\u001B[A\u001B[A\n",
      "\n",
      "Crawling:  31%|███▏      | 313/1000 [11:16<21:21,  1.87s/it]\u001B[A\u001B[A\n",
      "\n",
      "Crawling:  31%|███▏      | 314/1000 [11:18<21:18,  1.86s/it]\u001B[A\u001B[A\n",
      "\n",
      "Crawling:  32%|███▏      | 315/1000 [11:20<20:42,  1.81s/it]\u001B[A\u001B[A\n",
      "\n",
      "Crawling:  32%|███▏      | 316/1000 [11:22<20:31,  1.80s/it]\u001B[A\u001B[A\n",
      "\n",
      "Crawling:  32%|███▏      | 317/1000 [11:24<21:13,  1.86s/it]\u001B[A\u001B[A\n",
      "\n",
      "Crawling:  32%|███▏      | 318/1000 [11:25<20:33,  1.81s/it]\u001B[A\u001B[A\n",
      "\n",
      "Crawling:  32%|███▏      | 319/1000 [11:27<19:16,  1.70s/it]\u001B[A\u001B[A\n",
      "\n",
      "Crawling:  32%|███▏      | 320/1000 [11:28<19:45,  1.74s/it]\u001B[A\u001B[A\n",
      "\n",
      "Crawling:  32%|███▏      | 321/1000 [11:30<20:31,  1.81s/it]\u001B[A\u001B[A\n",
      "\n",
      "Crawling:  32%|███▏      | 322/1000 [11:32<19:40,  1.74s/it]\u001B[A\u001B[A\n",
      "\n",
      "Crawling:  32%|███▏      | 323/1000 [11:34<19:18,  1.71s/it]\u001B[A\u001B[A\n",
      "\n",
      "Crawling:  32%|███▏      | 324/1000 [11:36<19:46,  1.76s/it]\u001B[A\u001B[A\n",
      "\n",
      "Crawling:  32%|███▎      | 325/1000 [11:37<18:41,  1.66s/it]\u001B[A\u001B[A\n",
      "\n",
      "Crawling:  33%|███▎      | 326/1000 [11:39<18:25,  1.64s/it]\u001B[A\u001B[A\n",
      "\n",
      "Crawling:  33%|███▎      | 327/1000 [11:40<18:44,  1.67s/it]\u001B[A\u001B[A\n",
      "\n",
      "Crawling:  33%|███▎      | 328/1000 [11:42<18:22,  1.64s/it]\u001B[A\u001B[A\n",
      "\n",
      "Crawling:  33%|███▎      | 329/1000 [11:43<17:48,  1.59s/it]\u001B[A\u001B[A\n",
      "\n",
      "Crawling:  33%|███▎      | 330/1000 [11:45<17:53,  1.60s/it]\u001B[A\u001B[A\n",
      "\n",
      "Crawling:  33%|███▎      | 331/1000 [11:46<17:31,  1.57s/it]\u001B[A\u001B[A\n",
      "\n",
      "Crawling:  33%|███▎      | 332/1000 [11:48<18:31,  1.66s/it]\u001B[A\u001B[A\n",
      "\n",
      "Crawling:  33%|███▎      | 333/1000 [11:50<18:34,  1.67s/it]\u001B[A\u001B[A\n",
      "\n",
      "Crawling:  33%|███▎      | 334/1000 [11:52<17:58,  1.62s/it]\u001B[A\u001B[A\n",
      "\n",
      "Crawling:  34%|███▎      | 335/1000 [11:53<18:39,  1.68s/it]\u001B[A\u001B[A\n",
      "\n",
      "Crawling:  34%|███▎      | 336/1000 [11:55<18:09,  1.64s/it]\u001B[A\u001B[A\n",
      "\n",
      "Crawling:  34%|███▎      | 337/1000 [11:57<18:00,  1.63s/it]\u001B[A\u001B[A\n",
      "\n",
      "Crawling:  34%|███▍      | 338/1000 [11:58<18:28,  1.67s/it]\u001B[A\u001B[A\n",
      "\n",
      "Crawling:  34%|███▍      | 339/1000 [12:00<18:15,  1.66s/it]\u001B[A\u001B[A\n",
      "\n",
      "Crawling:  34%|███▍      | 340/1000 [12:01<17:52,  1.62s/it]\u001B[A\u001B[A\n",
      "\n",
      "Crawling:  34%|███▍      | 341/1000 [12:03<18:26,  1.68s/it]\u001B[A\u001B[A\n",
      "\n",
      "Crawling:  34%|███▍      | 342/1000 [12:05<18:37,  1.70s/it]\u001B[A\u001B[A\n",
      "\n",
      "Crawling:  34%|███▍      | 343/1000 [12:07<19:28,  1.78s/it]\u001B[A\u001B[A\n",
      "\n",
      "Crawling:  34%|███▍      | 344/1000 [12:09<19:32,  1.79s/it]\u001B[A\u001B[A\n",
      "\n",
      "Crawling:  34%|███▍      | 345/1000 [12:11<19:20,  1.77s/it]\u001B[A\u001B[A\n",
      "\n",
      "Crawling:  35%|███▍      | 346/1000 [12:12<18:45,  1.72s/it]\u001B[A\u001B[A\n",
      "\n",
      "Crawling:  35%|███▍      | 347/1000 [12:14<17:57,  1.65s/it]\u001B[A\u001B[A\n",
      "\n",
      "Crawling:  35%|███▍      | 348/1000 [12:15<18:00,  1.66s/it]\u001B[A\u001B[A\n",
      "\n",
      "Crawling:  35%|███▍      | 349/1000 [12:17<18:27,  1.70s/it]\u001B[A\u001B[A\n",
      "\n",
      "Crawling:  35%|███▌      | 350/1000 [12:19<17:58,  1.66s/it]\u001B[A\u001B[A\n",
      "\n",
      "Crawling:  35%|███▌      | 351/1000 [12:20<17:17,  1.60s/it]\u001B[A\u001B[A\n",
      "\n",
      "Crawling:  35%|███▌      | 352/1000 [12:22<18:01,  1.67s/it]\u001B[A\u001B[A\n",
      "\n",
      "Crawling:  35%|███▌      | 353/1000 [12:23<16:53,  1.57s/it]\u001B[A\u001B[A\n",
      "\n",
      "Crawling:  35%|███▌      | 354/1000 [12:25<16:18,  1.51s/it]\u001B[A\u001B[A\n",
      "\n",
      "Crawling:  36%|███▌      | 355/1000 [12:26<16:58,  1.58s/it]\u001B[A\u001B[A\n",
      "\n",
      "Crawling:  36%|███▌      | 356/1000 [12:28<17:10,  1.60s/it]\u001B[A\u001B[A\n",
      "\n",
      "Crawling:  36%|███▌      | 357/1000 [12:30<16:57,  1.58s/it]\u001B[A\u001B[A\n",
      "\n",
      "Crawling:  36%|███▌      | 358/1000 [12:31<17:56,  1.68s/it]\u001B[A\u001B[A\n",
      "\n",
      "Crawling:  36%|███▌      | 359/1000 [12:33<18:22,  1.72s/it]\u001B[A\u001B[A\n",
      "\n",
      "Crawling:  36%|███▌      | 360/1000 [12:35<18:08,  1.70s/it]\u001B[A\u001B[A\n",
      "\n",
      "Crawling:  36%|███▌      | 361/1000 [12:37<18:40,  1.75s/it]\u001B[A\u001B[A\n",
      "\n",
      "Crawling:  36%|███▌      | 362/1000 [12:39<18:47,  1.77s/it]\u001B[A\u001B[A\n",
      "\n",
      "Crawling:  36%|███▋      | 363/1000 [12:40<19:01,  1.79s/it]\u001B[A\u001B[A\n",
      "\n",
      "Crawling:  36%|███▋      | 364/1000 [12:42<19:33,  1.85s/it]\u001B[A\u001B[A\n",
      "\n",
      "Crawling:  36%|███▋      | 365/1000 [12:44<18:09,  1.72s/it]\u001B[A\u001B[A\n",
      "\n",
      "Crawling:  37%|███▋      | 366/1000 [12:45<17:38,  1.67s/it]\u001B[A\u001B[A\n",
      "\n",
      "Crawling:  37%|███▋      | 367/1000 [12:47<17:47,  1.69s/it]\u001B[A\u001B[A\n",
      "\n",
      "Crawling:  37%|███▋      | 368/1000 [12:49<18:23,  1.75s/it]\u001B[A\u001B[A\n",
      "\n",
      "Crawling:  37%|███▋      | 369/1000 [12:51<18:00,  1.71s/it]\u001B[A\u001B[A\n",
      "\n",
      "Crawling:  37%|███▋      | 370/1000 [12:53<18:31,  1.76s/it]\u001B[A\u001B[A\n",
      "\n",
      "Crawling:  37%|███▋      | 371/1000 [12:54<17:49,  1.70s/it]\u001B[A\u001B[A\n",
      "\n",
      "Crawling:  37%|███▋      | 372/1000 [12:56<18:17,  1.75s/it]\u001B[A\u001B[A\n",
      "\n",
      "Crawling:  37%|███▋      | 373/1000 [12:58<18:41,  1.79s/it]\u001B[A\u001B[A\n",
      "\n",
      "Crawling:  37%|███▋      | 374/1000 [13:00<18:18,  1.75s/it]\u001B[A\u001B[A\n",
      "\n",
      "Crawling:  38%|███▊      | 375/1000 [13:01<18:08,  1.74s/it]\u001B[A\u001B[A\n",
      "\n",
      "Crawling:  38%|███▊      | 376/1000 [13:03<18:38,  1.79s/it]\u001B[A\u001B[A\n",
      "\n",
      "Crawling:  38%|███▊      | 377/1000 [13:05<18:23,  1.77s/it]\u001B[A\u001B[A\n",
      "\n",
      "Crawling:  38%|███▊      | 378/1000 [13:07<18:23,  1.77s/it]\u001B[A\u001B[A\n",
      "\n",
      "Crawling:  38%|███▊      | 379/1000 [13:08<18:16,  1.77s/it]\u001B[A\u001B[A\n",
      "\n",
      "Crawling:  38%|███▊      | 380/1000 [13:10<18:37,  1.80s/it]\u001B[A\u001B[A\n",
      "\n",
      "Crawling:  38%|███▊      | 381/1000 [13:12<17:42,  1.72s/it]\u001B[A\u001B[A\n",
      "\n",
      "Crawling:  38%|███▊      | 382/1000 [13:14<17:39,  1.71s/it]\u001B[A\u001B[A\n",
      "\n",
      "Crawling:  38%|███▊      | 383/1000 [13:15<17:54,  1.74s/it]\u001B[A\u001B[A\n",
      "\n",
      "Crawling:  38%|███▊      | 384/1000 [13:17<18:33,  1.81s/it]\u001B[A\u001B[A\n",
      "\n",
      "Crawling:  38%|███▊      | 385/1000 [13:20<21:07,  2.06s/it]\u001B[A\u001B[A\n",
      "\n",
      "Crawling:  39%|███▊      | 386/1000 [13:23<23:08,  2.26s/it]\u001B[A\u001B[A\n",
      "\n",
      "Crawling:  39%|███▊      | 387/1000 [13:25<23:35,  2.31s/it]\u001B[A\u001B[A\n",
      "\n",
      "Crawling:  39%|███▉      | 388/1000 [13:28<24:36,  2.41s/it]\u001B[A\u001B[A\n",
      "\n",
      "Crawling:  39%|███▉      | 389/1000 [13:31<25:43,  2.53s/it]\u001B[A\u001B[A\n",
      "\n",
      "Crawling:  39%|███▉      | 390/1000 [13:33<26:11,  2.58s/it]\u001B[A\u001B[A\n",
      "\n",
      "Crawling:  39%|███▉      | 391/1000 [13:36<26:43,  2.63s/it]\u001B[A\u001B[A\n",
      "\n",
      "Crawling:  39%|███▉      | 392/1000 [13:39<26:47,  2.64s/it]\u001B[A\u001B[A\n",
      "\n",
      "Crawling:  39%|███▉      | 393/1000 [13:40<24:08,  2.39s/it]\u001B[A\u001B[A\n",
      "\n",
      "Crawling:  39%|███▉      | 394/1000 [13:42<20:51,  2.07s/it]\u001B[A\u001B[A\n",
      "\n",
      "Crawling:  40%|███▉      | 395/1000 [13:43<19:37,  1.95s/it]\u001B[A\u001B[A\n",
      "\n",
      "Crawling:  40%|███▉      | 396/1000 [13:46<21:48,  2.17s/it]\u001B[A\u001B[A\n",
      "\n",
      "Crawling:  40%|███▉      | 397/1000 [13:49<22:25,  2.23s/it]\u001B[A\u001B[A\n",
      "\n",
      "Crawling:  40%|███▉      | 398/1000 [13:50<21:00,  2.09s/it]\u001B[A\u001B[A\n",
      "\n",
      "Crawling:  40%|███▉      | 399/1000 [13:53<22:33,  2.25s/it]\u001B[A\u001B[A\n",
      "\n",
      "Crawling:  40%|████      | 400/1000 [13:56<24:00,  2.40s/it]\u001B[A\u001B[A\n",
      "\n",
      "Crawling:  40%|████      | 401/1000 [13:58<25:08,  2.52s/it]\u001B[A\u001B[A\n",
      "\n",
      "Crawling:  40%|████      | 402/1000 [14:01<24:56,  2.50s/it]\u001B[A\u001B[A\n",
      "\n",
      "Crawling:  40%|████      | 403/1000 [14:04<25:37,  2.58s/it]\u001B[A\u001B[A\n",
      "\n",
      "Crawling:  40%|████      | 404/1000 [14:06<25:30,  2.57s/it]\u001B[A\u001B[A\n",
      "\n",
      "Crawling:  40%|████      | 405/1000 [14:09<26:09,  2.64s/it]\u001B[A\u001B[A\n",
      "\n",
      "Crawling:  41%|████      | 406/1000 [14:12<26:43,  2.70s/it]\u001B[A\u001B[A\n",
      "\n",
      "Crawling:  41%|████      | 407/1000 [14:15<26:49,  2.71s/it]\u001B[A\u001B[A\n",
      "\n",
      "Crawling:  41%|████      | 408/1000 [14:18<27:57,  2.83s/it]\u001B[A\u001B[A\n",
      "\n",
      "Crawling:  41%|████      | 409/1000 [14:20<27:33,  2.80s/it]\u001B[A\u001B[A\n",
      "\n",
      "Crawling:  41%|████      | 410/1000 [14:23<26:16,  2.67s/it]\u001B[A\u001B[A\n",
      "\n",
      "Crawling:  41%|████      | 411/1000 [14:26<26:20,  2.68s/it]\u001B[A\u001B[A\n",
      "\n",
      "Crawling:  41%|████      | 412/1000 [14:28<26:34,  2.71s/it]\u001B[A\u001B[A\n",
      "\n",
      "Crawling:  41%|████▏     | 413/1000 [14:31<26:11,  2.68s/it]\u001B[A\u001B[A\n",
      "\n",
      "Crawling:  41%|████▏     | 414/1000 [14:34<26:22,  2.70s/it]\u001B[A\u001B[A\n",
      "\n",
      "Crawling:  42%|████▏     | 415/1000 [14:36<25:27,  2.61s/it]\u001B[A\u001B[A\n",
      "\n",
      "Crawling:  42%|████▏     | 416/1000 [14:38<24:37,  2.53s/it]\u001B[A\u001B[A\n",
      "\n",
      "Crawling:  42%|████▏     | 417/1000 [14:41<24:20,  2.51s/it]\u001B[A\u001B[A\n",
      "\n",
      "Crawling:  42%|████▏     | 418/1000 [14:42<21:36,  2.23s/it]\u001B[A\u001B[A/Users/wnowogorski/PycharmProjects/ChatAGH_DataCollecting/.venv/lib/python3.12/site-packages/bs4/__init__.py:476: XMLParsedAsHTMLWarning: It looks like you're using an HTML parser to parse an XML document.\n",
      "\n",
      "Assuming this really is an XML document, what you're doing might work, but you should know that using an XML parser will be more reliable. To parse this document as XML, make sure you have the Python package 'lxml' installed, and pass the keyword argument `features=\"xml\"` into the BeautifulSoup constructor.\n",
      "\n",
      "If you want or need to use an HTML parser on this document, you can make this warning go away by filtering it. To do that, run this code before calling the BeautifulSoup constructor:\n",
      "\n",
      "    from bs4 import XMLParsedAsHTMLWarning\n",
      "    import warnings\n",
      "\n",
      "    warnings.filterwarnings(\"ignore\", category=XMLParsedAsHTMLWarning)\n",
      "\n",
      "  self._feed()\n",
      "\n",
      "\n",
      "Crawling:  42%|████▏     | 419/1000 [14:44<19:23,  2.00s/it]\u001B[A\u001B[A\n",
      "\n",
      "Crawling:  42%|████▏     | 420/1000 [14:46<18:37,  1.93s/it]\u001B[A\u001B[A\n",
      "\n",
      "Crawling:  42%|████▏     | 421/1000 [14:47<17:19,  1.79s/it]\u001B[A\u001B[A\n",
      "\n",
      "Crawling:  42%|████▏     | 422/1000 [14:49<16:06,  1.67s/it]\u001B[A\u001B[A\n",
      "\n",
      "Crawling:  42%|████▏     | 423/1000 [14:50<15:24,  1.60s/it]\u001B[A\u001B[A\n",
      "\n",
      "Crawling:  42%|████▏     | 424/1000 [14:51<14:48,  1.54s/it]\u001B[A\u001B[A\n",
      "\n",
      "Crawling:  42%|████▎     | 425/1000 [14:53<14:10,  1.48s/it]\u001B[A\u001B[A\n",
      "\n",
      "Crawling:  43%|████▎     | 426/1000 [14:54<13:31,  1.41s/it]\u001B[A\u001B[A\n",
      "\n",
      "Crawling:  43%|████▎     | 427/1000 [14:56<14:15,  1.49s/it]\u001B[A\u001B[A\n",
      "\n",
      "Crawling:  43%|████▎     | 428/1000 [14:57<14:53,  1.56s/it]\u001B[A\u001B[A\n",
      "\n",
      "Crawling:  43%|████▎     | 429/1000 [14:59<14:39,  1.54s/it]\u001B[A\u001B[A\n",
      "\n",
      "Crawling:  43%|████▎     | 430/1000 [15:00<14:56,  1.57s/it]\u001B[A\u001B[A\n",
      "\n",
      "Crawling:  43%|████▎     | 431/1000 [15:02<14:15,  1.50s/it]\u001B[A\u001B[A\n",
      "\n",
      "Crawling:  43%|████▎     | 432/1000 [15:03<13:47,  1.46s/it]\u001B[A\u001B[A\n",
      "\n",
      "Crawling:  43%|████▎     | 433/1000 [15:05<13:51,  1.47s/it]\u001B[A\u001B[A\n",
      "\n",
      "Crawling:  43%|████▎     | 434/1000 [15:06<13:55,  1.48s/it]\u001B[A\u001B[A\n",
      "\n",
      "Crawling:  44%|████▎     | 435/1000 [15:08<14:01,  1.49s/it]\u001B[A\u001B[A\n",
      "\n",
      "Crawling:  44%|████▎     | 436/1000 [15:09<14:11,  1.51s/it]\u001B[A\u001B[A\n",
      "\n",
      "Crawling:  44%|████▎     | 437/1000 [15:11<14:53,  1.59s/it]\u001B[A\u001B[A\n",
      "\n",
      "Crawling:  44%|████▍     | 438/1000 [15:13<15:03,  1.61s/it]\u001B[A\u001B[A\n",
      "\n",
      "Crawling:  44%|████▍     | 439/1000 [15:14<15:18,  1.64s/it]\u001B[A\u001B[A\n",
      "\n",
      "Crawling:  44%|████▍     | 440/1000 [15:16<15:36,  1.67s/it]\u001B[A\u001B[A\n",
      "\n",
      "Crawling:  44%|████▍     | 441/1000 [15:18<15:17,  1.64s/it]\u001B[A\u001B[A\n",
      "\n",
      "Crawling:  44%|████▍     | 442/1000 [15:19<15:26,  1.66s/it]\u001B[A\u001B[A\n",
      "\n",
      "Crawling:  44%|████▍     | 443/1000 [15:21<15:06,  1.63s/it]\u001B[A\u001B[A\n",
      "\n",
      "Crawling:  44%|████▍     | 444/1000 [15:23<15:19,  1.65s/it]\u001B[A\u001B[A\n",
      "\n",
      "Crawling:  44%|████▍     | 445/1000 [15:24<14:29,  1.57s/it]\u001B[A\u001B[A\n",
      "\n",
      "Crawling:  45%|████▍     | 446/1000 [15:25<13:45,  1.49s/it]\u001B[A\u001B[A\n",
      "\n",
      "Crawling:  45%|████▍     | 447/1000 [15:27<13:56,  1.51s/it]\u001B[A\u001B[A\n",
      "\n",
      "Crawling:  45%|████▍     | 448/1000 [15:28<13:25,  1.46s/it]\u001B[A\u001B[A\n",
      "\n",
      "Crawling:  45%|████▍     | 449/1000 [15:30<13:37,  1.48s/it]\u001B[A\u001B[A\n",
      "\n",
      "Crawling:  45%|████▌     | 450/1000 [15:31<13:20,  1.45s/it]\u001B[A\u001B[A\n",
      "\n",
      "Crawling:  45%|████▌     | 451/1000 [15:33<13:50,  1.51s/it]\u001B[A\u001B[A\n",
      "\n",
      "Crawling:  45%|████▌     | 452/1000 [15:34<13:35,  1.49s/it]\u001B[A\u001B[A\n",
      "\n",
      "Crawling:  45%|████▌     | 453/1000 [15:36<13:01,  1.43s/it]\u001B[A\u001B[A\n",
      "\n",
      "Crawling:  45%|████▌     | 454/1000 [15:37<13:31,  1.49s/it]\u001B[A\u001B[A\n",
      "\n",
      "Crawling:  46%|████▌     | 455/1000 [15:39<13:15,  1.46s/it]\u001B[A\u001B[A\n",
      "\n",
      "Crawling:  46%|████▌     | 456/1000 [15:40<13:40,  1.51s/it]\u001B[A\u001B[A\n",
      "\n",
      "Crawling:  46%|████▌     | 457/1000 [15:42<13:36,  1.50s/it]\u001B[A\u001B[A\n",
      "\n",
      "Crawling:  46%|████▌     | 458/1000 [15:43<13:41,  1.52s/it]\u001B[A\u001B[A\n",
      "\n",
      "Crawling:  46%|████▌     | 459/1000 [15:45<13:10,  1.46s/it]\u001B[A\u001B[A\n",
      "\n",
      "Crawling:  46%|████▌     | 460/1000 [15:46<12:54,  1.43s/it]\u001B[A\u001B[A\n",
      "\n",
      "Crawling:  46%|████▌     | 461/1000 [15:48<14:14,  1.59s/it]\u001B[A\u001B[A\n",
      "\n",
      "Crawling:  46%|████▌     | 462/1000 [15:50<14:28,  1.61s/it]\u001B[A\u001B[A\n",
      "\n",
      "Crawling:  46%|████▋     | 463/1000 [15:51<14:34,  1.63s/it]\u001B[A\u001B[A\n",
      "\n",
      "Crawling:  46%|████▋     | 464/1000 [15:53<14:49,  1.66s/it]\u001B[A\u001B[A\n",
      "\n",
      "Crawling:  46%|████▋     | 465/1000 [15:54<13:55,  1.56s/it]\u001B[A\u001B[A\n",
      "\n",
      "Crawling:  47%|████▋     | 466/1000 [15:56<13:53,  1.56s/it]\u001B[A\u001B[A\n",
      "\n",
      "Crawling:  47%|████▋     | 467/1000 [15:58<14:28,  1.63s/it]\u001B[A\u001B[A\n",
      "\n",
      "Crawling:  47%|████▋     | 468/1000 [15:59<14:07,  1.59s/it]\u001B[A\u001B[A\n",
      "\n",
      "Crawling:  47%|████▋     | 469/1000 [16:01<13:39,  1.54s/it]\u001B[A\u001B[A\n",
      "\n",
      "Crawling:  47%|████▋     | 470/1000 [16:02<14:06,  1.60s/it]\u001B[A\u001B[A\n",
      "\n",
      "Crawling:  47%|████▋     | 471/1000 [16:04<13:52,  1.57s/it]\u001B[A\u001B[A\n",
      "\n",
      "Crawling:  47%|████▋     | 472/1000 [16:05<13:55,  1.58s/it]\u001B[A\u001B[A\n",
      "\n",
      "Crawling:  47%|████▋     | 473/1000 [16:07<14:46,  1.68s/it]\u001B[A\u001B[A\n",
      "\n",
      "Crawling:  47%|████▋     | 474/1000 [16:09<15:20,  1.75s/it]\u001B[A\u001B[A\n",
      "\n",
      "Crawling:  48%|████▊     | 475/1000 [16:12<18:07,  2.07s/it]\u001B[A\u001B[A\n",
      "\n",
      "Crawling:  48%|████▊     | 476/1000 [16:15<19:11,  2.20s/it]\u001B[A\u001B[A\n",
      "\n",
      "Crawling:  48%|████▊     | 477/1000 [16:17<20:05,  2.30s/it]\u001B[A\u001B[A\n",
      "\n",
      "Crawling:  48%|████▊     | 478/1000 [16:20<20:59,  2.41s/it]\u001B[A\u001B[A\n",
      "\n",
      "Crawling:  48%|████▊     | 479/1000 [16:21<18:58,  2.18s/it]\u001B[A\u001B[A\n",
      "\n",
      "Crawling:  48%|████▊     | 480/1000 [16:23<16:55,  1.95s/it]\u001B[A\u001B[A\n",
      "\n",
      "Crawling:  48%|████▊     | 481/1000 [16:25<16:47,  1.94s/it]\u001B[A\u001B[A\n",
      "\n",
      "Crawling:  48%|████▊     | 482/1000 [16:27<18:00,  2.09s/it]\u001B[A\u001B[A\n",
      "\n",
      "Crawling:  48%|████▊     | 483/1000 [16:30<19:32,  2.27s/it]\u001B[A\u001B[A\n",
      "\n",
      "Crawling:  48%|████▊     | 484/1000 [16:32<20:00,  2.33s/it]\u001B[A\u001B[A\n",
      "\n",
      "Crawling:  48%|████▊     | 485/1000 [16:35<20:16,  2.36s/it]\u001B[A\u001B[A\n",
      "\n",
      "Crawling:  49%|████▊     | 486/1000 [16:37<18:47,  2.19s/it]\u001B[A\u001B[A\n",
      "\n",
      "Crawling:  49%|████▊     | 487/1000 [16:38<17:19,  2.03s/it]\u001B[A\u001B[A\n",
      "\n",
      "Crawling:  49%|████▉     | 488/1000 [16:40<15:53,  1.86s/it]\u001B[A\u001B[A\n",
      "\n",
      "Crawling:  49%|████▉     | 489/1000 [16:41<15:34,  1.83s/it]\u001B[A\u001B[A\n",
      "\n",
      "Crawling:  49%|████▉     | 490/1000 [16:43<15:35,  1.83s/it]\u001B[A\u001B[A\n",
      "\n",
      "Crawling:  49%|████▉     | 491/1000 [16:45<14:55,  1.76s/it]\u001B[A\u001B[A\n",
      "\n",
      "Crawling:  49%|████▉     | 492/1000 [16:46<14:17,  1.69s/it]\u001B[A\u001B[A\n",
      "\n",
      "Crawling:  49%|████▉     | 493/1000 [16:48<14:51,  1.76s/it]\u001B[A\u001B[A\n",
      "\n",
      "Crawling:  49%|████▉     | 494/1000 [16:51<17:42,  2.10s/it]\u001B[A\u001B[A\n",
      "\n",
      "Crawling:  50%|████▉     | 495/1000 [16:53<16:24,  1.95s/it]\u001B[A\u001B[A\n",
      "\n",
      "Crawling:  50%|████▉     | 496/1000 [16:54<15:31,  1.85s/it]\u001B[A\u001B[A\n",
      "\n",
      "Crawling:  50%|████▉     | 497/1000 [16:56<14:38,  1.75s/it]\u001B[A\u001B[A\n",
      "\n",
      "Crawling:  50%|████▉     | 498/1000 [16:58<14:49,  1.77s/it]\u001B[A\u001B[A\n",
      "\n",
      "Crawling:  50%|████▉     | 499/1000 [17:00<15:15,  1.83s/it]\u001B[A\u001B[A\n",
      "\n",
      "Crawling:  50%|█████     | 500/1000 [17:02<15:28,  1.86s/it]\u001B[A\u001B[A\n",
      "\n",
      "Crawling:  50%|█████     | 501/1000 [17:03<14:33,  1.75s/it]\u001B[A\u001B[A\n",
      "\n",
      "Crawling:  50%|█████     | 502/1000 [17:05<13:55,  1.68s/it]\u001B[A\u001B[A\n",
      "\n",
      "Crawling:  50%|█████     | 503/1000 [17:06<14:11,  1.71s/it]\u001B[A\u001B[A\n",
      "\n",
      "Crawling:  50%|█████     | 504/1000 [17:08<14:51,  1.80s/it]\u001B[A\u001B[A\n",
      "\n",
      "Crawling:  50%|█████     | 505/1000 [17:10<14:57,  1.81s/it]\u001B[A\u001B[A\n",
      "\n",
      "Crawling:  51%|█████     | 506/1000 [17:12<14:19,  1.74s/it]\u001B[A\u001B[A\n",
      "\n",
      "Crawling:  51%|█████     | 507/1000 [17:13<13:57,  1.70s/it]\u001B[A\u001B[A\n",
      "\n",
      "Crawling:  51%|█████     | 508/1000 [17:15<14:19,  1.75s/it]\u001B[A\u001B[A\n",
      "\n",
      "Crawling:  51%|█████     | 509/1000 [17:17<14:18,  1.75s/it]\u001B[A\u001B[A\n",
      "\n",
      "Crawling:  51%|█████     | 510/1000 [17:20<16:40,  2.04s/it]\u001B[A\u001B[A\n",
      "\n",
      "Crawling:  51%|█████     | 511/1000 [17:22<17:36,  2.16s/it]\u001B[A\u001B[A\n",
      "\n",
      "Crawling:  51%|█████     | 512/1000 [17:25<19:06,  2.35s/it]\u001B[A\u001B[A\n",
      "\n",
      "Crawling:  51%|█████▏    | 513/1000 [17:28<20:05,  2.48s/it]\u001B[A\u001B[A\n",
      "\n",
      "Crawling:  51%|█████▏    | 514/1000 [17:30<18:27,  2.28s/it]\u001B[A\u001B[A\n",
      "\n",
      "Crawling:  52%|█████▏    | 515/1000 [17:31<17:11,  2.13s/it]\u001B[A\u001B[A\n",
      "\n",
      "Crawling:  52%|█████▏    | 516/1000 [17:33<15:39,  1.94s/it]\u001B[A\u001B[A\n",
      "\n",
      "Crawling:  52%|█████▏    | 517/1000 [17:34<14:50,  1.84s/it]\u001B[A\u001B[A\n",
      "\n",
      "Crawling:  52%|█████▏    | 518/1000 [17:36<14:55,  1.86s/it]\u001B[A\u001B[A\n",
      "\n",
      "Crawling:  52%|█████▏    | 519/1000 [17:38<13:57,  1.74s/it]\u001B[A\u001B[A\n",
      "\n",
      "Crawling:  52%|█████▏    | 520/1000 [17:40<13:44,  1.72s/it]\u001B[A\u001B[A\n",
      "\n",
      "Crawling:  52%|█████▏    | 521/1000 [17:41<13:31,  1.69s/it]\u001B[A\u001B[A\n",
      "\n",
      "Crawling:  52%|█████▏    | 522/1000 [17:44<16:00,  2.01s/it]\u001B[A\u001B[A\n",
      "\n",
      "Crawling:  52%|█████▏    | 523/1000 [17:47<17:49,  2.24s/it]\u001B[A\u001B[A\n",
      "\n",
      "Crawling:  52%|█████▏    | 524/1000 [17:48<16:33,  2.09s/it]\u001B[A\u001B[A\n",
      "\n",
      "Crawling:  52%|█████▎    | 525/1000 [17:50<15:53,  2.01s/it]\u001B[A\u001B[A\n",
      "\n",
      "Crawling:  53%|█████▎    | 526/1000 [17:52<15:18,  1.94s/it]\u001B[A\u001B[A\n",
      "\n",
      "Crawling:  53%|█████▎    | 527/1000 [17:54<14:42,  1.86s/it]\u001B[A\u001B[A\n",
      "\n",
      "Crawling:  53%|█████▎    | 528/1000 [17:55<14:22,  1.83s/it]\u001B[A\u001B[A\n",
      "\n",
      "Crawling:  53%|█████▎    | 529/1000 [17:57<14:35,  1.86s/it]\u001B[A\u001B[A\n",
      "\n",
      "Crawling:  53%|█████▎    | 530/1000 [17:59<14:30,  1.85s/it]\u001B[A\u001B[A\n",
      "\n",
      "Crawling:  53%|█████▎    | 531/1000 [18:01<14:43,  1.88s/it]\u001B[A\u001B[A\n",
      "\n",
      "Crawling:  53%|█████▎    | 532/1000 [18:04<16:00,  2.05s/it]\u001B[A\u001B[A\n",
      "\n",
      "Crawling:  53%|█████▎    | 533/1000 [18:06<17:21,  2.23s/it]\u001B[A\u001B[A\n",
      "\n",
      "Crawling:  53%|█████▎    | 534/1000 [18:09<18:18,  2.36s/it]\u001B[A\u001B[A\n",
      "\n",
      "Crawling:  54%|█████▎    | 535/1000 [18:11<16:40,  2.15s/it]\u001B[A\u001B[A\n",
      "\n",
      "Crawling:  54%|█████▎    | 536/1000 [18:12<15:48,  2.04s/it]\u001B[A\u001B[A\n",
      "\n",
      "Crawling:  54%|█████▎    | 537/1000 [18:14<14:21,  1.86s/it]\u001B[A\u001B[A\n",
      "\n",
      "Crawling:  54%|█████▍    | 538/1000 [18:16<14:14,  1.85s/it]\u001B[A\u001B[A\n",
      "\n",
      "Crawling:  54%|█████▍    | 539/1000 [18:17<13:51,  1.80s/it]\u001B[A\u001B[A\n",
      "\n",
      "Crawling:  54%|█████▍    | 540/1000 [18:19<13:44,  1.79s/it]\u001B[A\u001B[A\n",
      "\n",
      "Crawling:  54%|█████▍    | 541/1000 [18:21<13:29,  1.76s/it]\u001B[A\u001B[A\n",
      "\n",
      "Crawling:  54%|█████▍    | 542/1000 [18:23<13:30,  1.77s/it]\u001B[A\u001B[A\n",
      "\n",
      "Crawling:  54%|█████▍    | 543/1000 [18:24<13:05,  1.72s/it]\u001B[A\u001B[A\n",
      "\n",
      "Crawling:  54%|█████▍    | 544/1000 [18:26<13:20,  1.76s/it]\u001B[A\u001B[A\n",
      "\n",
      "Crawling:  55%|█████▍    | 545/1000 [18:28<12:58,  1.71s/it]\u001B[A\u001B[A\n",
      "\n",
      "Crawling:  55%|█████▍    | 546/1000 [18:29<13:09,  1.74s/it]\u001B[A\u001B[A\n",
      "\n",
      "Crawling:  55%|█████▍    | 547/1000 [18:31<12:50,  1.70s/it]\u001B[A\u001B[A\n",
      "\n",
      "Crawling:  55%|█████▍    | 548/1000 [18:33<13:17,  1.76s/it]\u001B[A\u001B[A\n",
      "\n",
      "Crawling:  55%|█████▍    | 549/1000 [18:34<12:38,  1.68s/it]\u001B[A\u001B[A\n",
      "\n",
      "Crawling:  55%|█████▌    | 550/1000 [18:36<12:42,  1.69s/it]\u001B[A\u001B[A\n",
      "\n",
      "Crawling:  55%|█████▌    | 551/1000 [18:38<12:09,  1.63s/it]\u001B[A\u001B[A\n",
      "\n",
      "Crawling:  55%|█████▌    | 552/1000 [18:39<12:12,  1.64s/it]\u001B[A\u001B[A\n",
      "\n",
      "Crawling:  55%|█████▌    | 553/1000 [18:42<14:41,  1.97s/it]\u001B[A\u001B[A\n",
      "\n",
      "Crawling:  55%|█████▌    | 554/1000 [18:44<13:34,  1.83s/it]\u001B[A\u001B[A\n",
      "\n",
      "Crawling:  56%|█████▌    | 555/1000 [18:45<12:43,  1.72s/it]\u001B[A\u001B[A\n",
      "\n",
      "Crawling:  56%|█████▌    | 556/1000 [18:47<12:33,  1.70s/it]\u001B[A\u001B[A\n",
      "\n",
      "Crawling:  56%|█████▌    | 557/1000 [18:49<12:53,  1.75s/it]\u001B[A\u001B[A\n",
      "\n",
      "Crawling:  56%|█████▌    | 558/1000 [18:50<12:49,  1.74s/it]\u001B[A\u001B[A\n",
      "\n",
      "Crawling:  56%|█████▌    | 559/1000 [18:52<11:58,  1.63s/it]\u001B[A\u001B[A\n",
      "\n",
      "Crawling:  56%|█████▌    | 560/1000 [18:53<11:39,  1.59s/it]\u001B[A\u001B[A\n",
      "\n",
      "Crawling:  56%|█████▌    | 561/1000 [18:55<11:53,  1.63s/it]\u001B[A\u001B[A\n",
      "\n",
      "Crawling:  56%|█████▌    | 562/1000 [18:56<11:24,  1.56s/it]\u001B[A\u001B[A\n",
      "\n",
      "Crawling:  56%|█████▋    | 563/1000 [18:58<11:56,  1.64s/it]\u001B[A\u001B[A\n",
      "\n",
      "Crawling:  56%|█████▋    | 564/1000 [19:00<11:55,  1.64s/it]\u001B[A\u001B[A\n",
      "\n",
      "Crawling:  56%|█████▋    | 565/1000 [19:01<12:11,  1.68s/it]\u001B[A\u001B[A\n",
      "\n",
      "Crawling:  57%|█████▋    | 566/1000 [19:03<11:36,  1.60s/it]\u001B[A\u001B[A\n",
      "\n",
      "Crawling:  57%|█████▋    | 567/1000 [19:04<11:13,  1.56s/it]\u001B[A\u001B[A\n",
      "\n",
      "Crawling:  57%|█████▋    | 568/1000 [19:06<11:50,  1.64s/it]\u001B[A\u001B[A\n",
      "\n",
      "Crawling:  57%|█████▋    | 569/1000 [19:08<12:13,  1.70s/it]\u001B[A\u001B[A\n",
      "\n",
      "Crawling:  57%|█████▋    | 570/1000 [19:10<12:02,  1.68s/it]\u001B[A\u001B[A\n",
      "\n",
      "Crawling:  57%|█████▋    | 571/1000 [19:11<11:59,  1.68s/it]\u001B[A\u001B[A\n",
      "\n",
      "Crawling:  57%|█████▋    | 572/1000 [19:13<12:00,  1.68s/it]\u001B[A\u001B[A\n",
      "\n",
      "Crawling:  57%|█████▋    | 573/1000 [19:16<13:53,  1.95s/it]\u001B[A\u001B[A\n",
      "\n",
      "Crawling:  57%|█████▋    | 574/1000 [19:17<13:40,  1.93s/it]\u001B[A\u001B[A\n",
      "\n",
      "Crawling:  57%|█████▊    | 575/1000 [19:19<13:14,  1.87s/it]\u001B[A\u001B[A\n",
      "\n",
      "Crawling:  58%|█████▊    | 576/1000 [19:21<12:25,  1.76s/it]\u001B[A\u001B[A\n",
      "\n",
      "Crawling:  58%|█████▊    | 577/1000 [19:23<12:37,  1.79s/it]\u001B[A\u001B[A\n",
      "\n",
      "Crawling:  58%|█████▊    | 578/1000 [19:24<11:45,  1.67s/it]\u001B[A\u001B[A\n",
      "\n",
      "Crawling:  58%|█████▊    | 579/1000 [19:25<11:26,  1.63s/it]\u001B[A\u001B[A\n",
      "\n",
      "Crawling:  58%|█████▊    | 580/1000 [19:28<13:46,  1.97s/it]\u001B[A\u001B[A\n",
      "\n",
      "Crawling:  58%|█████▊    | 581/1000 [19:31<14:52,  2.13s/it]\u001B[A\u001B[A\n",
      "\n",
      "Crawling:  58%|█████▊    | 582/1000 [19:34<16:14,  2.33s/it]\u001B[A\u001B[A\n",
      "\n",
      "Crawling:  58%|█████▊    | 583/1000 [19:36<16:34,  2.38s/it]\u001B[A\u001B[A\n",
      "\n",
      "Crawling:  58%|█████▊    | 584/1000 [19:38<14:43,  2.12s/it]\u001B[A\u001B[A\n",
      "\n",
      "Crawling:  58%|█████▊    | 585/1000 [19:40<15:57,  2.31s/it]\u001B[A\u001B[A\n",
      "\n",
      "Crawling:  59%|█████▊    | 586/1000 [19:43<16:49,  2.44s/it]\u001B[A\u001B[A\n",
      "\n",
      "Crawling:  59%|█████▊    | 587/1000 [19:45<16:38,  2.42s/it]\u001B[A\u001B[A\n",
      "\n",
      "Crawling:  59%|█████▉    | 588/1000 [19:47<15:11,  2.21s/it]\u001B[A\u001B[A\n",
      "\n",
      "Crawling:  59%|█████▉    | 589/1000 [19:49<14:25,  2.11s/it]\u001B[A\u001B[A\n",
      "\n",
      "Crawling:  59%|█████▉    | 590/1000 [19:51<13:27,  1.97s/it]\u001B[A\u001B[A\n",
      "\n",
      "Crawling:  59%|█████▉    | 591/1000 [19:52<12:43,  1.87s/it]\u001B[A\u001B[A\n",
      "\n",
      "Crawling:  59%|█████▉    | 592/1000 [19:54<11:47,  1.74s/it]\u001B[A\u001B[A\n",
      "\n",
      "Crawling:  59%|█████▉    | 593/1000 [19:56<12:05,  1.78s/it]\u001B[A\u001B[A\n",
      "\n",
      "Crawling:  59%|█████▉    | 594/1000 [19:58<13:57,  2.06s/it]\u001B[A\u001B[A\n",
      "\n",
      "Crawling:  60%|█████▉    | 595/1000 [20:01<15:16,  2.26s/it]\u001B[A\u001B[A\n",
      "\n",
      "Crawling:  60%|█████▉    | 596/1000 [20:04<15:42,  2.33s/it]\u001B[A\u001B[A\n",
      "\n",
      "Crawling:  60%|█████▉    | 597/1000 [20:06<16:36,  2.47s/it]\u001B[A\u001B[A\n",
      "\n",
      "Crawling:  60%|█████▉    | 598/1000 [20:08<14:33,  2.17s/it]\u001B[A\u001B[A\n",
      "\n",
      "Crawling:  60%|█████▉    | 599/1000 [20:09<13:03,  1.95s/it]\u001B[A\u001B[A\n",
      "\n",
      "Crawling:  60%|██████    | 600/1000 [20:11<12:17,  1.84s/it]\u001B[A\u001B[A\n",
      "\n",
      "Crawling:  60%|██████    | 601/1000 [20:13<11:50,  1.78s/it]\u001B[A\u001B[A\n",
      "\n",
      "Crawling:  60%|██████    | 602/1000 [20:15<13:10,  1.99s/it]\u001B[A\u001B[A\n",
      "\n",
      "Crawling:  60%|██████    | 603/1000 [20:17<12:37,  1.91s/it]\u001B[A\u001B[A\n",
      "\n",
      "Crawling:  60%|██████    | 604/1000 [20:19<13:57,  2.12s/it]\u001B[A\u001B[A\n",
      "\n",
      "Crawling:  60%|██████    | 605/1000 [20:21<12:35,  1.91s/it]\u001B[A\u001B[A\n",
      "\n",
      "Crawling:  61%|██████    | 606/1000 [20:22<12:05,  1.84s/it]\u001B[A\u001B[A\n",
      "\n",
      "Crawling:  61%|██████    | 607/1000 [20:24<11:38,  1.78s/it]\u001B[A\u001B[A\n",
      "\n",
      "Crawling:  61%|██████    | 608/1000 [20:26<11:27,  1.75s/it]\u001B[A\u001B[A\n",
      "\n",
      "Crawling:  61%|██████    | 609/1000 [20:27<10:45,  1.65s/it]\u001B[A\u001B[A\n",
      "\n",
      "Crawling:  61%|██████    | 610/1000 [20:28<08:12,  1.26s/it]\u001B[A\u001B[A"
     ]
    },
    {
     "name": "stdout",
     "output_type": "stream",
     "text": [
      "Error crawling https://iet.agh.edu.pl/wp-content/uploads/2024/02/7.webp: The markup you provided was rejected by the parser. Trying a different parser or a different encoding may help.\n",
      "\n",
      "Original exception(s) from parser:\n",
      " AssertionError: expected name token at '<![_Ѡ)6��0|��ţN/�.��'\n"
     ]
    },
    {
     "name": "stderr",
     "output_type": "stream",
     "text": [
      "\n",
      "\n",
      "Crawling:  61%|██████    | 611/1000 [20:29<08:49,  1.36s/it]\u001B[A\u001B[A\n",
      "\n",
      "Crawling:  61%|██████    | 612/1000 [20:32<11:34,  1.79s/it]\u001B[A\u001B[A\n",
      "\n",
      "Crawling:  61%|██████▏   | 613/1000 [20:33<11:05,  1.72s/it]\u001B[A\u001B[A\n",
      "\n",
      "Crawling:  61%|██████▏   | 614/1000 [20:35<10:56,  1.70s/it]\u001B[A\u001B[A\n",
      "\n",
      "Crawling:  62%|██████▏   | 615/1000 [20:37<10:49,  1.69s/it]\u001B[A\u001B[A\n",
      "\n",
      "Crawling:  62%|██████▏   | 616/1000 [20:39<10:56,  1.71s/it]\u001B[A\u001B[A\n",
      "\n",
      "Crawling:  62%|██████▏   | 617/1000 [20:40<10:38,  1.67s/it]\u001B[A\u001B[A\n",
      "\n",
      "Crawling:  62%|██████▏   | 618/1000 [20:42<10:51,  1.71s/it]\u001B[A\u001B[A\n",
      "\n",
      "Crawling:  62%|██████▏   | 619/1000 [20:44<10:42,  1.69s/it]\u001B[A\u001B[A\n",
      "\n",
      "Crawling:  62%|██████▏   | 620/1000 [20:45<11:02,  1.74s/it]\u001B[A\u001B[A\n",
      "\n",
      "Crawling:  62%|██████▏   | 621/1000 [20:47<10:48,  1.71s/it]\u001B[A\u001B[A\n",
      "\n",
      "Crawling:  62%|██████▏   | 622/1000 [20:49<10:52,  1.73s/it]\u001B[A\u001B[A\n",
      "\n",
      "Crawling:  62%|██████▏   | 623/1000 [20:50<10:26,  1.66s/it]\u001B[A\u001B[A\n",
      "\n",
      "Crawling:  62%|██████▏   | 624/1000 [20:52<10:50,  1.73s/it]\u001B[A\u001B[A\n",
      "\n",
      "Crawling:  62%|██████▎   | 625/1000 [20:54<10:59,  1.76s/it]\u001B[A\u001B[A\n",
      "\n",
      "Crawling:  63%|██████▎   | 626/1000 [20:55<10:21,  1.66s/it]\u001B[A\u001B[A\n",
      "\n",
      "Crawling:  63%|██████▎   | 627/1000 [20:57<10:23,  1.67s/it]\u001B[A\u001B[A\n",
      "\n",
      "Crawling:  63%|██████▎   | 628/1000 [21:00<12:49,  2.07s/it]\u001B[A\u001B[A\n",
      "\n",
      "Crawling:  63%|██████▎   | 629/1000 [21:03<13:47,  2.23s/it]\u001B[A\u001B[A\n",
      "\n",
      "Crawling:  63%|██████▎   | 630/1000 [21:05<14:01,  2.27s/it]\u001B[A\u001B[A\n",
      "\n",
      "Crawling:  63%|██████▎   | 631/1000 [21:07<12:59,  2.11s/it]\u001B[A\u001B[A\n",
      "\n",
      "Crawling:  63%|██████▎   | 632/1000 [21:09<12:07,  1.98s/it]\u001B[A\u001B[A\n",
      "\n",
      "Crawling:  63%|██████▎   | 633/1000 [21:10<11:22,  1.86s/it]\u001B[A\u001B[A\n",
      "\n",
      "Crawling:  63%|██████▎   | 634/1000 [21:12<11:13,  1.84s/it]\u001B[A\u001B[A\n",
      "\n",
      "Crawling:  64%|██████▎   | 635/1000 [21:14<10:56,  1.80s/it]\u001B[A\u001B[A\n",
      "\n",
      "Crawling:  64%|██████▎   | 636/1000 [21:15<10:18,  1.70s/it]\u001B[A\u001B[A\n",
      "\n",
      "Crawling:  64%|██████▎   | 637/1000 [21:17<10:20,  1.71s/it]\u001B[A\u001B[A\n",
      "\n",
      "Crawling:  64%|██████▍   | 638/1000 [21:18<10:09,  1.68s/it]\u001B[A\u001B[A\n",
      "\n",
      "Crawling:  64%|██████▍   | 639/1000 [21:21<11:42,  1.95s/it]\u001B[A\u001B[A\n",
      "\n",
      "Crawling:  64%|██████▍   | 640/1000 [21:23<11:27,  1.91s/it]\u001B[A\u001B[A\n",
      "\n",
      "Crawling:  64%|██████▍   | 641/1000 [21:25<11:23,  1.90s/it]\u001B[A\u001B[A\n",
      "\n",
      "Crawling:  64%|██████▍   | 642/1000 [21:26<10:30,  1.76s/it]\u001B[A\u001B[A\n",
      "\n",
      "Crawling:  64%|██████▍   | 643/1000 [21:28<09:54,  1.66s/it]\u001B[A\u001B[A\n",
      "\n",
      "Crawling:  64%|██████▍   | 644/1000 [21:29<09:40,  1.63s/it]\u001B[A\u001B[A\n",
      "\n",
      "Crawling:  64%|██████▍   | 645/1000 [21:31<09:50,  1.66s/it]\u001B[A\u001B[A\n",
      "\n",
      "Crawling:  65%|██████▍   | 646/1000 [21:33<11:22,  1.93s/it]\u001B[A\u001B[A\n",
      "\n",
      "Crawling:  65%|██████▍   | 647/1000 [21:36<12:37,  2.15s/it]\u001B[A\u001B[A\n",
      "\n",
      "Crawling:  65%|██████▍   | 648/1000 [21:39<13:23,  2.28s/it]\u001B[A\u001B[A\n",
      "\n",
      "Crawling:  65%|██████▍   | 649/1000 [21:42<14:20,  2.45s/it]\u001B[A\u001B[A\n",
      "\n",
      "Crawling:  65%|██████▌   | 650/1000 [21:44<14:41,  2.52s/it]\u001B[A\u001B[A\n",
      "\n",
      "Crawling:  65%|██████▌   | 651/1000 [21:47<14:38,  2.52s/it]\u001B[A\u001B[A\n",
      "\n",
      "Crawling:  65%|██████▌   | 652/1000 [21:48<12:55,  2.23s/it]\u001B[A\u001B[A\n",
      "\n",
      "Crawling:  65%|██████▌   | 653/1000 [21:50<11:33,  2.00s/it]\u001B[A\u001B[A\n",
      "\n",
      "Crawling:  65%|██████▌   | 654/1000 [21:51<11:08,  1.93s/it]\u001B[A\u001B[A\n",
      "\n",
      "Crawling:  66%|██████▌   | 655/1000 [21:53<10:56,  1.90s/it]\u001B[A\u001B[A\n",
      "\n",
      "Crawling:  66%|██████▌   | 656/1000 [21:55<10:21,  1.81s/it]\u001B[A\u001B[A\n",
      "\n",
      "Crawling:  66%|██████▌   | 657/1000 [21:57<10:02,  1.76s/it]\u001B[A\u001B[A\n",
      "\n",
      "Crawling:  66%|██████▌   | 658/1000 [21:58<09:57,  1.75s/it]\u001B[A\u001B[A\n",
      "\n",
      "Crawling:  66%|██████▌   | 659/1000 [22:00<09:30,  1.67s/it]\u001B[A\u001B[A\n",
      "\n",
      "Crawling:  66%|██████▌   | 660/1000 [22:02<10:32,  1.86s/it]\u001B[A\u001B[A\n",
      "\n",
      "Crawling:  66%|██████▌   | 661/1000 [22:05<11:34,  2.05s/it]\u001B[A\u001B[A\n",
      "\n",
      "Crawling:  66%|██████▌   | 662/1000 [22:07<12:43,  2.26s/it]\u001B[A\u001B[A\n",
      "\n",
      "Crawling:  66%|██████▋   | 663/1000 [22:10<13:11,  2.35s/it]\u001B[A\u001B[A\n",
      "\n",
      "Crawling:  66%|██████▋   | 664/1000 [22:12<12:19,  2.20s/it]\u001B[A\u001B[A\n",
      "\n",
      "Crawling:  66%|██████▋   | 665/1000 [22:14<12:39,  2.27s/it]\u001B[A\u001B[A\n",
      "\n",
      "Crawling:  67%|██████▋   | 666/1000 [22:17<13:22,  2.40s/it]\u001B[A\u001B[A\n",
      "\n",
      "Crawling:  67%|██████▋   | 667/1000 [22:20<13:49,  2.49s/it]\u001B[A\u001B[A\n",
      "\n",
      "Crawling:  67%|██████▋   | 668/1000 [22:22<14:07,  2.55s/it]\u001B[A\u001B[A\n",
      "\n",
      "Crawling:  67%|██████▋   | 669/1000 [22:25<13:47,  2.50s/it]\u001B[A\u001B[A\n",
      "\n",
      "Crawling:  67%|██████▋   | 670/1000 [22:27<13:51,  2.52s/it]\u001B[A\u001B[A\n",
      "\n",
      "Crawling:  67%|██████▋   | 671/1000 [22:30<14:08,  2.58s/it]\u001B[A\u001B[A\n",
      "\n",
      "Crawling:  67%|██████▋   | 672/1000 [22:32<13:50,  2.53s/it]\u001B[A\u001B[A\n",
      "\n",
      "Crawling:  67%|██████▋   | 673/1000 [22:35<13:47,  2.53s/it]\u001B[A\u001B[A\n",
      "\n",
      "Crawling:  67%|██████▋   | 674/1000 [22:37<12:40,  2.33s/it]\u001B[A\u001B[A\n",
      "\n",
      "Crawling:  68%|██████▊   | 675/1000 [22:40<13:22,  2.47s/it]\u001B[A\u001B[A\n",
      "\n",
      "Crawling:  68%|██████▊   | 676/1000 [22:41<11:43,  2.17s/it]\u001B[A\u001B[A\n",
      "\n",
      "Crawling:  68%|██████▊   | 677/1000 [22:42<10:26,  1.94s/it]\u001B[A\u001B[A\n",
      "\n",
      "Crawling:  68%|██████▊   | 678/1000 [22:44<09:31,  1.77s/it]\u001B[A\u001B[A\n",
      "\n",
      "Crawling:  68%|██████▊   | 679/1000 [22:45<09:15,  1.73s/it]\u001B[A\u001B[A\n",
      "\n",
      "Crawling:  68%|██████▊   | 680/1000 [22:48<10:43,  2.01s/it]\u001B[A\u001B[A\n",
      "\n",
      "Crawling:  68%|██████▊   | 681/1000 [22:51<11:53,  2.24s/it]\u001B[A\u001B[A\n",
      "\n",
      "Crawling:  68%|██████▊   | 682/1000 [22:54<12:47,  2.41s/it]\u001B[A\u001B[A\n",
      "\n",
      "Crawling:  68%|██████▊   | 683/1000 [22:56<13:23,  2.54s/it]\u001B[A\u001B[A\n",
      "\n",
      "Crawling:  68%|██████▊   | 684/1000 [22:59<13:42,  2.60s/it]\u001B[A\u001B[A\n",
      "\n",
      "Crawling:  68%|██████▊   | 685/1000 [23:02<13:48,  2.63s/it]\u001B[A\u001B[A\n",
      "\n",
      "Crawling:  69%|██████▊   | 686/1000 [23:05<13:54,  2.66s/it]\u001B[A\u001B[A\n",
      "\n",
      "Crawling:  69%|██████▊   | 687/1000 [23:07<13:43,  2.63s/it]\u001B[A\u001B[A\n",
      "\n",
      "Crawling:  69%|██████▉   | 688/1000 [23:10<13:59,  2.69s/it]\u001B[A\u001B[A\n",
      "\n",
      "Crawling:  69%|██████▉   | 689/1000 [23:13<13:33,  2.62s/it]\u001B[A\u001B[A\n",
      "\n",
      "Crawling:  69%|██████▉   | 690/1000 [23:14<11:39,  2.26s/it]\u001B[A\u001B[A\n",
      "\n",
      "Crawling:  69%|██████▉   | 691/1000 [23:15<10:12,  1.98s/it]\u001B[A\u001B[A\n",
      "\n",
      "Crawling:  69%|██████▉   | 692/1000 [23:18<11:16,  2.20s/it]\u001B[A\u001B[A\n",
      "\n",
      "Crawling:  69%|██████▉   | 693/1000 [23:20<11:38,  2.27s/it]\u001B[A\u001B[A\n",
      "\n",
      "Crawling:  69%|██████▉   | 694/1000 [23:23<11:42,  2.30s/it]\u001B[A\u001B[A\n",
      "\n",
      "Crawling:  70%|██████▉   | 695/1000 [23:24<10:45,  2.12s/it]\u001B[A\u001B[A\n",
      "\n",
      "Crawling:  70%|██████▉   | 696/1000 [23:26<09:54,  1.95s/it]\u001B[A\u001B[A\n",
      "\n",
      "Crawling:  70%|██████▉   | 697/1000 [23:28<09:22,  1.86s/it]\u001B[A\u001B[A\n",
      "\n",
      "Crawling:  70%|██████▉   | 698/1000 [23:29<08:43,  1.73s/it]\u001B[A\u001B[A\n",
      "\n",
      "Crawling:  70%|██████▉   | 699/1000 [23:31<08:20,  1.66s/it]\u001B[A\u001B[A\n",
      "\n",
      "Crawling:  70%|███████   | 700/1000 [23:32<08:14,  1.65s/it]\u001B[A\u001B[A\n",
      "\n",
      "Crawling:  70%|███████   | 701/1000 [23:35<09:55,  1.99s/it]\u001B[A\u001B[A\n",
      "\n",
      "Crawling:  70%|███████   | 702/1000 [23:38<10:40,  2.15s/it]\u001B[A\u001B[A\n",
      "\n",
      "Crawling:  70%|███████   | 703/1000 [23:39<09:54,  2.00s/it]\u001B[A\u001B[A\n",
      "\n",
      "Crawling:  70%|███████   | 704/1000 [23:41<08:58,  1.82s/it]\u001B[A\u001B[A\n",
      "\n",
      "Crawling:  70%|███████   | 705/1000 [23:42<08:32,  1.74s/it]\u001B[A\u001B[A\n",
      "\n",
      "Crawling:  71%|███████   | 706/1000 [23:44<08:04,  1.65s/it]\u001B[A\u001B[A\n",
      "\n",
      "Crawling:  71%|███████   | 707/1000 [23:45<07:56,  1.63s/it]\u001B[A\u001B[A\n",
      "\n",
      "Crawling:  71%|███████   | 708/1000 [23:47<08:00,  1.65s/it]\u001B[A\u001B[A\n",
      "\n",
      "Crawling:  71%|███████   | 709/1000 [23:50<09:37,  1.99s/it]\u001B[A\u001B[A\n",
      "\n",
      "Crawling:  71%|███████   | 710/1000 [23:52<10:15,  2.12s/it]\u001B[A\u001B[A\n",
      "\n",
      "Crawling:  71%|███████   | 711/1000 [23:55<10:48,  2.24s/it]\u001B[A\u001B[A\n",
      "\n",
      "Crawling:  71%|███████   | 712/1000 [23:57<11:11,  2.33s/it]\u001B[A\u001B[A\n",
      "\n",
      "Crawling:  71%|███████▏  | 713/1000 [24:00<11:32,  2.41s/it]\u001B[A\u001B[A\n",
      "\n",
      "Crawling:  71%|███████▏  | 714/1000 [24:02<11:52,  2.49s/it]\u001B[A\u001B[A\n",
      "\n",
      "Crawling:  72%|███████▏  | 715/1000 [24:05<11:50,  2.49s/it]\u001B[A\u001B[A\n",
      "\n",
      "Crawling:  72%|███████▏  | 716/1000 [24:07<11:50,  2.50s/it]\u001B[A\u001B[A\n",
      "\n",
      "Crawling:  72%|███████▏  | 717/1000 [24:09<10:23,  2.20s/it]\u001B[A\u001B[A\n",
      "\n",
      "Crawling:  72%|███████▏  | 718/1000 [24:11<09:38,  2.05s/it]\u001B[A\u001B[A\n",
      "\n",
      "Crawling:  72%|███████▏  | 719/1000 [24:12<08:55,  1.91s/it]\u001B[A\u001B[A\n",
      "\n",
      "Crawling:  72%|███████▏  | 720/1000 [24:14<08:45,  1.88s/it]\u001B[A\u001B[A\n",
      "\n",
      "Crawling:  72%|███████▏  | 721/1000 [24:16<08:23,  1.80s/it]\u001B[A\u001B[A\n",
      "\n",
      "Crawling:  72%|███████▏  | 722/1000 [24:17<08:04,  1.74s/it]\u001B[A\u001B[A\n",
      "\n",
      "Crawling:  72%|███████▏  | 723/1000 [24:19<08:10,  1.77s/it]\u001B[A\u001B[A\n",
      "\n",
      "Crawling:  72%|███████▏  | 724/1000 [24:21<07:52,  1.71s/it]\u001B[A\u001B[A\n",
      "\n",
      "Crawling:  72%|███████▎  | 725/1000 [24:22<07:36,  1.66s/it]\u001B[A\u001B[A\n",
      "\n",
      "Crawling:  73%|███████▎  | 726/1000 [24:24<07:31,  1.65s/it]\u001B[A\u001B[A\n",
      "\n",
      "Crawling:  73%|███████▎  | 727/1000 [24:27<09:11,  2.02s/it]\u001B[A\u001B[A\n",
      "\n",
      "Crawling:  73%|███████▎  | 728/1000 [24:29<09:49,  2.17s/it]\u001B[A\u001B[A\n",
      "\n",
      "Crawling:  73%|███████▎  | 729/1000 [24:32<10:28,  2.32s/it]\u001B[A\u001B[A\n",
      "\n",
      "Crawling:  73%|███████▎  | 730/1000 [24:34<10:44,  2.39s/it]\u001B[A\u001B[A\n",
      "\n",
      "Crawling:  73%|███████▎  | 731/1000 [24:36<09:28,  2.11s/it]\u001B[A\u001B[A\n",
      "\n",
      "Crawling:  73%|███████▎  | 732/1000 [24:38<09:08,  2.05s/it]\u001B[A\u001B[A\n",
      "\n",
      "Crawling:  73%|███████▎  | 733/1000 [24:39<08:26,  1.90s/it]\u001B[A\u001B[A\n",
      "\n",
      "Crawling:  73%|███████▎  | 734/1000 [24:41<08:16,  1.87s/it]\u001B[A\u001B[A\n",
      "\n",
      "Crawling:  74%|███████▎  | 735/1000 [24:43<08:18,  1.88s/it]\u001B[A\u001B[A\n",
      "\n",
      "Crawling:  74%|███████▎  | 736/1000 [24:46<09:03,  2.06s/it]\u001B[A\u001B[A\n",
      "\n",
      "Crawling:  74%|███████▎  | 737/1000 [24:47<08:52,  2.02s/it]\u001B[A\u001B[A\n",
      "\n",
      "Crawling:  74%|███████▍  | 738/1000 [24:50<09:31,  2.18s/it]\u001B[A\u001B[A\n",
      "\n",
      "Crawling:  74%|███████▍  | 739/1000 [24:53<10:03,  2.31s/it]\u001B[A\u001B[A\n",
      "\n",
      "Crawling:  74%|███████▍  | 740/1000 [24:55<10:06,  2.33s/it]\u001B[A\u001B[A\n",
      "\n",
      "Crawling:  74%|███████▍  | 741/1000 [24:58<10:47,  2.50s/it]\u001B[A\u001B[A\n",
      "\n",
      "Crawling:  74%|███████▍  | 742/1000 [25:00<09:43,  2.26s/it]\u001B[A\u001B[A\n",
      "\n",
      "Crawling:  74%|███████▍  | 743/1000 [25:01<09:00,  2.10s/it]\u001B[A\u001B[A\n",
      "\n",
      "Crawling:  74%|███████▍  | 744/1000 [25:05<10:25,  2.44s/it]\u001B[A\u001B[A\n",
      "\n",
      "Crawling:  74%|███████▍  | 745/1000 [25:07<10:29,  2.47s/it]\u001B[A\u001B[A\n",
      "\n",
      "Crawling:  75%|███████▍  | 746/1000 [25:10<10:43,  2.53s/it]\u001B[A\u001B[A\n",
      "\n",
      "Crawling:  75%|███████▍  | 747/1000 [25:12<10:50,  2.57s/it]\u001B[A\u001B[A\n",
      "\n",
      "Crawling:  75%|███████▍  | 748/1000 [25:15<10:35,  2.52s/it]\u001B[A\u001B[A\n",
      "\n",
      "Crawling:  75%|███████▍  | 749/1000 [25:18<10:47,  2.58s/it]\u001B[A\u001B[A\n",
      "\n",
      "Crawling:  75%|███████▌  | 750/1000 [25:20<10:53,  2.61s/it]\u001B[A\u001B[A\n",
      "\n",
      "Crawling:  75%|███████▌  | 751/1000 [25:23<10:30,  2.53s/it]\u001B[A\u001B[A\n",
      "\n",
      "Crawling:  75%|███████▌  | 752/1000 [25:24<09:17,  2.25s/it]\u001B[A\u001B[A\n",
      "\n",
      "Crawling:  75%|███████▌  | 753/1000 [25:26<08:38,  2.10s/it]\u001B[A\u001B[A\n",
      "\n",
      "Crawling:  75%|███████▌  | 754/1000 [25:28<08:09,  1.99s/it]\u001B[A\u001B[A\n",
      "\n",
      "Crawling:  76%|███████▌  | 755/1000 [25:30<08:57,  2.20s/it]\u001B[A\u001B[A\n",
      "\n",
      "Crawling:  76%|███████▌  | 756/1000 [25:33<09:20,  2.30s/it]\u001B[A\u001B[A\n",
      "\n",
      "Crawling:  76%|███████▌  | 757/1000 [25:36<09:42,  2.40s/it]\u001B[A\u001B[A"
     ]
    },
    {
     "name": "stdout",
     "output_type": "stream",
     "text": [
      "Error fetching the URL: HTTPSConnectionPool(host='www.wrss.iet.agh.edu.pl', port=443): Max retries exceeded with url: / (Caused by SSLError(SSLCertVerificationError(1, '[SSL: CERTIFICATE_VERIFY_FAILED] certificate verify failed: unable to get local issuer certificate (_ssl.c:1010)')))\n"
     ]
    },
    {
     "name": "stderr",
     "output_type": "stream",
     "text": [
      "\n",
      "\n",
      "Crawling:  76%|███████▌  | 758/1000 [25:37<08:31,  2.11s/it]\u001B[A\u001B[A\n",
      "\n",
      "Crawling:  76%|███████▌  | 759/1000 [25:39<08:11,  2.04s/it]\u001B[A\u001B[A\n",
      "\n",
      "Crawling:  76%|███████▌  | 760/1000 [25:40<07:28,  1.87s/it]\u001B[A\u001B[A\n",
      "\n",
      "Crawling:  76%|███████▌  | 761/1000 [25:42<07:06,  1.79s/it]\u001B[A\u001B[A\n",
      "\n",
      "Crawling:  76%|███████▌  | 762/1000 [25:43<06:36,  1.66s/it]\u001B[A\u001B[A\n",
      "\n",
      "Crawling:  76%|███████▋  | 763/1000 [25:45<06:48,  1.72s/it]\u001B[A\u001B[A\n",
      "\n",
      "Crawling:  76%|███████▋  | 764/1000 [25:47<06:50,  1.74s/it]\u001B[A\u001B[A\n",
      "\n",
      "Crawling:  76%|███████▋  | 765/1000 [25:48<06:33,  1.67s/it]\u001B[A\u001B[A\n",
      "\n",
      "Crawling:  77%|███████▋  | 766/1000 [25:50<06:20,  1.63s/it]\u001B[A\u001B[A\n",
      "\n",
      "Crawling:  77%|███████▋  | 767/1000 [25:52<06:15,  1.61s/it]\u001B[A\u001B[A\n",
      "\n",
      "Crawling:  77%|███████▋  | 768/1000 [25:53<06:25,  1.66s/it]\u001B[A\u001B[A\n",
      "\n",
      "Crawling:  77%|███████▋  | 769/1000 [25:56<07:31,  1.95s/it]\u001B[A\u001B[A\n",
      "\n",
      "Crawling:  77%|███████▋  | 770/1000 [25:59<08:20,  2.18s/it]\u001B[A\u001B[A\n",
      "\n",
      "Crawling:  77%|███████▋  | 771/1000 [26:01<08:53,  2.33s/it]\u001B[A\u001B[A\n",
      "\n",
      "Crawling:  77%|███████▋  | 772/1000 [26:03<07:49,  2.06s/it]\u001B[A\u001B[A\n",
      "\n",
      "Crawling:  77%|███████▋  | 773/1000 [26:04<07:09,  1.89s/it]\u001B[A\u001B[A\n",
      "\n",
      "Crawling:  77%|███████▋  | 774/1000 [26:06<06:40,  1.77s/it]\u001B[A\u001B[A\n",
      "\n",
      "Crawling:  78%|███████▊  | 775/1000 [26:07<06:20,  1.69s/it]\u001B[A\u001B[A\n",
      "\n",
      "Crawling:  78%|███████▊  | 776/1000 [26:09<06:00,  1.61s/it]\u001B[A\u001B[A\n",
      "\n",
      "Crawling:  78%|███████▊  | 777/1000 [26:11<06:14,  1.68s/it]\u001B[A\u001B[A\n",
      "\n",
      "Crawling:  78%|███████▊  | 778/1000 [26:12<06:12,  1.68s/it]\u001B[A\u001B[A\n",
      "\n",
      "Crawling:  78%|███████▊  | 779/1000 [26:14<06:19,  1.72s/it]\u001B[A\u001B[A\n",
      "\n",
      "Crawling:  78%|███████▊  | 780/1000 [26:16<06:17,  1.72s/it]\u001B[A\u001B[A\n",
      "\n",
      "Crawling:  78%|███████▊  | 781/1000 [26:17<06:16,  1.72s/it]\u001B[A\u001B[A\n",
      "\n",
      "Crawling:  78%|███████▊  | 782/1000 [26:19<05:54,  1.63s/it]\u001B[A\u001B[A\n",
      "\n",
      "Crawling:  78%|███████▊  | 783/1000 [26:20<05:41,  1.58s/it]\u001B[A\u001B[A\n",
      "\n",
      "Crawling:  78%|███████▊  | 784/1000 [26:22<05:56,  1.65s/it]\u001B[A\u001B[A\n",
      "\n",
      "Crawling:  78%|███████▊  | 785/1000 [26:24<05:59,  1.67s/it]\u001B[A\u001B[A\n",
      "\n",
      "Crawling:  79%|███████▊  | 786/1000 [26:25<05:38,  1.58s/it]\u001B[A\u001B[A\n",
      "\n",
      "Crawling:  79%|███████▊  | 787/1000 [26:27<05:35,  1.57s/it]\u001B[A\u001B[A\n",
      "\n",
      "Crawling:  79%|███████▉  | 788/1000 [26:28<05:25,  1.54s/it]\u001B[A\u001B[A\n",
      "\n",
      "Crawling:  79%|███████▉  | 789/1000 [26:30<05:35,  1.59s/it]\u001B[A\u001B[A\n",
      "\n",
      "Crawling:  79%|███████▉  | 790/1000 [26:33<07:07,  2.04s/it]\u001B[A\u001B[A\n",
      "\n",
      "Crawling:  79%|███████▉  | 791/1000 [26:36<07:34,  2.17s/it]\u001B[A\u001B[A\n",
      "\n",
      "Crawling:  79%|███████▉  | 792/1000 [26:38<07:57,  2.30s/it]\u001B[A\u001B[A\n",
      "\n",
      "Crawling:  79%|███████▉  | 793/1000 [26:41<08:15,  2.39s/it]\u001B[A\u001B[A\n",
      "\n",
      "Crawling:  79%|███████▉  | 794/1000 [26:43<08:17,  2.42s/it]\u001B[A\u001B[A\n",
      "\n",
      "Crawling:  80%|███████▉  | 795/1000 [26:45<07:40,  2.24s/it]\u001B[A\u001B[A\n",
      "\n",
      "Crawling:  80%|███████▉  | 796/1000 [26:47<06:57,  2.05s/it]\u001B[A\u001B[A\n",
      "\n",
      "Crawling:  80%|███████▉  | 797/1000 [26:48<06:40,  1.97s/it]\u001B[A\u001B[A\n",
      "\n",
      "Crawling:  80%|███████▉  | 798/1000 [26:50<06:18,  1.87s/it]\u001B[A\u001B[A\n",
      "\n",
      "Crawling:  80%|███████▉  | 799/1000 [26:52<06:04,  1.81s/it]\u001B[A\u001B[A\n",
      "\n",
      "Crawling:  80%|████████  | 800/1000 [26:54<06:44,  2.02s/it]\u001B[A\u001B[A\n",
      "\n",
      "Crawling:  80%|████████  | 801/1000 [26:57<07:25,  2.24s/it]\u001B[A\u001B[A\n",
      "\n",
      "Crawling:  80%|████████  | 802/1000 [27:00<07:46,  2.35s/it]\u001B[A\u001B[A\n",
      "\n",
      "Crawling:  80%|████████  | 803/1000 [27:02<07:57,  2.42s/it]\u001B[A\u001B[A\n",
      "\n",
      "Crawling:  80%|████████  | 804/1000 [27:05<08:08,  2.49s/it]\u001B[A\u001B[A\n",
      "\n",
      "Crawling:  80%|████████  | 805/1000 [27:07<07:20,  2.26s/it]\u001B[A\u001B[A\n",
      "\n",
      "Crawling:  81%|████████  | 806/1000 [27:08<06:36,  2.04s/it]\u001B[A\u001B[A\n",
      "\n",
      "Crawling:  81%|████████  | 807/1000 [27:10<06:08,  1.91s/it]\u001B[A\u001B[A\n",
      "\n",
      "Crawling:  81%|████████  | 808/1000 [27:11<05:50,  1.82s/it]\u001B[A\u001B[A\n",
      "\n",
      "Crawling:  81%|████████  | 809/1000 [27:14<06:49,  2.14s/it]\u001B[A\u001B[A\n",
      "\n",
      "Crawling:  81%|████████  | 810/1000 [27:17<06:58,  2.20s/it]\u001B[A\u001B[A\n",
      "\n",
      "Crawling:  81%|████████  | 811/1000 [27:18<06:39,  2.11s/it]\u001B[A\u001B[A\n",
      "\n",
      "Crawling:  81%|████████  | 812/1000 [27:20<06:07,  1.95s/it]\u001B[A\u001B[A\n",
      "\n",
      "Crawling:  81%|████████▏ | 813/1000 [27:22<05:51,  1.88s/it]\u001B[A\u001B[A\n",
      "\n",
      "Crawling:  81%|████████▏ | 814/1000 [27:24<05:47,  1.87s/it]\u001B[A\u001B[A\n",
      "\n",
      "Crawling:  82%|████████▏ | 815/1000 [27:25<05:42,  1.85s/it]\u001B[A\u001B[A\n",
      "\n",
      "Crawling:  82%|████████▏ | 816/1000 [27:27<05:34,  1.82s/it]\u001B[A\u001B[A\n",
      "\n",
      "Crawling:  82%|████████▏ | 817/1000 [27:29<05:15,  1.72s/it]\u001B[A\u001B[A\n",
      "\n",
      "Crawling:  82%|████████▏ | 818/1000 [27:30<05:17,  1.74s/it]\u001B[A\u001B[A\n",
      "\n",
      "Crawling:  82%|████████▏ | 819/1000 [27:32<05:05,  1.69s/it]\u001B[A\u001B[A\n",
      "\n",
      "Crawling:  82%|████████▏ | 820/1000 [27:34<05:08,  1.71s/it]\u001B[A\u001B[A\n",
      "\n",
      "Crawling:  82%|████████▏ | 821/1000 [27:35<05:02,  1.69s/it]\u001B[A\u001B[A\n",
      "\n",
      "Crawling:  82%|████████▏ | 822/1000 [27:37<04:53,  1.65s/it]\u001B[A\u001B[A\n",
      "\n",
      "Crawling:  82%|████████▏ | 823/1000 [27:39<04:57,  1.68s/it]\u001B[A\u001B[A\n",
      "\n",
      "Crawling:  82%|████████▏ | 824/1000 [27:40<04:43,  1.61s/it]\u001B[A\u001B[A\n",
      "\n",
      "Crawling:  82%|████████▎ | 825/1000 [27:42<04:56,  1.69s/it]\u001B[A\u001B[A\n",
      "\n",
      "Crawling:  83%|████████▎ | 826/1000 [27:44<04:59,  1.72s/it]\u001B[A\u001B[A\n",
      "\n",
      "Crawling:  83%|████████▎ | 827/1000 [27:46<05:37,  1.95s/it]\u001B[A\u001B[A\n",
      "\n",
      "Crawling:  83%|████████▎ | 828/1000 [27:49<06:18,  2.20s/it]\u001B[A\u001B[A\n",
      "\n",
      "Crawling:  83%|████████▎ | 829/1000 [27:52<06:39,  2.34s/it]\u001B[A\u001B[A\n",
      "\n",
      "Crawling:  83%|████████▎ | 830/1000 [27:53<05:56,  2.10s/it]\u001B[A\u001B[A\n",
      "\n",
      "Crawling:  83%|████████▎ | 831/1000 [27:55<05:34,  1.98s/it]\u001B[A\u001B[A\n",
      "\n",
      "Crawling:  83%|████████▎ | 832/1000 [27:56<05:04,  1.81s/it]\u001B[A\u001B[A\n",
      "\n",
      "Crawling:  83%|████████▎ | 833/1000 [27:58<04:43,  1.70s/it]\u001B[A\u001B[A\n",
      "\n",
      "Crawling:  83%|████████▎ | 834/1000 [28:00<04:41,  1.70s/it]\u001B[A\u001B[A\n",
      "\n",
      "Crawling:  84%|████████▎ | 835/1000 [28:01<04:38,  1.69s/it]\u001B[A\u001B[A\n",
      "\n",
      "Crawling:  84%|████████▎ | 836/1000 [28:03<04:41,  1.72s/it]\u001B[A\u001B[A\n",
      "\n",
      "Crawling:  84%|████████▎ | 837/1000 [28:05<04:30,  1.66s/it]\u001B[A\u001B[A\n",
      "\n",
      "Crawling:  84%|████████▍ | 838/1000 [28:06<04:16,  1.59s/it]\u001B[A\u001B[A\n",
      "\n",
      "Crawling:  84%|████████▍ | 839/1000 [28:07<04:05,  1.53s/it]\u001B[A\u001B[A\n",
      "\n",
      "Crawling:  84%|████████▍ | 840/1000 [28:09<04:05,  1.53s/it]\u001B[A\u001B[A\n",
      "\n",
      "Crawling:  84%|████████▍ | 841/1000 [28:10<04:02,  1.53s/it]\u001B[A\u001B[A\n",
      "\n",
      "Crawling:  84%|████████▍ | 842/1000 [28:12<04:07,  1.57s/it]\u001B[A\u001B[A\n",
      "\n",
      "Crawling:  84%|████████▍ | 843/1000 [28:14<04:11,  1.60s/it]\u001B[A\u001B[A\n",
      "\n",
      "Crawling:  84%|████████▍ | 844/1000 [28:15<04:07,  1.59s/it]\u001B[A\u001B[A\n",
      "\n",
      "Crawling:  84%|████████▍ | 845/1000 [28:17<03:59,  1.55s/it]\u001B[A\u001B[A\n",
      "\n",
      "Crawling:  85%|████████▍ | 846/1000 [28:18<03:51,  1.50s/it]\u001B[A\u001B[A\n",
      "\n",
      "Crawling:  85%|████████▍ | 847/1000 [28:20<04:08,  1.62s/it]\u001B[A\u001B[A\n",
      "\n",
      "Crawling:  85%|████████▍ | 848/1000 [28:23<04:55,  1.94s/it]\u001B[A\u001B[A\n",
      "\n",
      "Crawling:  85%|████████▍ | 849/1000 [28:26<05:34,  2.22s/it]\u001B[A\u001B[A\n",
      "\n",
      "Crawling:  85%|████████▌ | 850/1000 [28:28<05:53,  2.36s/it]\u001B[A\u001B[A\n",
      "\n",
      "Crawling:  85%|████████▌ | 851/1000 [28:31<06:04,  2.45s/it]\u001B[A\u001B[A\n",
      "\n",
      "Crawling:  85%|████████▌ | 852/1000 [28:33<05:37,  2.28s/it]\u001B[A\u001B[A\n",
      "\n",
      "Crawling:  85%|████████▌ | 853/1000 [28:34<04:55,  2.01s/it]\u001B[A\u001B[A\n",
      "\n",
      "Crawling:  85%|████████▌ | 854/1000 [28:36<04:24,  1.81s/it]\u001B[A\u001B[A\n",
      "\n",
      "Crawling:  86%|████████▌ | 855/1000 [28:37<04:14,  1.75s/it]\u001B[A\u001B[A\n",
      "\n",
      "Crawling:  86%|████████▌ | 856/1000 [28:40<04:41,  1.96s/it]\u001B[A\u001B[A\n",
      "\n",
      "Crawling:  86%|████████▌ | 857/1000 [28:42<05:02,  2.12s/it]\u001B[A\u001B[A\n",
      "\n",
      "Crawling:  86%|████████▌ | 858/1000 [28:45<05:18,  2.24s/it]\u001B[A\u001B[A\n",
      "\n",
      "Crawling:  86%|████████▌ | 859/1000 [28:47<05:33,  2.37s/it]\u001B[A\u001B[A\n",
      "\n",
      "Crawling:  86%|████████▌ | 860/1000 [28:49<04:59,  2.14s/it]\u001B[A\u001B[A\n",
      "\n",
      "Crawling:  86%|████████▌ | 861/1000 [28:50<04:29,  1.94s/it]\u001B[A\u001B[A\n",
      "\n",
      "Crawling:  86%|████████▌ | 862/1000 [28:52<04:23,  1.91s/it]\u001B[A\u001B[A\n",
      "\n",
      "Crawling:  86%|████████▋ | 863/1000 [28:54<04:15,  1.87s/it]\u001B[A\u001B[A\n",
      "\n",
      "Crawling:  86%|████████▋ | 864/1000 [28:55<03:55,  1.73s/it]\u001B[A\u001B[A\n",
      "\n",
      "Crawling:  86%|████████▋ | 865/1000 [28:58<04:31,  2.01s/it]\u001B[A\u001B[A\n",
      "\n",
      "Crawling:  87%|████████▋ | 866/1000 [29:01<04:56,  2.21s/it]\u001B[A\u001B[A\n",
      "\n",
      "Crawling:  87%|████████▋ | 867/1000 [29:02<04:34,  2.06s/it]\u001B[A\u001B[A\n",
      "\n",
      "Crawling:  87%|████████▋ | 868/1000 [29:04<04:22,  1.99s/it]\u001B[A\u001B[A\n",
      "\n",
      "Crawling:  87%|████████▋ | 869/1000 [29:06<04:04,  1.87s/it]\u001B[A\u001B[A\n",
      "\n",
      "Crawling:  87%|████████▋ | 870/1000 [29:07<03:44,  1.73s/it]\u001B[A\u001B[A\n",
      "\n",
      "Crawling:  87%|████████▋ | 871/1000 [29:09<03:46,  1.75s/it]\u001B[A\u001B[A\n",
      "\n",
      "Crawling:  87%|████████▋ | 872/1000 [29:11<03:35,  1.68s/it]\u001B[A\u001B[A\n",
      "\n",
      "Crawling:  87%|████████▋ | 873/1000 [29:12<03:37,  1.71s/it]\u001B[A\u001B[A\n",
      "\n",
      "Crawling:  87%|████████▋ | 874/1000 [29:14<03:21,  1.60s/it]\u001B[A\u001B[A\n",
      "\n",
      "Crawling:  88%|████████▊ | 875/1000 [29:15<03:21,  1.61s/it]\u001B[A\u001B[A\n",
      "\n",
      "Crawling:  88%|████████▊ | 876/1000 [29:17<03:16,  1.59s/it]\u001B[A\u001B[A\n",
      "\n",
      "Crawling:  88%|████████▊ | 877/1000 [29:19<03:23,  1.65s/it]\u001B[A\u001B[A\n",
      "\n",
      "Crawling:  88%|████████▊ | 878/1000 [29:20<03:25,  1.68s/it]\u001B[A\u001B[A\n",
      "\n",
      "Crawling:  88%|████████▊ | 879/1000 [29:22<03:26,  1.70s/it]\u001B[A\u001B[A\n",
      "\n",
      "Crawling:  88%|████████▊ | 880/1000 [29:25<03:51,  1.93s/it]\u001B[A\u001B[A\n",
      "\n",
      "Crawling:  88%|████████▊ | 881/1000 [29:27<04:18,  2.17s/it]\u001B[A\u001B[A\n",
      "\n",
      "Crawling:  88%|████████▊ | 882/1000 [29:30<04:31,  2.30s/it]\u001B[A\u001B[A\n",
      "\n",
      "Crawling:  88%|████████▊ | 883/1000 [29:33<04:38,  2.38s/it]\u001B[A\u001B[A\n",
      "\n",
      "Crawling:  88%|████████▊ | 884/1000 [29:34<04:11,  2.17s/it]\u001B[A\u001B[A\n",
      "\n",
      "Crawling:  88%|████████▊ | 885/1000 [29:37<04:29,  2.34s/it]\u001B[A\u001B[A\n",
      "\n",
      "Crawling:  89%|████████▊ | 886/1000 [29:39<04:33,  2.40s/it]\u001B[A\u001B[A\n",
      "\n",
      "Crawling:  89%|████████▊ | 887/1000 [29:42<04:32,  2.41s/it]\u001B[A\u001B[A\n",
      "\n",
      "Crawling:  89%|████████▉ | 888/1000 [29:45<04:38,  2.48s/it]\u001B[A\u001B[A\n",
      "\n",
      "Crawling:  89%|████████▉ | 889/1000 [29:47<04:37,  2.50s/it]\u001B[A\u001B[A\n",
      "\n",
      "Crawling:  89%|████████▉ | 890/1000 [29:49<04:11,  2.28s/it]\u001B[A\u001B[A\n",
      "\n",
      "Crawling:  89%|████████▉ | 891/1000 [29:51<03:51,  2.12s/it]\u001B[A\u001B[A\n",
      "\n",
      "Crawling:  89%|████████▉ | 892/1000 [29:52<03:40,  2.04s/it]\u001B[A\u001B[A\n",
      "\n",
      "Crawling:  89%|████████▉ | 893/1000 [29:54<03:23,  1.90s/it]\u001B[A\u001B[A\n",
      "\n",
      "Crawling:  89%|████████▉ | 894/1000 [29:56<03:18,  1.87s/it]\u001B[A\u001B[A\n",
      "\n",
      "Crawling:  90%|████████▉ | 895/1000 [29:58<03:39,  2.09s/it]\u001B[A\u001B[A\n",
      "\n",
      "Crawling:  90%|████████▉ | 896/1000 [30:00<03:30,  2.03s/it]\u001B[A\u001B[A\n",
      "\n",
      "Crawling:  90%|████████▉ | 897/1000 [30:03<03:41,  2.15s/it]\u001B[A\u001B[A\n",
      "\n",
      "Crawling:  90%|████████▉ | 898/1000 [30:06<04:01,  2.37s/it]\u001B[A\u001B[A\n",
      "\n",
      "Crawling:  90%|████████▉ | 899/1000 [30:08<04:02,  2.40s/it]\u001B[A\u001B[A\n",
      "\n",
      "Crawling:  90%|█████████ | 900/1000 [30:11<04:05,  2.46s/it]\u001B[A\u001B[A\n",
      "\n",
      "Crawling:  90%|█████████ | 901/1000 [30:14<04:13,  2.56s/it]\u001B[A\u001B[A\n",
      "\n",
      "Crawling:  90%|█████████ | 902/1000 [30:16<04:13,  2.58s/it]\u001B[A\u001B[A\n",
      "\n",
      "Crawling:  90%|█████████ | 903/1000 [30:19<04:11,  2.59s/it]\u001B[A\u001B[A\n",
      "\n",
      "Crawling:  90%|█████████ | 904/1000 [30:21<04:06,  2.57s/it]\u001B[A\u001B[A\n",
      "\n",
      "Crawling:  90%|█████████ | 905/1000 [30:24<04:04,  2.57s/it]\u001B[A\u001B[A\n",
      "\n",
      "Crawling:  91%|█████████ | 906/1000 [30:26<03:59,  2.55s/it]\u001B[A\u001B[A\n",
      "\n",
      "Crawling:  91%|█████████ | 907/1000 [30:29<03:58,  2.56s/it]\u001B[A\u001B[A\n",
      "\n",
      "Crawling:  91%|█████████ | 908/1000 [30:32<04:04,  2.66s/it]\u001B[A\u001B[A\n",
      "\n",
      "Crawling:  91%|█████████ | 909/1000 [30:35<04:05,  2.70s/it]\u001B[A\u001B[A\n",
      "\n",
      "Crawling:  91%|█████████ | 910/1000 [30:37<04:00,  2.68s/it]\u001B[A\u001B[A\n",
      "\n",
      "Crawling:  91%|█████████ | 911/1000 [30:39<03:21,  2.27s/it]\u001B[A\u001B[A\n",
      "\n",
      "Crawling:  91%|█████████ | 912/1000 [30:40<02:57,  2.02s/it]\u001B[A\u001B[A\n",
      "\n",
      "Crawling:  91%|█████████▏| 913/1000 [30:42<02:48,  1.93s/it]\u001B[A\u001B[A\n",
      "\n",
      "Crawling:  91%|█████████▏| 914/1000 [30:43<02:36,  1.82s/it]\u001B[A\u001B[A\n",
      "\n",
      "Crawling:  92%|█████████▏| 915/1000 [30:45<02:28,  1.74s/it]\u001B[A\u001B[A\n",
      "\n",
      "Crawling:  92%|█████████▏| 916/1000 [30:46<02:15,  1.61s/it]\u001B[A\u001B[A\n",
      "\n",
      "Crawling:  92%|█████████▏| 917/1000 [30:48<02:15,  1.63s/it]\u001B[A\u001B[A\n",
      "\n",
      "Crawling:  92%|█████████▏| 918/1000 [30:50<02:20,  1.71s/it]\u001B[A\u001B[A\n",
      "\n",
      "Crawling:  92%|█████████▏| 919/1000 [30:51<02:18,  1.71s/it]\u001B[A\u001B[A\n",
      "\n",
      "Crawling:  92%|█████████▏| 920/1000 [30:53<02:13,  1.67s/it]\u001B[A\u001B[A\n",
      "\n",
      "Crawling:  92%|█████████▏| 921/1000 [30:56<02:31,  1.92s/it]\u001B[A\u001B[A\n",
      "\n",
      "Crawling:  92%|█████████▏| 922/1000 [30:57<02:25,  1.86s/it]\u001B[A\u001B[A\n",
      "\n",
      "Crawling:  92%|█████████▏| 923/1000 [30:59<02:18,  1.80s/it]\u001B[A\u001B[A\n",
      "\n",
      "Crawling:  92%|█████████▏| 924/1000 [31:01<02:16,  1.79s/it]\u001B[A\u001B[A\n",
      "\n",
      "Crawling:  92%|█████████▎| 925/1000 [31:03<02:17,  1.83s/it]\u001B[A\u001B[A\n",
      "\n",
      "Crawling:  93%|█████████▎| 926/1000 [31:04<02:08,  1.73s/it]\u001B[A\u001B[A\n",
      "\n",
      "Crawling:  93%|█████████▎| 927/1000 [31:06<02:03,  1.69s/it]\u001B[A\u001B[A\n",
      "\n",
      "Crawling:  93%|█████████▎| 928/1000 [31:07<01:56,  1.62s/it]\u001B[A\u001B[A\n",
      "\n",
      "Crawling:  93%|█████████▎| 929/1000 [31:09<01:53,  1.60s/it]\u001B[A\u001B[A\n",
      "\n",
      "Crawling:  93%|█████████▎| 930/1000 [31:11<02:09,  1.85s/it]\u001B[A\u001B[A\n",
      "\n",
      "Crawling:  93%|█████████▎| 931/1000 [31:13<02:10,  1.89s/it]\u001B[A\u001B[A\n",
      "\n",
      "Crawling:  93%|█████████▎| 932/1000 [31:15<02:11,  1.94s/it]\u001B[A\u001B[A\n",
      "\n",
      "Crawling:  93%|█████████▎| 933/1000 [31:17<02:11,  1.96s/it]\u001B[A\u001B[A\n",
      "\n",
      "Crawling:  93%|█████████▎| 934/1000 [31:19<02:09,  1.96s/it]\u001B[A\u001B[A\n",
      "\n",
      "Crawling:  94%|█████████▎| 935/1000 [31:22<02:17,  2.12s/it]\u001B[A\u001B[A\n",
      "\n",
      "Crawling:  94%|█████████▎| 936/1000 [31:24<02:21,  2.21s/it]\u001B[A\u001B[A\n",
      "\n",
      "Crawling:  94%|█████████▎| 937/1000 [31:27<02:24,  2.29s/it]\u001B[A\u001B[A\n",
      "\n",
      "Crawling:  94%|█████████▍| 938/1000 [31:28<02:10,  2.10s/it]\u001B[A\u001B[A\n",
      "\n",
      "Crawling:  94%|█████████▍| 939/1000 [31:30<01:56,  1.90s/it]\u001B[A\u001B[A\n",
      "\n",
      "Crawling:  94%|█████████▍| 940/1000 [31:31<01:47,  1.79s/it]\u001B[A\u001B[A\n",
      "\n",
      "Crawling:  94%|█████████▍| 941/1000 [31:33<01:45,  1.79s/it]\u001B[A\u001B[A\n",
      "\n",
      "Crawling:  94%|█████████▍| 942/1000 [31:34<01:37,  1.68s/it]\u001B[A\u001B[A\n",
      "\n",
      "Crawling:  94%|█████████▍| 943/1000 [31:36<01:34,  1.65s/it]\u001B[A\u001B[A\n",
      "\n",
      "Crawling:  94%|█████████▍| 944/1000 [31:39<01:49,  1.96s/it]\u001B[A\u001B[A\n",
      "\n",
      "Crawling:  94%|█████████▍| 945/1000 [31:41<01:55,  2.10s/it]\u001B[A\u001B[A\n",
      "\n",
      "Crawling:  95%|█████████▍| 946/1000 [31:44<02:03,  2.28s/it]\u001B[A\u001B[A\n",
      "\n",
      "Crawling:  95%|█████████▍| 947/1000 [31:46<02:03,  2.33s/it]\u001B[A\u001B[A\n",
      "\n",
      "Crawling:  95%|█████████▍| 948/1000 [31:49<02:00,  2.32s/it]\u001B[A\u001B[A\n",
      "\n",
      "Crawling:  95%|█████████▍| 949/1000 [31:51<02:01,  2.38s/it]\u001B[A\u001B[A\n",
      "\n",
      "Crawling:  95%|█████████▌| 950/1000 [31:54<02:02,  2.45s/it]\u001B[A\u001B[A\n",
      "\n",
      "Crawling:  95%|█████████▌| 951/1000 [31:56<02:01,  2.48s/it]\u001B[A\u001B[A\n",
      "\n",
      "Crawling:  95%|█████████▌| 952/1000 [31:59<02:01,  2.53s/it]\u001B[A\u001B[A\n",
      "\n",
      "Crawling:  95%|█████████▌| 953/1000 [32:00<01:43,  2.20s/it]\u001B[A\u001B[A\n",
      "\n",
      "Crawling:  95%|█████████▌| 954/1000 [32:02<01:36,  2.10s/it]\u001B[A\u001B[A\n",
      "\n",
      "Crawling:  96%|█████████▌| 955/1000 [32:04<01:26,  1.92s/it]\u001B[A\u001B[A\n",
      "\n",
      "Crawling:  96%|█████████▌| 956/1000 [32:05<01:21,  1.86s/it]\u001B[A\u001B[A\n",
      "\n",
      "Crawling:  96%|█████████▌| 957/1000 [32:07<01:17,  1.81s/it]\u001B[A\u001B[A\n",
      "\n",
      "Crawling:  96%|█████████▌| 958/1000 [32:09<01:14,  1.78s/it]\u001B[A\u001B[A\n",
      "\n",
      "Crawling:  96%|█████████▌| 959/1000 [32:12<01:24,  2.07s/it]\u001B[A\u001B[A\n",
      "\n",
      "Crawling:  96%|█████████▌| 960/1000 [32:14<01:29,  2.24s/it]\u001B[A\u001B[A\n",
      "\n",
      "Crawling:  96%|█████████▌| 961/1000 [32:17<01:31,  2.34s/it]\u001B[A\u001B[A\n",
      "\n",
      "Crawling:  96%|█████████▌| 962/1000 [32:19<01:30,  2.39s/it]\u001B[A\u001B[A\n",
      "\n",
      "Crawling:  96%|█████████▋| 963/1000 [32:21<01:22,  2.23s/it]\u001B[A\u001B[A\n",
      "\n",
      "Crawling:  96%|█████████▋| 964/1000 [32:22<01:11,  1.98s/it]\u001B[A\u001B[A\n",
      "\n",
      "Crawling:  96%|█████████▋| 965/1000 [32:24<01:06,  1.91s/it]\u001B[A\u001B[A\n",
      "\n",
      "Crawling:  97%|█████████▋| 966/1000 [32:26<01:02,  1.84s/it]\u001B[A\u001B[A\n",
      "\n",
      "Crawling:  97%|█████████▋| 967/1000 [32:27<00:56,  1.72s/it]\u001B[A\u001B[A\n",
      "\n",
      "Crawling:  97%|█████████▋| 968/1000 [32:30<01:03,  1.97s/it]\u001B[A\u001B[A\n",
      "\n",
      "Crawling:  97%|█████████▋| 969/1000 [32:33<01:07,  2.19s/it]\u001B[A\u001B[A\n",
      "\n",
      "Crawling:  97%|█████████▋| 970/1000 [32:35<01:08,  2.27s/it]\u001B[A\u001B[A\n",
      "\n",
      "Crawling:  97%|█████████▋| 971/1000 [32:37<01:06,  2.31s/it]\u001B[A\u001B[A\n",
      "\n",
      "Crawling:  97%|█████████▋| 972/1000 [32:40<01:09,  2.47s/it]\u001B[A\u001B[A\n",
      "\n",
      "Crawling:  97%|█████████▋| 973/1000 [32:43<01:06,  2.45s/it]\u001B[A\u001B[A\n",
      "\n",
      "Crawling:  97%|█████████▋| 974/1000 [32:45<01:05,  2.50s/it]\u001B[A\u001B[A\n",
      "\n",
      "Crawling:  98%|█████████▊| 975/1000 [32:48<01:02,  2.49s/it]\u001B[A\u001B[A\n",
      "\n",
      "Crawling:  98%|█████████▊| 976/1000 [32:51<01:02,  2.59s/it]\u001B[A\u001B[A\n",
      "\n",
      "Crawling:  98%|█████████▊| 977/1000 [32:53<01:01,  2.65s/it]\u001B[A\u001B[A\n",
      "\n",
      "Crawling:  98%|█████████▊| 978/1000 [32:55<00:51,  2.36s/it]\u001B[A\u001B[A\n",
      "\n",
      "Crawling:  98%|█████████▊| 979/1000 [32:57<00:43,  2.09s/it]\u001B[A\u001B[A\n",
      "\n",
      "Crawling:  98%|█████████▊| 980/1000 [32:58<00:39,  1.98s/it]\u001B[A\u001B[A\n",
      "\n",
      "Crawling:  98%|█████████▊| 981/1000 [33:00<00:34,  1.82s/it]\u001B[A\u001B[A\n",
      "\n",
      "Crawling:  98%|█████████▊| 982/1000 [33:01<00:30,  1.69s/it]\u001B[A\u001B[A\n",
      "\n",
      "Crawling:  98%|█████████▊| 983/1000 [33:03<00:28,  1.69s/it]\u001B[A\u001B[A\n",
      "\n",
      "Crawling:  98%|█████████▊| 984/1000 [33:05<00:27,  1.70s/it]\u001B[A\u001B[A\n",
      "\n",
      "Crawling:  98%|█████████▊| 985/1000 [33:06<00:25,  1.68s/it]\u001B[A\u001B[A\n",
      "\n",
      "Crawling:  99%|█████████▊| 986/1000 [33:08<00:23,  1.70s/it]\u001B[A\u001B[A\n",
      "\n",
      "Crawling:  99%|█████████▊| 987/1000 [33:09<00:21,  1.66s/it]\u001B[A\u001B[A\n",
      "\n",
      "Crawling:  99%|█████████▉| 988/1000 [33:11<00:20,  1.70s/it]\u001B[A\u001B[A\n",
      "\n",
      "Crawling:  99%|█████████▉| 989/1000 [33:14<00:22,  2.02s/it]\u001B[A\u001B[A\n",
      "\n",
      "Crawling:  99%|█████████▉| 990/1000 [33:16<00:18,  1.88s/it]\u001B[A\u001B[A\n",
      "\n",
      "Crawling:  99%|█████████▉| 991/1000 [33:17<00:16,  1.83s/it]\u001B[A\u001B[A\n",
      "\n",
      "Crawling:  99%|█████████▉| 992/1000 [33:19<00:14,  1.83s/it]\u001B[A\u001B[A\n",
      "\n",
      "Crawling:  99%|█████████▉| 993/1000 [33:21<00:12,  1.85s/it]\u001B[A\u001B[A\n",
      "\n",
      "Crawling:  99%|█████████▉| 994/1000 [33:23<00:10,  1.82s/it]\u001B[A\u001B[A\n",
      "\n",
      "Crawling: 100%|█████████▉| 995/1000 [33:25<00:09,  1.80s/it]\u001B[A\u001B[A\n",
      "\n",
      "Crawling: 100%|█████████▉| 996/1000 [33:26<00:06,  1.70s/it]\u001B[A\u001B[A\n",
      "\n",
      "Crawling: 100%|█████████▉| 997/1000 [33:28<00:05,  1.72s/it]\u001B[A\u001B[A\n",
      "\n",
      "Crawling: 100%|█████████▉| 998/1000 [33:29<00:03,  1.63s/it]\u001B[A\u001B[A\n",
      "\n",
      "Crawling: 100%|█████████▉| 999/1000 [33:31<00:01,  1.69s/it]\u001B[A\u001B[A\n",
      "\n",
      "Crawling: 100%|██████████| 1000/1000 [33:34<00:00,  2.01s/it]\u001B[A\u001B[A\n"
     ]
    },
    {
     "name": "stdout",
     "output_type": "stream",
     "text": [
      "https://skos.agh.edu.pl/tel\n"
     ]
    },
    {
     "name": "stderr",
     "output_type": "stream",
     "text": [
      "Crawling: 100%|██████████| 1000/1000 [26:45<00:00,  1.61s/it]\n"
     ]
    },
    {
     "name": "stdout",
     "output_type": "stream",
     "text": [
      "https://oferta-badawcza.agh.edu.pl/\n"
     ]
    },
    {
     "name": "stderr",
     "output_type": "stream",
     "text": [
      "Crawling:   9%|▉         | 93/1000 [02:39<27:08,  1.80s/it]"
     ]
    },
    {
     "name": "stdout",
     "output_type": "stream",
     "text": [
      "Error fetching the URL: 404 Client Error: Not Found for url: https://oferta-badawcza.agh.edu.pl/equipment/?page=%E2%80%A6\n"
     ]
    },
    {
     "name": "stderr",
     "output_type": "stream",
     "text": [
      "Crawling:  71%|███████▏  | 714/1000 [20:02<08:24,  1.76s/it]"
     ]
    },
    {
     "name": "stdout",
     "output_type": "stream",
     "text": [
      "Error fetching the URL: 404 Client Error: Not Found for url: https://oferta-badawcza.agh.edu.pl/equipment/?responsible_entity=401&page=%E2%80%A6\n"
     ]
    },
    {
     "name": "stderr",
     "output_type": "stream",
     "text": [
      "Crawling: 100%|██████████| 1000/1000 [28:33<00:00,  1.71s/it]\n"
     ]
    },
    {
     "name": "stdout",
     "output_type": "stream",
     "text": [
      "https://podyplomowe.agh.edu.pl\n"
     ]
    },
    {
     "name": "stderr",
     "output_type": "stream",
     "text": [
      "Crawling:  79%|███████▊  | 787/1000 [24:06<05:33,  1.56s/it]"
     ]
    },
    {
     "name": "stdout",
     "output_type": "stream",
     "text": [
      "Error fetching the URL: 404 Client Error: Not Found for url: https://informatyka.podyplomowe.agh.edu.pl/aktualnosci/\n"
     ]
    },
    {
     "name": "stderr",
     "output_type": "stream",
     "text": [
      "Crawling:  79%|███████▉  | 788/1000 [24:07<05:27,  1.54s/it]"
     ]
    },
    {
     "name": "stdout",
     "output_type": "stream",
     "text": [
      "Error fetching the URL: 404 Client Error: Not Found for url: https://informatyka.podyplomowe.agh.edu.pl/o-nas/\n"
     ]
    },
    {
     "name": "stderr",
     "output_type": "stream",
     "text": [
      "Crawling:  79%|███████▉  | 789/1000 [24:09<05:15,  1.49s/it]"
     ]
    },
    {
     "name": "stdout",
     "output_type": "stream",
     "text": [
      "Error fetching the URL: 404 Client Error: Not Found for url: https://informatyka.podyplomowe.agh.edu.pl/kontakt/\n"
     ]
    },
    {
     "name": "stderr",
     "output_type": "stream",
     "text": [
      "Crawling:  79%|███████▉  | 790/1000 [24:10<05:17,  1.51s/it]"
     ]
    },
    {
     "name": "stdout",
     "output_type": "stream",
     "text": [
      "Error fetching the URL: 404 Client Error: Not Found for url: https://informatyka.podyplomowe.agh.edu.pl/o-studiach/\n"
     ]
    },
    {
     "name": "stderr",
     "output_type": "stream",
     "text": [
      "Crawling:  79%|███████▉  | 791/1000 [24:12<05:03,  1.45s/it]"
     ]
    },
    {
     "name": "stdout",
     "output_type": "stream",
     "text": [
      "Error fetching the URL: 404 Client Error: Not Found for url: https://informatyka.podyplomowe.agh.edu.pl/uzytkownicy/login/\n"
     ]
    },
    {
     "name": "stderr",
     "output_type": "stream",
     "text": [
      "Crawling:  79%|███████▉  | 792/1000 [24:13<05:17,  1.52s/it]"
     ]
    },
    {
     "name": "stdout",
     "output_type": "stream",
     "text": [
      "Error fetching the URL: 404 Client Error: Not Found for url: https://informatyka.podyplomowe.agh.edu.pl/uzytkownicy/signup/\n"
     ]
    },
    {
     "name": "stderr",
     "output_type": "stream",
     "text": [
      "Crawling:  79%|███████▉  | 793/1000 [24:15<05:01,  1.45s/it]"
     ]
    },
    {
     "name": "stdout",
     "output_type": "stream",
     "text": [
      "Error fetching the URL: 404 Client Error: Not Found for url: https://informatyka.podyplomowe.agh.edu.pl/polityka-prywatnosci/\n"
     ]
    },
    {
     "name": "stderr",
     "output_type": "stream",
     "text": [
      "Crawling:  79%|███████▉  | 794/1000 [24:16<05:14,  1.53s/it]"
     ]
    },
    {
     "name": "stdout",
     "output_type": "stream",
     "text": [
      "Error fetching the URL: 404 Client Error: Not Found for url: https://informatyka.podyplomowe.agh.edu.pl/admin/login/\n"
     ]
    },
    {
     "name": "stderr",
     "output_type": "stream",
     "text": [
      "Crawling: 100%|██████████| 1000/1000 [29:57<00:00,  1.80s/it]\n"
     ]
    },
    {
     "name": "stdout",
     "output_type": "stream",
     "text": [
      "https://szkolenia.agh.edu.pl/\n"
     ]
    },
    {
     "name": "stderr",
     "output_type": "stream",
     "text": [
      "Crawling:   7%|▋         | 69/1000 [01:59<26:46,  1.73s/it]\n"
     ]
    },
    {
     "name": "stdout",
     "output_type": "stream",
     "text": [
      "https://open.agh.edu.pl/\n"
     ]
    },
    {
     "name": "stderr",
     "output_type": "stream",
     "text": [
      "Crawling:  87%|████████▋ | 868/1000 [35:03<05:00,  2.28s/it]  "
     ]
    },
    {
     "name": "stdout",
     "output_type": "stream",
     "text": [
      "Error fetching the URL: 404 Client Error: Not Found for url: https://zasoby.open.agh.edu.pl/zasob/e-fizyka-podstawy-fizyki\n"
     ]
    },
    {
     "name": "stderr",
     "output_type": "stream",
     "text": [
      "Crawling: 100%|██████████| 1000/1000 [40:33<00:00,  2.43s/it]\n"
     ]
    },
    {
     "name": "stdout",
     "output_type": "stream",
     "text": [
      "https://badap.agh.edu.pl/\n"
     ]
    },
    {
     "name": "stderr",
     "output_type": "stream",
     "text": [
      "Crawling:   9%|▊         | 87/1000 [02:19<26:10,  1.72s/it]"
     ]
    },
    {
     "name": "stdout",
     "output_type": "stream",
     "text": [
      "Error fetching the URL: 404 Client Error: Not Found for url: https://badap.agh.edu.pl/wykazy/czasopisma\n"
     ]
    },
    {
     "name": "stderr",
     "output_type": "stream",
     "text": [
      "Crawling: 100%|██████████| 1000/1000 [26:17<00:00,  1.58s/it]\n"
     ]
    },
    {
     "name": "stdout",
     "output_type": "stream",
     "text": [
      "http://www.dzp.agh.edu.pl/\n"
     ]
    },
    {
     "name": "stderr",
     "output_type": "stream",
     "text": [
      "Crawling:   2%|▏         | 22/1000 [00:40<32:31,  2.00s/it]/Users/wnowogorski/PycharmProjects/ChatAGH_DataCollecting/web_scraping/graph_generator.py:184: XMLParsedAsHTMLWarning: It looks like you're using an HTML parser to parse an XML document.\n",
      "\n",
      "Assuming this really is an XML document, what you're doing might work, but you should know that using an XML parser will be more reliable. To parse this document as XML, make sure you have the Python package 'lxml' installed, and pass the keyword argument `features=\"xml\"` into the BeautifulSoup constructor.\n",
      "\n",
      "If you want or need to use an HTML parser on this document, you can make this warning go away by filtering it. To do that, run this code before calling the BeautifulSoup constructor:\n",
      "\n",
      "    from bs4 import XMLParsedAsHTMLWarning\n",
      "    import warnings\n",
      "\n",
      "    warnings.filterwarnings(\"ignore\", category=XMLParsedAsHTMLWarning)\n",
      "\n",
      "  soup = BeautifulSoup(response.text, 'html.parser')\n",
      "Crawling:  10%|▉         | 96/1000 [03:32<41:53,  2.78s/it]  "
     ]
    },
    {
     "name": "stdout",
     "output_type": "stream",
     "text": [
      "Error crawling http://www.dzp.agh.edu.pl/home/dzp/Umowy_ogolnouczelniane/tonery/642_2024_Umowa_MAK_Sp._z_o.o._DE-dzp.272-642-24.pdf: The markup you provided was rejected by the parser. Trying a different parser or a different encoding may help.\n",
      "\n",
      "Original exception(s) from parser:\n",
      " AssertionError: expected name token at '<![��Ɵ����K����F��T�'\n"
     ]
    },
    {
     "name": "stderr",
     "output_type": "stream",
     "text": [
      "Crawling:  15%|█▍        | 146/1000 [05:21<29:11,  2.05s/it]"
     ]
    },
    {
     "name": "stdout",
     "output_type": "stream",
     "text": [
      "Error fetching the URL: 404 Client Error: Not Found for url: https://dzp.agh.edu.pl/fileadmin/default/templates/css/j/dzp/system/inne_nowe/2022_informacja_o_zmianach_PZP.pdf\n"
     ]
    },
    {
     "name": "stderr",
     "output_type": "stream",
     "text": [
      "Crawling:  15%|█▍        | 149/1000 [05:29<31:22,  2.21s/it]\n"
     ]
    },
    {
     "name": "stdout",
     "output_type": "stream",
     "text": [
      "https://cwp.agh.edu.pl\n"
     ]
    },
    {
     "name": "stderr",
     "output_type": "stream",
     "text": [
      "Crawling:  31%|███▏      | 314/1000 [08:55<19:30,  1.71s/it]\n"
     ]
    },
    {
     "name": "stdout",
     "output_type": "stream",
     "text": [
      "https://ckim.agh.edu.pl/\n"
     ]
    },
    {
     "name": "stderr",
     "output_type": "stream",
     "text": [
      "Crawling:  10%|█         | 105/1000 [02:57<25:12,  1.69s/it]\n"
     ]
    },
    {
     "name": "stdout",
     "output_type": "stream",
     "text": [
      "https://rownosc.agh.edu.pl/\n"
     ]
    },
    {
     "name": "stderr",
     "output_type": "stream",
     "text": [
      "Crawling:   4%|▍         | 45/1000 [01:19<28:14,  1.77s/it]\n"
     ]
    },
    {
     "name": "stdout",
     "output_type": "stream",
     "text": [
      "https://wilgz.agh.edu.pl/\n"
     ]
    },
    {
     "name": "stderr",
     "output_type": "stream",
     "text": [
      "Crawling:  13%|█▎        | 134/1000 [04:26<28:07,  1.95s/it]"
     ]
    },
    {
     "name": "stdout",
     "output_type": "stream",
     "text": [
      "Error fetching the URL: 404 Client Error: Not Found for url: https://wilgz.agh.edu.pl/rekrutacja/studia-stacjonarne-kierunki/inzynieria-gornicza/\n"
     ]
    },
    {
     "name": "stderr",
     "output_type": "stream",
     "text": [
      "Crawling:  14%|█▎        | 135/1000 [04:28<25:44,  1.79s/it]"
     ]
    },
    {
     "name": "stdout",
     "output_type": "stream",
     "text": [
      "Error fetching the URL: 404 Client Error: Not Found for url: https://wilgz.agh.edu.pl/rekrutacja/studia-stacjonarne-kierunki/inzynieria-i-zarzadzanie-procesami-przemyslowymi/\n"
     ]
    },
    {
     "name": "stderr",
     "output_type": "stream",
     "text": [
      "Crawling:  14%|█▎        | 136/1000 [04:29<24:37,  1.71s/it]"
     ]
    },
    {
     "name": "stdout",
     "output_type": "stream",
     "text": [
      "Error fetching the URL: 404 Client Error: Not Found for url: https://wilgz.agh.edu.pl/rekrutacja/studia-stacjonarne-kierunki/budownictwo-2/\n"
     ]
    },
    {
     "name": "stderr",
     "output_type": "stream",
     "text": [
      "Crawling:  14%|█▎        | 137/1000 [04:31<24:08,  1.68s/it]"
     ]
    },
    {
     "name": "stdout",
     "output_type": "stream",
     "text": [
      "Error fetching the URL: 404 Client Error: Not Found for url: https://wilgz.agh.edu.pl/rekrutacja/studia-stacjonarne-kierunki/rewitalizacja-terenow-zdegradowanych/\n"
     ]
    },
    {
     "name": "stderr",
     "output_type": "stream",
     "text": [
      "Crawling:  25%|██▍       | 246/1000 [07:55<22:49,  1.82s/it]"
     ]
    },
    {
     "name": "stdout",
     "output_type": "stream",
     "text": [
      "Error fetching the URL: 404 Client Error: Not Found for url: https://wilgz.agh.edu.pl/student/dokumenty-i-sprawy-socjalne/dokumenty-student/\n"
     ]
    },
    {
     "name": "stderr",
     "output_type": "stream",
     "text": [
      "Crawling:  32%|███▏      | 316/1000 [09:53<18:23,  1.61s/it]"
     ]
    },
    {
     "name": "stdout",
     "output_type": "stream",
     "text": [
      "Error fetching the URL: 404 Client Error: Not Found for url: https://wilgz.agh.edu.pl/rekrutacja/studia-stacjonarne-kierunki/inzynieria-ksztaltowania-srodowiska/\n"
     ]
    },
    {
     "name": "stderr",
     "output_type": "stream",
     "text": [
      "Crawling:  42%|████▏     | 415/1000 [12:47<13:53,  1.42s/it]"
     ]
    },
    {
     "name": "stdout",
     "output_type": "stream",
     "text": [
      "Error crawling https://wilgz.agh.edu.pl/home/__processed__/5/e/csm_f3_175c748051.jpg: The markup you provided was rejected by the parser. Trying a different parser or a different encoding may help.\n",
      "\n",
      "Original exception(s) from parser:\n",
      " AssertionError: expected name token at '<![�<�\\n����9��1=����'\n"
     ]
    },
    {
     "name": "stderr",
     "output_type": "stream",
     "text": [
      "Crawling:  61%|██████    | 609/1000 [18:41<09:39,  1.48s/it]"
     ]
    },
    {
     "name": "stdout",
     "output_type": "stream",
     "text": [
      "Error crawling https://wilgz.agh.edu.pl/home/__processed__/d/a/csm_Image__1__a547068ff7.jpg: The markup you provided was rejected by the parser. Trying a different parser or a different encoding may help.\n",
      "\n",
      "Original exception(s) from parser:\n",
      " AssertionError: expected name token at '<![�A�\\n�6=���/�0w��ڧ'\n"
     ]
    },
    {
     "name": "stderr",
     "output_type": "stream",
     "text": [
      "Crawling:  68%|██████▊   | 676/1000 [20:38<09:53,  1.83s/it]\n"
     ]
    },
    {
     "name": "stdout",
     "output_type": "stream",
     "text": [
      "https://www.metal.agh.edu.pl/\n"
     ]
    },
    {
     "name": "stderr",
     "output_type": "stream",
     "text": [
      "Crawling:   0%|          | 1/1000 [00:01<32:06,  1.93s/it]\n"
     ]
    },
    {
     "name": "stdout",
     "output_type": "stream",
     "text": [
      "https://www.eaiib.agh.edu.pl/\n"
     ]
    },
    {
     "name": "stderr",
     "output_type": "stream",
     "text": [
      "Crawling:  23%|██▎       | 233/1000 [06:49<20:18,  1.59s/it]"
     ]
    },
    {
     "name": "stdout",
     "output_type": "stream",
     "text": [
      "Error fetching the URL: 404 Client Error: Not Found for url: https://www.eaiib.agh.edu.pl/wp-content/uploads/2022/10/Zalacznik_nr_6_Formularz-informacyjny-przed-podjeciem-praktyki.docx\n"
     ]
    },
    {
     "name": "stderr",
     "output_type": "stream",
     "text": [
      "Crawling:  24%|██▍       | 241/1000 [07:07<29:27,  2.33s/it]"
     ]
    },
    {
     "name": "stdout",
     "output_type": "stream",
     "text": [
      "Error fetching the URL: 404 Client Error: Not Found for url: https://www.eaiib.agh.edu.pl/system-jakosci-ksztalcenia/Raport%20z%20ankietyzacji%20student%C3%B3w%20dyscyplina%20AEE%20lato%202020_21\n"
     ]
    },
    {
     "name": "stderr",
     "output_type": "stream",
     "text": [
      "Crawling:  25%|██▌       | 254/1000 [07:36<25:55,  2.09s/it]"
     ]
    },
    {
     "name": "stdout",
     "output_type": "stream",
     "text": [
      "Error fetching the URL: 404 Client Error: Not Found for url: https://www.eaiib.agh.edu.pl/system-jakosci-ksztalcenia/Centrum%20Akredytacji%20i%20Jako%C5%9Bci%20Kszta%C5%82cenia\n"
     ]
    },
    {
     "name": "stderr",
     "output_type": "stream",
     "text": [
      "Crawling:  33%|███▎      | 333/1000 [09:53<15:39,  1.41s/it]"
     ]
    },
    {
     "name": "stdout",
     "output_type": "stream",
     "text": [
      "Error crawling https://www.eaiib.agh.edu.pl/wp-content/uploads/2025/09/105-lat-Elektrotechniki-AGH-fot-8.jpg: The markup you provided was rejected by the parser. Trying a different parser or a different encoding may help.\n",
      "\n",
      "Original exception(s) from parser:\n",
      " AssertionError: expected name token at '<![�y���k�zc)|b9�X�s'\n"
     ]
    },
    {
     "name": "stderr",
     "output_type": "stream",
     "text": [
      "Crawling:  34%|███▍      | 343/1000 [10:10<17:40,  1.61s/it]"
     ]
    },
    {
     "name": "stdout",
     "output_type": "stream",
     "text": [
      "Error fetching the URL: 403 Client Error: Forbidden for url: https://www.eaiib.agh.edu.pl/repozytorium/.html\n"
     ]
    },
    {
     "name": "stderr",
     "output_type": "stream",
     "text": [
      "Crawling:  57%|█████▊    | 575/1000 [17:18<15:43,  2.22s/it]"
     ]
    },
    {
     "name": "stdout",
     "output_type": "stream",
     "text": [
      "Error fetching the URL: 404 Client Error: Not Found for url: https://www.eaiib.agh.edu.pl/wp-content/uploads/2020/07/Harmonogrhttps:/www.eaiib.agh.edu.pl/wp-content/uploads/2020/07/M__YNARCZYK_HARMONOGRAM.pdfam__P.Bania_.docx\n"
     ]
    },
    {
     "name": "stderr",
     "output_type": "stream",
     "text": [
      "Crawling:  63%|██████▎   | 627/1000 [19:22<14:43,  2.37s/it]/Users/wnowogorski/PycharmProjects/ChatAGH_DataCollecting/web_scraping/graph_generator.py:184: XMLParsedAsHTMLWarning: It looks like you're using an HTML parser to parse an XML document.\n",
      "\n",
      "Assuming this really is an XML document, what you're doing might work, but you should know that using an XML parser will be more reliable. To parse this document as XML, make sure you have the Python package 'lxml' installed, and pass the keyword argument `features=\"xml\"` into the BeautifulSoup constructor.\n",
      "\n",
      "If you want or need to use an HTML parser on this document, you can make this warning go away by filtering it. To do that, run this code before calling the BeautifulSoup constructor:\n",
      "\n",
      "    from bs4 import XMLParsedAsHTMLWarning\n",
      "    import warnings\n",
      "\n",
      "    warnings.filterwarnings(\"ignore\", category=XMLParsedAsHTMLWarning)\n",
      "\n",
      "  soup = BeautifulSoup(response.text, 'html.parser')\n",
      "Crawling:  65%|██████▌   | 653/1000 [20:17<10:12,  1.77s/it]"
     ]
    },
    {
     "name": "stdout",
     "output_type": "stream",
     "text": [
      "Error crawling https://www.eaiib.agh.edu.pl/wp-content/uploads/2025/05/ABU-SARHAN-MOHAMMAD_RECENZJA-1-dr-hab.-inz-Michal-Jasinski.pdf: The markup you provided was rejected by the parser. Trying a different parser or a different encoding may help.\n",
      "\n",
      "Original exception(s) from parser:\n",
      " AssertionError: unknown status keyword 'w' in marked section\n"
     ]
    },
    {
     "name": "stderr",
     "output_type": "stream",
     "text": [
      "Crawling:  79%|███████▉  | 791/1000 [25:48<07:28,  2.15s/it]"
     ]
    },
    {
     "name": "stdout",
     "output_type": "stream",
     "text": [
      "Error crawling https://www.eaiib.agh.edu.pl/wp-content/uploads/2024/03/PANKIEWICZ-NIKODEM_ZAWIADOMIENIE-O-PUBLICZNEJ-OBRONIE.pdf: The markup you provided was rejected by the parser. Trying a different parser or a different encoding may help.\n",
      "\n",
      "Original exception(s) from parser:\n",
      " AssertionError: expected name token at '<![$�!s�d�ӽw4P\\x06jC.��'\n"
     ]
    },
    {
     "name": "stderr",
     "output_type": "stream",
     "text": [
      "Crawling:  86%|████████▌ | 860/1000 [28:31<03:21,  1.44s/it]"
     ]
    },
    {
     "name": "stdout",
     "output_type": "stream",
     "text": [
      "Error crawling https://www.eaiib.agh.edu.pl/wp-content/uploads/2023/11/SIERSZYNSKI-MICHAL_STRESZCZENIA.pdf: The markup you provided was rejected by the parser. Trying a different parser or a different encoding may help.\n",
      "\n",
      "Original exception(s) from parser:\n",
      " AssertionError: expected name token at '<![|W[\\r/#݅��~���\\x17u�\\x19'\n"
     ]
    },
    {
     "name": "stderr",
     "output_type": "stream",
     "text": [
      "Crawling:  93%|█████████▎| 932/1000 [31:35<04:53,  4.32s/it]"
     ]
    },
    {
     "name": "stdout",
     "output_type": "stream",
     "text": [
      "Error crawling https://www.eaiib.agh.edu.pl/wp-content/uploads/2023/07/KMAK-JAROSLAW_RECENZJA-1-dr-hab.inz_.-Andrzej-Chojnacki-prof.-PSk.pdf: The markup you provided was rejected by the parser. Trying a different parser or a different encoding may help.\n",
      "\n",
      "Original exception(s) from parser:\n",
      " AssertionError: unknown status keyword 'u\\x1d' in marked section\n"
     ]
    },
    {
     "name": "stderr",
     "output_type": "stream",
     "text": [
      "Crawling: 100%|██████████| 1000/1000 [34:02<00:00,  2.04s/it]\n"
     ]
    },
    {
     "name": "stdout",
     "output_type": "stream",
     "text": [
      "https://imir.agh.edu.pl/\n"
     ]
    },
    {
     "name": "stderr",
     "output_type": "stream",
     "text": [
      "Crawling:   0%|          | 1/1000 [00:01<28:14,  1.70s/it]\n"
     ]
    },
    {
     "name": "stdout",
     "output_type": "stream",
     "text": [
      "https://www.wggios.agh.edu.pl/\n"
     ]
    },
    {
     "name": "stderr",
     "output_type": "stream",
     "text": [
      "Crawling:  16%|█▋        | 164/1000 [04:46<18:43,  1.34s/it]"
     ]
    },
    {
     "name": "stdout",
     "output_type": "stream",
     "text": [
      "Error crawling https://www.wggios.agh.edu.pl/home/wggios/Postepowania-awansowe/doktoraty/2025/Kubacka_Tomasz/recenzja_prof_dr_hab._inz._GRZEGORZ_MUTKE.pdf: The markup you provided was rejected by the parser. Trying a different parser or a different encoding may help.\n",
      "\n",
      "Original exception(s) from parser:\n",
      " AssertionError: expected name token at '<![<�^.=\\x16*Kd� �1��6i'\n"
     ]
    },
    {
     "name": "stderr",
     "output_type": "stream",
     "text": [
      "Crawling:  17%|█▋        | 174/1000 [05:05<22:19,  1.62s/it]"
     ]
    },
    {
     "name": "stdout",
     "output_type": "stream",
     "text": [
      "Error crawling https://www.wggios.agh.edu.pl/home/wggios/Postepowania-awansowe/doktoraty/2024/Pawel_Godlewski/zawiadomienie_o_obronie_doktorskiej_mgr_inz._PAWEL_GODLEWSKI.pdf: The markup you provided was rejected by the parser. Trying a different parser or a different encoding may help.\n",
      "\n",
      "Original exception(s) from parser:\n",
      " AssertionError: expected name token at \"<!['�\\x15\\x00�\\x19�\\t���8K;{\\x1d�\"\n"
     ]
    },
    {
     "name": "stderr",
     "output_type": "stream",
     "text": [
      "Crawling:  18%|█▊        | 181/1000 [05:18<20:07,  1.47s/it]"
     ]
    },
    {
     "name": "stdout",
     "output_type": "stream",
     "text": [
      "Error crawling https://www.wggios.agh.edu.pl/home/wggios/Postepowania-awansowe/doktoraty/2024/Adam_Cygal/uchwala_nadanie_stopnia_doktora_mgr_inz._ADAM_CYGAL.pdf: The markup you provided was rejected by the parser. Trying a different parser or a different encoding may help.\n",
      "\n",
      "Original exception(s) from parser:\n",
      " AssertionError: expected name token at '<![%��\\x07\\x040\\x18ڴJf�{�Z��Z'\n"
     ]
    },
    {
     "name": "stderr",
     "output_type": "stream",
     "text": [
      "Crawling:  33%|███▎      | 326/1000 [09:48<16:27,  1.47s/it]"
     ]
    },
    {
     "name": "stdout",
     "output_type": "stream",
     "text": [
      "Error crawling https://www.wggios.agh.edu.pl/home/wggios/Postepowania-awansowe/doktoraty/2023/Powolny-Tomasz-STRESZCZENIE_J_ANGIELSKI.pdf: The markup you provided was rejected by the parser. Trying a different parser or a different encoding may help.\n",
      "\n",
      "Original exception(s) from parser:\n",
      " AssertionError: expected name token at '<![���aFe\\x0b�\\x0b�g�\\x1d\\x15�W�'\n"
     ]
    },
    {
     "name": "stderr",
     "output_type": "stream",
     "text": [
      "Crawling:  36%|███▌      | 358/1000 [10:48<17:07,  1.60s/it]"
     ]
    },
    {
     "name": "stdout",
     "output_type": "stream",
     "text": [
      "Error crawling https://www.wggios.agh.edu.pl/home/wggios/Postepowania-awansowe/doktoraty/2022/02-Obrona_doktorska_mgr_inz._Adrianny_Maslanki/uchwala_nadanie_stopnia_doktora_ADRIANNA_MASLANKA.pdf: The markup you provided was rejected by the parser. Trying a different parser or a different encoding may help.\n",
      "\n",
      "Original exception(s) from parser:\n",
      " AssertionError: expected name token at '<![�i�Ү�.\\x01�۸��H�\\x0e\\x0bY�'\n"
     ]
    },
    {
     "name": "stderr",
     "output_type": "stream",
     "text": [
      "Crawling:  78%|███████▊  | 781/1000 [24:09<06:30,  1.78s/it]"
     ]
    },
    {
     "name": "stdout",
     "output_type": "stream",
     "text": [
      "Error crawling https://www.wggios.agh.edu.pl/home/wggios/Postepowania-awansowe/doktoraty/2016/04-Obrona_doktorska_mgr_inz._Barbary_Muir/Muir-Streszczenie.pdf: The markup you provided was rejected by the parser. Trying a different parser or a different encoding may help.\n",
      "\n",
      "Original exception(s) from parser:\n",
      " AssertionError: expected name token at '<![���aFe\\x0b�\\x0b�g�\\x1d\\x15�W�'\n"
     ]
    },
    {
     "name": "stderr",
     "output_type": "stream",
     "text": [
      "Crawling:  78%|███████▊  | 782/1000 [24:10<05:00,  1.38s/it]"
     ]
    },
    {
     "name": "stdout",
     "output_type": "stream",
     "text": [
      "Error crawling https://www.wggios.agh.edu.pl/home/wggios/Postepowania-awansowe/doktoraty/2016/04-Obrona_doktorska_mgr_inz._Barbary_Muir/Muir-Abstract.pdf: The markup you provided was rejected by the parser. Trying a different parser or a different encoding may help.\n",
      "\n",
      "Original exception(s) from parser:\n",
      " AssertionError: expected name token at '<![���aFe\\x0b�\\x0b�g�\\x1d\\x15�W�'\n"
     ]
    },
    {
     "name": "stderr",
     "output_type": "stream",
     "text": [
      "Crawling:  82%|████████▏ | 816/1000 [25:09<04:01,  1.31s/it]"
     ]
    },
    {
     "name": "stdout",
     "output_type": "stream",
     "text": [
      "Error crawling https://www.wggios.agh.edu.pl/home/wggios/Postepowania-awansowe/doktoraty/2016/10-Obrona_doktorska_mgr_inz._Piotra_Olchowego/streszczenie_rozprawy_doktorskiej_pol_PIOTR_OLCHOWY.pdf: The markup you provided was rejected by the parser. Trying a different parser or a different encoding may help.\n",
      "\n",
      "Original exception(s) from parser:\n",
      " AssertionError: unknown status keyword 'j' in marked section\n"
     ]
    },
    {
     "name": "stderr",
     "output_type": "stream",
     "text": [
      "Crawling:  93%|█████████▎| 927/1000 [28:46<02:30,  2.06s/it]"
     ]
    },
    {
     "name": "stdout",
     "output_type": "stream",
     "text": [
      "Error fetching the URL: 404 Client Error: Not Found for url: https://www.wggios.agh.edu.pl/fileadmin/default/templates/css/j/wggios/2020/Uchwala_komisja_hab._A.GRUSZECKA-KOSOWSKA-sig.pdf\n"
     ]
    },
    {
     "name": "stderr",
     "output_type": "stream",
     "text": [
      "Crawling:  99%|█████████▉| 988/1000 [30:49<00:17,  1.46s/it]"
     ]
    },
    {
     "name": "stdout",
     "output_type": "stream",
     "text": [
      "Error crawling https://www.wggios.agh.edu.pl/home/wggios/Postepowania-awansowe/habilitacje/13-Postepowanie_habilitacyjne_dr_inz._Marcina_Zycha/Zych-recenzja-Idziak-Adam.pdf: The markup you provided was rejected by the parser. Trying a different parser or a different encoding may help.\n",
      "\n",
      "Original exception(s) from parser:\n",
      " AssertionError: expected name token at '<![���aFe\\x0b�\\x0b�g�\\x1d\\x15�W�'\n"
     ]
    },
    {
     "name": "stderr",
     "output_type": "stream",
     "text": [
      "Crawling: 100%|██████████| 1000/1000 [31:15<00:00,  1.88s/it]\n"
     ]
    },
    {
     "name": "stdout",
     "output_type": "stream",
     "text": [
      "https://www.ceramika.agh.edu.pl/\n"
     ]
    },
    {
     "name": "stderr",
     "output_type": "stream",
     "text": [
      "Crawling:  34%|███▎      | 336/1000 [10:09<22:22,  2.02s/it]"
     ]
    },
    {
     "name": "stdout",
     "output_type": "stream",
     "text": [
      "Error fetching the URL: 404 Client Error: Not Found for url: https://www.ceramika.agh.edu.pl/aktualnosci/detail/kierunek-inzynieria-materialowa-z-akredytacja-polskiej-komisji-akredytacyjnej\n"
     ]
    },
    {
     "name": "stderr",
     "output_type": "stream",
     "text": [
      "Crawling:  40%|████      | 404/1000 [12:06<17:13,  1.73s/it]"
     ]
    },
    {
     "name": "stdout",
     "output_type": "stream",
     "text": [
      "Error fetching the URL: 403 Client Error: Internal Server Error for url: https://www.ceramika.agh.edu.pl/typo3/record/edit?token=02d76df8b19d83011af50a238b8cda85b39cd344&edit%5Btt_content%5D%5B27723%5D=edit&returnUrl=%2Ftypo3%2Fmodule%2Fweb%2Flayout%3Ftoken%3D22ee4014c9d970a43d397007ab647bee72e832b1%26id%3D941%23element-tt_content-27723\n"
     ]
    },
    {
     "name": "stderr",
     "output_type": "stream",
     "text": [
      "Crawling:  47%|████▋     | 473/1000 [14:11<12:38,  1.44s/it]"
     ]
    },
    {
     "name": "stdout",
     "output_type": "stream",
     "text": [
      "Error crawling https://www.ceramika.agh.edu.pl/home/wimic/Aktualnosci/komunikaty_dla_studentow/plany_zajec/II2_TCH.xlsx: The markup you provided was rejected by the parser. Trying a different parser or a different encoding may help.\n",
      "\n",
      "Original exception(s) from parser:\n",
      " AssertionError: unknown status keyword 'H' in marked section\n"
     ]
    },
    {
     "name": "stderr",
     "output_type": "stream",
     "text": [
      "Crawling:  87%|████████▋ | 868/1000 [26:14<03:42,  1.69s/it]"
     ]
    },
    {
     "name": "stdout",
     "output_type": "stream",
     "text": [
      "Error fetching the URL: 404 Client Error: Not Found for url: https://www.ceramika.agh.edu.pl/aktualnosci/detail/konferencja-termoelektryczna-ict-ect-2024\n"
     ]
    },
    {
     "name": "stderr",
     "output_type": "stream",
     "text": [
      "Crawling:  97%|█████████▋| 967/1000 [29:17<00:55,  1.67s/it]"
     ]
    },
    {
     "name": "stdout",
     "output_type": "stream",
     "text": [
      "Error fetching the URL: 404 Client Error: Not Found for url: https://www.ceramika.agh.edu.pl/pl.wikipedia.org/wiki/Prorektor_ds._nauki\n"
     ]
    },
    {
     "name": "stderr",
     "output_type": "stream",
     "text": [
      "Crawling: 100%|██████████| 1000/1000 [30:23<00:00,  1.82s/it]\n"
     ]
    },
    {
     "name": "stdout",
     "output_type": "stream",
     "text": [
      "https://odlewnictwo.agh.edu.pl/\n"
     ]
    },
    {
     "name": "stderr",
     "output_type": "stream",
     "text": [
      "Crawling:   1%|          | 6/1000 [00:11<35:17,  2.13s/it]"
     ]
    },
    {
     "name": "stdout",
     "output_type": "stream",
     "text": [
      "Error fetching the URL: 403 Client Error: Forbidden for url: https://kandydaci.odlewnictwo.agh.edu.pl/\n"
     ]
    },
    {
     "name": "stderr",
     "output_type": "stream",
     "text": [
      "Crawling:   4%|▍         | 44/1000 [01:39<37:30,  2.35s/it]"
     ]
    },
    {
     "name": "stdout",
     "output_type": "stream",
     "text": [
      "Error fetching the URL: 403 Client Error: Forbidden for url: https://kandydaci.odlewnictwo.agh.edu.pl/technologie-przemyslu-4-0/\n"
     ]
    },
    {
     "name": "stderr",
     "output_type": "stream",
     "text": [
      "Crawling:   4%|▍         | 45/1000 [01:41<32:57,  2.07s/it]"
     ]
    },
    {
     "name": "stdout",
     "output_type": "stream",
     "text": [
      "Error fetching the URL: 403 Client Error: Forbidden for url: https://kandydaci.odlewnictwo.agh.edu.pl/komputerowe-wspomaganie-procesow-inzynierskich/\n"
     ]
    },
    {
     "name": "stderr",
     "output_type": "stream",
     "text": [
      "Crawling:   5%|▍         | 46/1000 [01:42<31:05,  1.96s/it]"
     ]
    },
    {
     "name": "stdout",
     "output_type": "stream",
     "text": [
      "Error fetching the URL: 403 Client Error: Forbidden for url: https://kandydaci.odlewnictwo.agh.edu.pl/tworzywa-i-technologie-motoryzacyjne/\n"
     ]
    },
    {
     "name": "stderr",
     "output_type": "stream",
     "text": [
      "Crawling:   7%|▋         | 71/1000 [02:36<24:02,  1.55s/it]"
     ]
    },
    {
     "name": "stdout",
     "output_type": "stream",
     "text": [
      "Error crawling https://odlewnictwo.agh.edu.pl/wp-content/uploads/2025/09/Komunikat_terminy_stypendium_rektora.pdf: The markup you provided was rejected by the parser. Trying a different parser or a different encoding may help.\n",
      "\n",
      "Original exception(s) from parser:\n",
      " AssertionError: expected name token at '<![\\x14�fc83��9@h&YS?\\x18e'\n"
     ]
    },
    {
     "name": "stderr",
     "output_type": "stream",
     "text": [
      "Crawling:   8%|▊         | 75/1000 [02:46<40:12,  2.61s/it]"
     ]
    },
    {
     "name": "stdout",
     "output_type": "stream",
     "text": [
      "Error crawling https://odlewnictwo.agh.edu.pl/wp-content/uploads/2021/11/mcc2019.pdf: The markup you provided was rejected by the parser. Trying a different parser or a different encoding may help.\n",
      "\n",
      "Original exception(s) from parser:\n",
      " AssertionError: expected name token at '<![�KV(��Y�#��%�bi�\\x17'\n",
      "Error fetching the URL: 404 Client Error: Not Found for url: https://odlewnictwo.agh.edu.pl/pracownik/konferencje/www.afe.polsl.pl/pl/kikm/index/80\n"
     ]
    },
    {
     "name": "stderr",
     "output_type": "stream",
     "text": [
      "Crawling:   8%|▊         | 82/1000 [03:02<37:02,  2.42s/it]"
     ]
    },
    {
     "name": "stdout",
     "output_type": "stream",
     "text": [
      "Error fetching the URL: 404 Client Error: Not Found for url: https://odlewnictwo.agh.edu.pl/aktualnosci/info/article/konferencja-sprawozdawcza-komitetu-metalurgii-pan-metalurgia-2014/\n"
     ]
    },
    {
     "name": "stderr",
     "output_type": "stream",
     "text": [
      "Crawling:   8%|▊         | 83/1000 [03:05<38:51,  2.54s/it]"
     ]
    },
    {
     "name": "stdout",
     "output_type": "stream",
     "text": [
      "Error fetching the URL: 404 Client Error: Not Found for url: https://odlewnictwo.agh.edu.pl/wo-2013\n"
     ]
    },
    {
     "name": "stderr",
     "output_type": "stream",
     "text": [
      "Crawling:   8%|▊         | 84/1000 [03:08<39:59,  2.62s/it]"
     ]
    },
    {
     "name": "stdout",
     "output_type": "stream",
     "text": [
      "Error fetching the URL: 404 Client Error: Not Found for url: https://odlewnictwo.agh.edu.pl/pracownik/konferencje/www.targikielce.pl\n"
     ]
    },
    {
     "name": "stderr",
     "output_type": "stream",
     "text": [
      "Crawling:   9%|▊         | 87/1000 [03:15<36:08,  2.37s/it]"
     ]
    },
    {
     "name": "stdout",
     "output_type": "stream",
     "text": [
      "Error fetching the URL: 404 Client Error: Not Found for url: https://odlewnictwo.agh.edu.pl/wydzial/kontakt/epajor@agh.edu.pl\n"
     ]
    },
    {
     "name": "stderr",
     "output_type": "stream",
     "text": [
      "Crawling:  10%|▉         | 97/1000 [03:36<28:58,  1.93s/it]/Users/wnowogorski/PycharmProjects/ChatAGH_DataCollecting/web_scraping/graph_generator.py:184: XMLParsedAsHTMLWarning: It looks like you're using an HTML parser to parse an XML document.\n",
      "\n",
      "Assuming this really is an XML document, what you're doing might work, but you should know that using an XML parser will be more reliable. To parse this document as XML, make sure you have the Python package 'lxml' installed, and pass the keyword argument `features=\"xml\"` into the BeautifulSoup constructor.\n",
      "\n",
      "If you want or need to use an HTML parser on this document, you can make this warning go away by filtering it. To do that, run this code before calling the BeautifulSoup constructor:\n",
      "\n",
      "    from bs4 import XMLParsedAsHTMLWarning\n",
      "    import warnings\n",
      "\n",
      "    warnings.filterwarnings(\"ignore\", category=XMLParsedAsHTMLWarning)\n",
      "\n",
      "  soup = BeautifulSoup(response.text, 'html.parser')\n",
      "Crawling:  14%|█▍        | 140/1000 [05:07<28:12,  1.97s/it]"
     ]
    },
    {
     "name": "stdout",
     "output_type": "stream",
     "text": [
      "Error fetching the URL: 404 Client Error: Not Found for url: https://odlewnictwo.agh.edu.pl/student/praktyki-i-staze/zapala@agh.edu.pl\n"
     ]
    },
    {
     "name": "stderr",
     "output_type": "stream",
     "text": [
      "Crawling:  20%|██        | 200/1000 [07:06<30:34,  2.29s/it]"
     ]
    },
    {
     "name": "stdout",
     "output_type": "stream",
     "text": [
      "Error fetching the URL: 404 Client Error: Not Found for url: https://odlewnictwo.agh.edu.pl/fileadmin/restricted/wo/Protokoly_RW/2021/plan_Kolegium_Wydzialu_15_11_2021.pdf\n"
     ]
    },
    {
     "name": "stderr",
     "output_type": "stream",
     "text": [
      "Crawling:  20%|██        | 201/1000 [07:08<30:07,  2.26s/it]"
     ]
    },
    {
     "name": "stdout",
     "output_type": "stream",
     "text": [
      "Error fetching the URL: 404 Client Error: Not Found for url: https://odlewnictwo.agh.edu.pl/fileadmin/restricted/wo/Protokoly_RW/2021/protokol_z_dnia_20_09_2020.pdf\n"
     ]
    },
    {
     "name": "stderr",
     "output_type": "stream",
     "text": [
      "Crawling:  20%|██        | 202/1000 [07:10<29:42,  2.23s/it]"
     ]
    },
    {
     "name": "stdout",
     "output_type": "stream",
     "text": [
      "Error fetching the URL: 404 Client Error: Not Found for url: https://odlewnictwo.agh.edu.pl/fileadmin/restricted/wo/Protokoly_RW/2021/PLAN_KOLEGIUM_WYDZIALU_W_DNIU_20_09_2021.pdf\n"
     ]
    },
    {
     "name": "stderr",
     "output_type": "stream",
     "text": [
      "Crawling:  20%|██        | 203/1000 [07:12<29:34,  2.23s/it]"
     ]
    },
    {
     "name": "stdout",
     "output_type": "stream",
     "text": [
      "Error fetching the URL: 404 Client Error: Not Found for url: https://odlewnictwo.agh.edu.pl/fileadmin/restricted/wo/Protokoly_RW/2021/28_06_2021_protokol.pdf\n"
     ]
    },
    {
     "name": "stderr",
     "output_type": "stream",
     "text": [
      "Crawling:  20%|██        | 204/1000 [07:14<28:54,  2.18s/it]"
     ]
    },
    {
     "name": "stdout",
     "output_type": "stream",
     "text": [
      "Error fetching the URL: 404 Client Error: Not Found for url: https://odlewnictwo.agh.edu.pl/fileadmin/restricted/wo/Protokoly_RW/2021/PROGRAM_28_06_2021.pdf\n"
     ]
    },
    {
     "name": "stderr",
     "output_type": "stream",
     "text": [
      "Crawling:  20%|██        | 205/1000 [07:16<27:50,  2.10s/it]"
     ]
    },
    {
     "name": "stdout",
     "output_type": "stream",
     "text": [
      "Error fetching the URL: 404 Client Error: Not Found for url: https://odlewnictwo.agh.edu.pl/fileadmin/restricted/wo/Protokoly_RW/2021/PROTOKOL_24_05_2021.pdf\n"
     ]
    },
    {
     "name": "stderr",
     "output_type": "stream",
     "text": [
      "Crawling:  21%|██        | 206/1000 [07:18<27:24,  2.07s/it]"
     ]
    },
    {
     "name": "stdout",
     "output_type": "stream",
     "text": [
      "Error fetching the URL: 404 Client Error: Not Found for url: https://odlewnictwo.agh.edu.pl/fileadmin/restricted/wo/Protokoly_RW/2021/PLAN_KOLEGIUM_WYDZIALU_24_05_2021_r..pdf\n"
     ]
    },
    {
     "name": "stderr",
     "output_type": "stream",
     "text": [
      "Crawling:  21%|██        | 207/1000 [07:20<26:51,  2.03s/it]"
     ]
    },
    {
     "name": "stdout",
     "output_type": "stream",
     "text": [
      "Error fetching the URL: 404 Client Error: Not Found for url: https://odlewnictwo.agh.edu.pl/fileadmin/restricted/wo/Protokoly_RW/2021/Protokol_KW_z_dnia_19_04_2021_r.-1.pdf\n"
     ]
    },
    {
     "name": "stderr",
     "output_type": "stream",
     "text": [
      "Crawling:  21%|██        | 208/1000 [07:22<26:02,  1.97s/it]"
     ]
    },
    {
     "name": "stdout",
     "output_type": "stream",
     "text": [
      "Error fetching the URL: 404 Client Error: Not Found for url: https://odlewnictwo.agh.edu.pl/fileadmin/restricted/wo/Protokoly_RW/2021/program_KW_w_dniu_19_04_2021.pdf\n"
     ]
    },
    {
     "name": "stderr",
     "output_type": "stream",
     "text": [
      "Crawling:  21%|██        | 209/1000 [07:24<26:55,  2.04s/it]"
     ]
    },
    {
     "name": "stdout",
     "output_type": "stream",
     "text": [
      "Error fetching the URL: 404 Client Error: Not Found for url: https://odlewnictwo.agh.edu.pl/fileadmin/restricted/wo/Protokoly_RW/2021/protokol_15_03_2021.pdf\n"
     ]
    },
    {
     "name": "stderr",
     "output_type": "stream",
     "text": [
      "Crawling:  21%|██        | 210/1000 [07:26<27:23,  2.08s/it]"
     ]
    },
    {
     "name": "stdout",
     "output_type": "stream",
     "text": [
      "Error fetching the URL: 404 Client Error: Not Found for url: https://odlewnictwo.agh.edu.pl/fileadmin/restricted/wo/Protokoly_RW/2021/Plan_Kolegium_Wydzialu_15_03_2021.pdf\n"
     ]
    },
    {
     "name": "stderr",
     "output_type": "stream",
     "text": [
      "Crawling:  21%|██        | 211/1000 [07:29<28:28,  2.17s/it]"
     ]
    },
    {
     "name": "stdout",
     "output_type": "stream",
     "text": [
      "Error fetching the URL: 404 Client Error: Not Found for url: https://odlewnictwo.agh.edu.pl/fileadmin/restricted/wo/Protokoly_RW/2021/Protokol_01_02_2021.pdf\n"
     ]
    },
    {
     "name": "stderr",
     "output_type": "stream",
     "text": [
      "Crawling:  21%|██        | 212/1000 [07:31<27:54,  2.13s/it]"
     ]
    },
    {
     "name": "stdout",
     "output_type": "stream",
     "text": [
      "Error fetching the URL: 404 Client Error: Not Found for url: https://odlewnictwo.agh.edu.pl/fileadmin/restricted/wo/Protokoly_RW/2021/Plan_KW_w_dniu_02_02_2021.pdf\n"
     ]
    },
    {
     "name": "stderr",
     "output_type": "stream",
     "text": [
      "Crawling:  32%|███▎      | 325/1000 [11:02<17:53,  1.59s/it]"
     ]
    },
    {
     "name": "stdout",
     "output_type": "stream",
     "text": [
      "Error crawling https://odlewnictwo.agh.edu.pl/wp-content/uploads/2021/11/Zaproszenie_na_publiczna_obrone_z_logo_-_PN.pdf: The markup you provided was rejected by the parser. Trying a different parser or a different encoding may help.\n",
      "\n",
      "Original exception(s) from parser:\n",
      " AssertionError: expected name token at '<![�m���\\x7f\\x10�\\x06�9Sc��.�'\n"
     ]
    },
    {
     "name": "stderr",
     "output_type": "stream",
     "text": [
      "Crawling:  33%|███▎      | 332/1000 [11:15<16:28,  1.48s/it]"
     ]
    },
    {
     "name": "stdout",
     "output_type": "stream",
     "text": [
      "Error crawling https://odlewnictwo.agh.edu.pl/wp-content/uploads/2021/11/Streszczenie_jezyk_angielski_M.Piekos.pdf: The markup you provided was rejected by the parser. Trying a different parser or a different encoding may help.\n",
      "\n",
      "Original exception(s) from parser:\n",
      " AssertionError: expected name token at '<![��\\x1f1\\x13��8o��\\x178q�\\x0f�'\n"
     ]
    },
    {
     "name": "stderr",
     "output_type": "stream",
     "text": [
      "Crawling:  47%|████▋     | 468/1000 [15:48<15:48,  1.78s/it]"
     ]
    },
    {
     "name": "stdout",
     "output_type": "stream",
     "text": [
      "Error crawling https://odlewnictwo.agh.edu.pl/wp-content/uploads/2021/11/Zaproszenie_na_publiczna_obrone_rozprawy_doktorskiej_Pani_mgr_Magdaleny_Bisztygi_-_Szklarz.pdf: The markup you provided was rejected by the parser. Trying a different parser or a different encoding may help.\n",
      "\n",
      "Original exception(s) from parser:\n",
      " AssertionError: expected name token at '<![�І\\x15j>g�Q6�Я�����w'\n"
     ]
    },
    {
     "name": "stderr",
     "output_type": "stream",
     "text": [
      "Crawling:  58%|█████▊    | 576/1000 [19:41<17:08,  2.43s/it]"
     ]
    },
    {
     "name": "stdout",
     "output_type": "stream",
     "text": [
      "Error fetching the URL: 404 Client Error: Not Found for url: https://odlewnictwo.agh.edu.pl/fileadmin/default/templates/css/w/08_wo/Konferencje/wo_2015/AGENDA_Polski.pdf\n"
     ]
    },
    {
     "name": "stderr",
     "output_type": "stream",
     "text": [
      "Crawling:  71%|███████   | 711/1000 [23:38<05:35,  1.16s/it]"
     ]
    },
    {
     "name": "stdout",
     "output_type": "stream",
     "text": [
      "Error crawling https://odlewnictwo.agh.edu.pl/wp-content/uploads/2021/11/csm_15156925_10157881480400602_6827439561927186775_o_8b34818323.jpg: The markup you provided was rejected by the parser. Trying a different parser or a different encoding may help.\n",
      "\n",
      "Original exception(s) from parser:\n",
      " AssertionError: expected name token at '<![�����\\x83*��g�Њ�R�~n'\n"
     ]
    },
    {
     "name": "stderr",
     "output_type": "stream",
     "text": [
      "Crawling: 100%|██████████| 1000/1000 [31:29<00:00,  1.89s/it]\n"
     ]
    },
    {
     "name": "stdout",
     "output_type": "stream",
     "text": [
      "https://wmn.agh.edu.pl/\n"
     ]
    },
    {
     "name": "stderr",
     "output_type": "stream",
     "text": [
      "Crawling:   3%|▎         | 26/1000 [00:53<36:05,  2.22s/it]"
     ]
    },
    {
     "name": "stdout",
     "output_type": "stream",
     "text": [
      "Error fetching the URL: 404 Client Error: Not Found for url: https://wmn.agh.edu.pl/www.pse.pl\n"
     ]
    },
    {
     "name": "stderr",
     "output_type": "stream",
     "text": [
      "Crawling:   3%|▎         | 27/1000 [00:55<34:06,  2.10s/it]"
     ]
    },
    {
     "name": "stdout",
     "output_type": "stream",
     "text": [
      "Error fetching the URL: 404 Client Error: Not Found for url: https://wmn.agh.edu.pl/www.kuca.pl/\n"
     ]
    },
    {
     "name": "stderr",
     "output_type": "stream",
     "text": [
      "Crawling:   3%|▎         | 28/1000 [00:56<30:49,  1.90s/it]"
     ]
    },
    {
     "name": "stdout",
     "output_type": "stream",
     "text": [
      "Error fetching the URL: 404 Client Error: Not Found for url: https://wmn.agh.edu.pl/www.kghm.com\n"
     ]
    },
    {
     "name": "stderr",
     "output_type": "stream",
     "text": [
      "Crawling:   3%|▎         | 29/1000 [00:58<29:07,  1.80s/it]"
     ]
    },
    {
     "name": "stdout",
     "output_type": "stream",
     "text": [
      "Error fetching the URL: 404 Client Error: Not Found for url: https://wmn.agh.edu.pl/www.walcownia.com\n"
     ]
    },
    {
     "name": "stderr",
     "output_type": "stream",
     "text": [
      "Crawling:   3%|▎         | 31/1000 [01:02<30:15,  1.87s/it]"
     ]
    },
    {
     "name": "stdout",
     "output_type": "stream",
     "text": [
      "Error fetching the URL: 404 Client Error: Not Found for url: https://wmn.agh.edu.pl/www.pse.pl\n"
     ]
    },
    {
     "name": "stderr",
     "output_type": "stream",
     "text": [
      "Crawling:   3%|▎         | 32/1000 [01:03<29:30,  1.83s/it]"
     ]
    },
    {
     "name": "stdout",
     "output_type": "stream",
     "text": [
      "Error fetching the URL: 404 Client Error: Not Found for url: https://wmn.agh.edu.pl/www.kuca.pl/\n"
     ]
    },
    {
     "name": "stderr",
     "output_type": "stream",
     "text": [
      "Crawling:   3%|▎         | 33/1000 [01:05<28:44,  1.78s/it]"
     ]
    },
    {
     "name": "stdout",
     "output_type": "stream",
     "text": [
      "Error fetching the URL: 404 Client Error: Not Found for url: https://wmn.agh.edu.pl/www.kghm.com\n"
     ]
    },
    {
     "name": "stderr",
     "output_type": "stream",
     "text": [
      "Crawling:   3%|▎         | 34/1000 [01:07<28:50,  1.79s/it]"
     ]
    },
    {
     "name": "stdout",
     "output_type": "stream",
     "text": [
      "Error fetching the URL: 404 Client Error: Not Found for url: https://wmn.agh.edu.pl/www.walcownia.com\n"
     ]
    },
    {
     "name": "stderr",
     "output_type": "stream",
     "text": [
      "Crawling:  43%|████▎     | 427/1000 [15:05<19:57,  2.09s/it]"
     ]
    },
    {
     "name": "stdout",
     "output_type": "stream",
     "text": [
      "Error fetching the URL: 404 Client Error: Not Found for url: https://wmn.agh.edu.pl/informacja-dla-absolwentow-roku-akademickiego-20202021-dot.-odbioru-dyplomu-76-74\n"
     ]
    },
    {
     "name": "stderr",
     "output_type": "stream",
     "text": [
      "Crawling:  45%|████▌     | 452/1000 [15:57<18:18,  2.01s/it]"
     ]
    },
    {
     "name": "stdout",
     "output_type": "stream",
     "text": [
      "Error fetching the URL: HTTPConnectionPool(host='wmn.agh.edu.pl', port=80): Read timed out. (read timeout=10)\n"
     ]
    },
    {
     "name": "stderr",
     "output_type": "stream",
     "text": [
      "Crawling:  75%|███████▍  | 747/1000 [27:43<07:16,  1.73s/it]"
     ]
    },
    {
     "name": "stdout",
     "output_type": "stream",
     "text": [
      "Error fetching the URL: 403 Client Error: Forbidden for url: https://wmn.agh.edu.pl/%20https:/agh4s2024.4scienceinstitute.org/\n"
     ]
    },
    {
     "name": "stderr",
     "output_type": "stream",
     "text": [
      "Crawling:  75%|███████▍  | 748/1000 [27:45<06:52,  1.64s/it]"
     ]
    },
    {
     "name": "stdout",
     "output_type": "stream",
     "text": [
      "Error fetching the URL: 403 Client Error: Forbidden for url: https://wmn.agh.edu.pl/%20https:/emb-agh4s2024.4scienceinstitute.org/\n"
     ]
    },
    {
     "name": "stderr",
     "output_type": "stream",
     "text": [
      "Crawling:  75%|███████▍  | 749/1000 [27:46<06:40,  1.59s/it]"
     ]
    },
    {
     "name": "stdout",
     "output_type": "stream",
     "text": [
      "Error fetching the URL: 403 Client Error: Forbidden for url: https://wmn.agh.edu.pl/%20https:/cyber-agh4s2024.4scienceinstitute.org/\n"
     ]
    },
    {
     "name": "stderr",
     "output_type": "stream",
     "text": [
      "Crawling:  75%|███████▌  | 750/1000 [27:48<06:27,  1.55s/it]"
     ]
    },
    {
     "name": "stdout",
     "output_type": "stream",
     "text": [
      "Error fetching the URL: 403 Client Error: Forbidden for url: https://wmn.agh.edu.pl/%20https:/platform.4scienceinstitute.org/signup\n"
     ]
    },
    {
     "name": "stderr",
     "output_type": "stream",
     "text": [
      "Crawling:  75%|███████▌  | 751/1000 [27:49<06:16,  1.51s/it]"
     ]
    },
    {
     "name": "stdout",
     "output_type": "stream",
     "text": [
      "Error fetching the URL: 403 Client Error: Forbidden for url: https://wmn.agh.edu.pl/%20https:/lnkd.in/dG7vNWKe\n"
     ]
    },
    {
     "name": "stderr",
     "output_type": "stream",
     "text": [
      "Crawling:  78%|███████▊  | 777/1000 [28:36<06:48,  1.83s/it]"
     ]
    },
    {
     "name": "stdout",
     "output_type": "stream",
     "text": [
      "Error fetching the URL: 404 Client Error: Not Found for url: https://wmn.agh.edu.pl/rekrutacja.agh.edu.pl\n"
     ]
    },
    {
     "name": "stderr",
     "output_type": "stream",
     "text": [
      "Crawling:  81%|████████  | 810/1000 [29:34<04:27,  1.41s/it]"
     ]
    },
    {
     "name": "stdout",
     "output_type": "stream",
     "text": [
      "Error crawling http://wmn.agh.edu.pl/uploads/180.pdf: The markup you provided was rejected by the parser. Trying a different parser or a different encoding may help.\n",
      "\n",
      "Original exception(s) from parser:\n",
      " AssertionError: unknown status keyword 'c\\x0b' in marked section\n"
     ]
    },
    {
     "name": "stderr",
     "output_type": "stream",
     "text": [
      "Crawling:  83%|████████▎ | 829/1000 [30:09<04:08,  1.45s/it]"
     ]
    },
    {
     "name": "stdout",
     "output_type": "stream",
     "text": [
      "Error crawling http://wmn.agh.edu.pl/uploads/20220930132513439.pdf: The markup you provided was rejected by the parser. Trying a different parser or a different encoding may help.\n",
      "\n",
      "Original exception(s) from parser:\n",
      " AssertionError: unknown status keyword 'q' in marked section\n"
     ]
    },
    {
     "name": "stderr",
     "output_type": "stream",
     "text": [
      "Crawling:  84%|████████▎ | 837/1000 [30:28<05:44,  2.11s/it]"
     ]
    },
    {
     "name": "stdout",
     "output_type": "stream",
     "text": [
      "Error fetching the URL: 403 Client Error: Forbidden for url: https://wmn.agh.edu.pl/%20http:/www.bhp.agh.edu.pl/studenci/\n"
     ]
    },
    {
     "name": "stderr",
     "output_type": "stream",
     "text": [
      "Crawling:  98%|█████████▊| 981/1000 [35:05<00:40,  2.15s/it]\n"
     ]
    },
    {
     "name": "stdout",
     "output_type": "stream",
     "text": [
      "https://wnig.agh.edu.pl/\n"
     ]
    },
    {
     "name": "stderr",
     "output_type": "stream",
     "text": [
      "Crawling:  24%|██▍       | 239/1000 [08:29<23:18,  1.84s/it] "
     ]
    },
    {
     "name": "stdout",
     "output_type": "stream",
     "text": [
      "Error fetching the URL: HTTPSConnectionPool(host='wnig.agh.edu.pl', port=443): Read timed out. (read timeout=10)\n"
     ]
    },
    {
     "name": "stderr",
     "output_type": "stream",
     "text": [
      "Crawling:  53%|█████▎    | 528/1000 [17:56<10:33,  1.34s/it]  "
     ]
    },
    {
     "name": "stdout",
     "output_type": "stream",
     "text": [
      "Error crawling https://test.wnig.agh.edu.pl/wp-content/uploads/2020/02/galeria_2019_06_05_2.jpg: The markup you provided was rejected by the parser. Trying a different parser or a different encoding may help.\n",
      "\n",
      "Original exception(s) from parser:\n",
      " AssertionError: expected name token at '<![:\\x06���F�Q�\\x00W\\r\\x07M\\x07hW'\n"
     ]
    },
    {
     "name": "stderr",
     "output_type": "stream",
     "text": [
      "Crawling:  55%|█████▍    | 545/1000 [18:24<10:11,  1.34s/it]"
     ]
    },
    {
     "name": "stdout",
     "output_type": "stream",
     "text": [
      "Error crawling https://test.wnig.agh.edu.pl/wp-content/uploads/2020/02/galeria_2019_06_05_19.jpg: The markup you provided was rejected by the parser. Trying a different parser or a different encoding may help.\n",
      "\n",
      "Original exception(s) from parser:\n",
      " AssertionError: expected name token at '<![ژ���\\x02��*��W\\x11���*\\ue625'\n"
     ]
    },
    {
     "name": "stderr",
     "output_type": "stream",
     "text": [
      "Crawling:  57%|█████▋    | 566/1000 [18:58<08:52,  1.23s/it]"
     ]
    },
    {
     "name": "stdout",
     "output_type": "stream",
     "text": [
      "Error crawling https://test.wnig.agh.edu.pl/wp-content/uploads/2020/02/galeria_2019_06_06_20.jpg: The markup you provided was rejected by the parser. Trying a different parser or a different encoding may help.\n",
      "\n",
      "Original exception(s) from parser:\n",
      " AssertionError: expected name token at '<![��$��M��b��������'\n"
     ]
    },
    {
     "name": "stderr",
     "output_type": "stream",
     "text": [
      "Crawling:  67%|██████▋   | 666/1000 [22:17<10:38,  1.91s/it]"
     ]
    },
    {
     "name": "stdout",
     "output_type": "stream",
     "text": [
      "Error fetching the URL: HTTPSConnectionPool(host='wnig.agh.edu.pl', port=443): Read timed out. (read timeout=10)\n"
     ]
    },
    {
     "name": "stderr",
     "output_type": "stream",
     "text": [
      "Crawling:  70%|███████   | 701/1000 [23:39<10:34,  2.12s/it]"
     ]
    },
    {
     "name": "stdout",
     "output_type": "stream",
     "text": [
      "Error fetching the URL: 404 Client Error: Not Found for url: https://wnig.agh.edu.pl/wp-content/uploads/2020/11/aktualne-terminy-zjazd%C3%B3w.pdf\n"
     ]
    },
    {
     "name": "stderr",
     "output_type": "stream",
     "text": [
      "Crawling:  88%|████████▊ | 877/1000 [29:14<03:01,  1.47s/it]"
     ]
    },
    {
     "name": "stdout",
     "output_type": "stream",
     "text": [
      "Error crawling https://wnig.agh.edu.pl/wp-content/uploads/2021/02/S_komunikaty_swiadczenia_2020_2021_sem_letni_2021_02_02.pdf: The markup you provided was rejected by the parser. Trying a different parser or a different encoding may help.\n",
      "\n",
      "Original exception(s) from parser:\n",
      " AssertionError: expected name token at '<![�+M��\\\\��Q\\x00�\\x00r��g\\x1a'\n"
     ]
    },
    {
     "name": "stderr",
     "output_type": "stream",
     "text": [
      "Crawling: 100%|██████████| 1000/1000 [32:58<00:00,  1.98s/it]\n"
     ]
    },
    {
     "name": "stdout",
     "output_type": "stream",
     "text": [
      "https://www.zarz.agh.edu.pl/\n"
     ]
    },
    {
     "name": "stderr",
     "output_type": "stream",
     "text": [
      "Crawling:   2%|▏         | 18/1000 [00:45<44:07,  2.70s/it]"
     ]
    },
    {
     "name": "stdout",
     "output_type": "stream",
     "text": [
      "Error fetching the URL: 404 Client Error: Not Found for url: https://www.zarz.agh.edu.pl/index.php/studia-doktoranckie/\n"
     ]
    },
    {
     "name": "stderr",
     "output_type": "stream",
     "text": [
      "Crawling:  21%|██        | 211/1000 [07:05<25:50,  1.97s/it]"
     ]
    },
    {
     "name": "stdout",
     "output_type": "stream",
     "text": [
      "Error fetching the URL: 404 Client Error: Not Found for url: https://www.zarz.agh.edu.pl/polska/informacje_o_wydziale/dzialalnosc_naukowa/Info_1_2016.pdf\n"
     ]
    },
    {
     "name": "stderr",
     "output_type": "stream",
     "text": [
      "Crawling:  27%|██▋       | 268/1000 [08:48<21:24,  1.76s/it]"
     ]
    },
    {
     "name": "stdout",
     "output_type": "stream",
     "text": [
      "Error fetching the URL: 404 Client Error: Not Found for url: https://www.zarz.agh.edu.pl/wp-content/uploads/2021/09/7_Procedura_doktoranci_zglaszania_ograniczen_2021_22-1.pdf\n"
     ]
    },
    {
     "name": "stderr",
     "output_type": "stream",
     "text": [
      "Crawling:  27%|██▋       | 274/1000 [08:59<21:10,  1.75s/it]"
     ]
    },
    {
     "name": "stdout",
     "output_type": "stream",
     "text": [
      "Error fetching the URL: 404 Client Error: Not Found for url: https://www.zarz.agh.edu.pl/wp-content/uploads/2016/04/organizacja-roku-ak.-2017-18.pdf\n"
     ]
    },
    {
     "name": "stderr",
     "output_type": "stream",
     "text": [
      "Crawling:  28%|██▊       | 278/1000 [09:06<22:20,  1.86s/it]"
     ]
    },
    {
     "name": "stdout",
     "output_type": "stream",
     "text": [
      "Error fetching the URL: 404 Client Error: Not Found for url: https://www.zarz.agh.edu.pl/wp-content/uploads/2016/05/Regulamin-kwalifikacji-wniosk%C3%B3w-NR.pdf\n"
     ]
    },
    {
     "name": "stderr",
     "output_type": "stream",
     "text": [
      "Crawling:  28%|██▊       | 280/1000 [09:10<21:54,  1.83s/it]"
     ]
    },
    {
     "name": "stdout",
     "output_type": "stream",
     "text": [
      "Error fetching the URL: 404 Client Error: Not Found for url: https://www.zarz.agh.edu.pl/wp-content/uploads/2016/05/wniosek-o-nagrode-rektora_zespo%C5%82owa.docx\n"
     ]
    },
    {
     "name": "stderr",
     "output_type": "stream",
     "text": [
      "Crawling:  29%|██▉       | 289/1000 [09:32<29:58,  2.53s/it]"
     ]
    },
    {
     "name": "stdout",
     "output_type": "stream",
     "text": [
      "Error fetching the URL: 404 Client Error: Not Found for url: https://www.zarz.agh.edu.pl/index.php/kontakt/wzarz@zarz.agh.edu.pl\n"
     ]
    },
    {
     "name": "stderr",
     "output_type": "stream",
     "text": [
      "Crawling:  30%|███       | 300/1000 [09:54<22:56,  1.97s/it]"
     ]
    },
    {
     "name": "stdout",
     "output_type": "stream",
     "text": [
      "Error fetching the URL: 404 Client Error: Not Found for url: https://www.zarz.agh.edu.pl/wp-content/uploads/2023/04/oplaty-za-przetrzymane-ksiazki.pdf\n"
     ]
    },
    {
     "name": "stderr",
     "output_type": "stream",
     "text": [
      "Crawling:  52%|█████▎    | 525/1000 [16:53<16:36,  2.10s/it]"
     ]
    },
    {
     "name": "stdout",
     "output_type": "stream",
     "text": [
      "Error fetching the URL: 404 Client Error: Not Found for url: http://www.zarz.agh.edu.pl/index.php/studia-doktoranckie/\n"
     ]
    },
    {
     "name": "stderr",
     "output_type": "stream",
     "text": [
      "Crawling:  56%|█████▌    | 560/1000 [18:13<11:33,  1.58s/it]"
     ]
    },
    {
     "name": "stdout",
     "output_type": "stream",
     "text": [
      "Error crawling http://www.zarz.agh.edu.pl/wpawnik/pliki_do_pobrania/Wojciech_Pawnik_Spoleczna_odpowiedzialnosc_przedsiebiorstwa.pdf: The markup you provided was rejected by the parser. Trying a different parser or a different encoding may help.\n",
      "\n",
      "Original exception(s) from parser:\n",
      " AssertionError: expected name token at '<![\\x1d\\x1d۽�)&����\\x1a�=\\x10t��'\n"
     ]
    },
    {
     "name": "stderr",
     "output_type": "stream",
     "text": [
      "Crawling:  56%|█████▌    | 562/1000 [18:20<16:54,  2.32s/it]"
     ]
    },
    {
     "name": "stdout",
     "output_type": "stream",
     "text": [
      "Error fetching the URL: 404 Client Error: Not Found for url: http://www.zarz.agh.edu.pl/wpawnik/pliki_do_pobrania/Wojciech_Pawnik_Zaufanie_spoleczne_paradoks_proces?w_modernizacyjnych.pdf\n"
     ]
    },
    {
     "name": "stderr",
     "output_type": "stream",
     "text": [
      "Crawling:  57%|█████▋    | 569/1000 [18:47<14:13,  1.98s/it]\n"
     ]
    },
    {
     "name": "stdout",
     "output_type": "stream",
     "text": [
      "https://weip.agh.edu.pl/\n"
     ]
    },
    {
     "name": "stderr",
     "output_type": "stream",
     "text": [
      "Crawling:  21%|██        | 206/1000 [06:18<22:44,  1.72s/it] "
     ]
    },
    {
     "name": "stdout",
     "output_type": "stream",
     "text": [
      "Error fetching the URL: 404 Client Error: Not Found for url: https://weip.agh.edu.pl/wiecej/ogloszenie-o-mozliwosci-zatrudnienia-konkurs/?portfolioCats=33\n"
     ]
    },
    {
     "name": "stderr",
     "output_type": "stream",
     "text": [
      "Crawling:  80%|███████▉  | 798/1000 [42:49<10:50,  3.22s/it]  \n"
     ]
    },
    {
     "name": "stdout",
     "output_type": "stream",
     "text": [
      "https://www.fis.agh.edu.pl/\n"
     ]
    },
    {
     "name": "stderr",
     "output_type": "stream",
     "text": [
      "Crawling:  27%|██▋       | 269/1000 [08:34<23:56,  1.97s/it]  "
     ]
    },
    {
     "name": "stdout",
     "output_type": "stream",
     "text": [
      "Error crawling https://www.fis.agh.edu.pl/home/wfiis/wfiis/doc/pl/seminarium/2024_JN.pdf: The markup you provided was rejected by the parser. Trying a different parser or a different encoding may help.\n",
      "\n",
      "Original exception(s) from parser:\n",
      " AssertionError: expected name token at '<![\\x0c�y�\\x19\\x18��Lf�\\x11{5ѥB�'\n"
     ]
    },
    {
     "name": "stderr",
     "output_type": "stream",
     "text": [
      "Crawling:  28%|██▊       | 278/1000 [08:50<18:26,  1.53s/it]"
     ]
    },
    {
     "name": "stdout",
     "output_type": "stream",
     "text": [
      "Error crawling https://www.fis.agh.edu.pl/home/wfiis/wfiis/doc/pl/seminarium/2024_AZ_abs.pdf: The markup you provided was rejected by the parser. Trying a different parser or a different encoding may help.\n",
      "\n",
      "Original exception(s) from parser:\n",
      " AssertionError: unknown status keyword 'L' in marked section\n"
     ]
    },
    {
     "name": "stderr",
     "output_type": "stream",
     "text": [
      "Crawling:  39%|███▉      | 392/1000 [13:00<16:23,  1.62s/it]"
     ]
    },
    {
     "name": "stdout",
     "output_type": "stream",
     "text": [
      "Error crawling https://www.fis.agh.edu.pl/home/wfiis/wfiis/doc/pl/seminarium/2020_MP_abs.pdf: The markup you provided was rejected by the parser. Trying a different parser or a different encoding may help.\n",
      "\n",
      "Original exception(s) from parser:\n",
      " AssertionError: unknown status keyword 'v' in marked section\n"
     ]
    },
    {
     "name": "stderr",
     "output_type": "stream",
     "text": [
      "Crawling:  47%|████▋     | 472/1000 [16:58<1:51:23, 12.66s/it]"
     ]
    },
    {
     "name": "stdout",
     "output_type": "stream",
     "text": [
      "Error fetching the URL: HTTPSConnectionPool(host='www.fis.agh.edu.pl', port=443): Read timed out.\n"
     ]
    },
    {
     "name": "stderr",
     "output_type": "stream",
     "text": [
      "Crawling:  50%|█████     | 504/1000 [19:18<16:41,  2.02s/it]  /Users/wnowogorski/PycharmProjects/ChatAGH_DataCollecting/web_scraping/graph_generator.py:184: XMLParsedAsHTMLWarning: It looks like you're using an HTML parser to parse an XML document.\n",
      "\n",
      "Assuming this really is an XML document, what you're doing might work, but you should know that using an XML parser will be more reliable. To parse this document as XML, make sure you have the Python package 'lxml' installed, and pass the keyword argument `features=\"xml\"` into the BeautifulSoup constructor.\n",
      "\n",
      "If you want or need to use an HTML parser on this document, you can make this warning go away by filtering it. To do that, run this code before calling the BeautifulSoup constructor:\n",
      "\n",
      "    from bs4 import XMLParsedAsHTMLWarning\n",
      "    import warnings\n",
      "\n",
      "    warnings.filterwarnings(\"ignore\", category=XMLParsedAsHTMLWarning)\n",
      "\n",
      "  soup = BeautifulSoup(response.text, 'html.parser')\n",
      "Crawling:  51%|█████▏    | 514/1000 [19:43<17:04,  2.11s/it]"
     ]
    },
    {
     "name": "stdout",
     "output_type": "stream",
     "text": [
      "Error fetching the URL: 404 Client Error: Not Found for url: https://www.fis.agh.edu.pl/home/wfiis/wfiis/doc/pl/seminarium/2017_BB.pdf\n"
     ]
    },
    {
     "name": "stderr",
     "output_type": "stream",
     "text": [
      "Crawling:  53%|█████▎    | 528/1000 [20:12<15:48,  2.01s/it]/Users/wnowogorski/PycharmProjects/ChatAGH_DataCollecting/web_scraping/graph_generator.py:184: XMLParsedAsHTMLWarning: It looks like you're using an HTML parser to parse an XML document.\n",
      "\n",
      "Assuming this really is an XML document, what you're doing might work, but you should know that using an XML parser will be more reliable. To parse this document as XML, make sure you have the Python package 'lxml' installed, and pass the keyword argument `features=\"xml\"` into the BeautifulSoup constructor.\n",
      "\n",
      "If you want or need to use an HTML parser on this document, you can make this warning go away by filtering it. To do that, run this code before calling the BeautifulSoup constructor:\n",
      "\n",
      "    from bs4 import XMLParsedAsHTMLWarning\n",
      "    import warnings\n",
      "\n",
      "    warnings.filterwarnings(\"ignore\", category=XMLParsedAsHTMLWarning)\n",
      "\n",
      "  soup = BeautifulSoup(response.text, 'html.parser')\n",
      "Crawling:  56%|█████▌    | 560/1000 [22:38<23:38,  3.22s/it]  "
     ]
    },
    {
     "name": "stdout",
     "output_type": "stream",
     "text": [
      "Error fetching the URL: 404 Client Error: Not Found for url: https://www.fis.agh.edu.pl/home/wfiis/wfiis/doc/pl/seminarium/homola_2016.pdf\n"
     ]
    },
    {
     "name": "stderr",
     "output_type": "stream",
     "text": [
      "Crawling:  56%|█████▋    | 565/1000 [22:50<17:39,  2.44s/it]"
     ]
    },
    {
     "name": "stdout",
     "output_type": "stream",
     "text": [
      "Error fetching the URL: 404 Client Error: Not Found for url: https://www.fis.agh.edu.pl/home/wfiis/wfiis/doc/pl/seminarium/2016_Kaminski.pdf\n"
     ]
    },
    {
     "name": "stderr",
     "output_type": "stream",
     "text": [
      "Crawling:  58%|█████▊    | 578/1000 [23:42<19:24,  2.76s/it]/Users/wnowogorski/PycharmProjects/ChatAGH_DataCollecting/web_scraping/graph_generator.py:184: XMLParsedAsHTMLWarning: It looks like you're using an HTML parser to parse an XML document.\n",
      "\n",
      "Assuming this really is an XML document, what you're doing might work, but you should know that using an XML parser will be more reliable. To parse this document as XML, make sure you have the Python package 'lxml' installed, and pass the keyword argument `features=\"xml\"` into the BeautifulSoup constructor.\n",
      "\n",
      "If you want or need to use an HTML parser on this document, you can make this warning go away by filtering it. To do that, run this code before calling the BeautifulSoup constructor:\n",
      "\n",
      "    from bs4 import XMLParsedAsHTMLWarning\n",
      "    import warnings\n",
      "\n",
      "    warnings.filterwarnings(\"ignore\", category=XMLParsedAsHTMLWarning)\n",
      "\n",
      "  soup = BeautifulSoup(response.text, 'html.parser')\n",
      "Crawling:  59%|█████▉    | 589/1000 [24:11<19:54,  2.91s/it]"
     ]
    },
    {
     "name": "stdout",
     "output_type": "stream",
     "text": [
      "Error fetching the URL: HTTPSConnectionPool(host='www.fis.agh.edu.pl', port=443): Read timed out.\n"
     ]
    },
    {
     "name": "stderr",
     "output_type": "stream",
     "text": [
      "Crawling:  60%|█████▉    | 597/1000 [25:19<43:45,  6.52s/it]  "
     ]
    },
    {
     "name": "stdout",
     "output_type": "stream",
     "text": [
      "Error fetching the URL: 404 Client Error: Not Found for url: https://www.fis.agh.edu.pl/home/wfiis/wfiis/doc/pl/seminarium/adamowski_2014.pdf\n"
     ]
    },
    {
     "name": "stderr",
     "output_type": "stream",
     "text": [
      "Crawling:  61%|██████▏   | 613/1000 [29:38<28:58,  4.49s/it]  "
     ]
    },
    {
     "name": "stdout",
     "output_type": "stream",
     "text": [
      "Error fetching the URL: 404 Client Error: Not Found for url: https://www.fis.agh.edu.pl/home/wfiis/wfiis/doc/pl/seminarium/seminarium\n"
     ]
    },
    {
     "name": "stderr",
     "output_type": "stream",
     "text": [
      "Crawling:  64%|██████▎   | 635/1000 [30:39<16:33,  2.72s/it]"
     ]
    },
    {
     "name": "stdout",
     "output_type": "stream",
     "text": [
      "Error fetching the URL: 404 Client Error: Not Found for url: https://www.fis.agh.edu.pl/home/wfiis/wfiis/doc/pl/seminarium/chau.pdf\n"
     ]
    },
    {
     "name": "stderr",
     "output_type": "stream",
     "text": [
      "Crawling:  64%|██████▍   | 639/1000 [30:49<15:39,  2.60s/it]"
     ]
    },
    {
     "name": "stdout",
     "output_type": "stream",
     "text": [
      "Error crawling https://www.fis.agh.edu.pl/home/wfiis/wfiis/doc/pl/seminarium/spalek2011.pdf: The markup you provided was rejected by the parser. Trying a different parser or a different encoding may help.\n",
      "\n",
      "Original exception(s) from parser:\n",
      " AssertionError: expected name token at '<![*Rڝ\\x06J_����F�\\x1f���p'\n"
     ]
    },
    {
     "name": "stderr",
     "output_type": "stream",
     "text": [
      "Crawling:  68%|██████▊   | 678/1000 [32:23<11:40,  2.17s/it]"
     ]
    },
    {
     "name": "stdout",
     "output_type": "stream",
     "text": [
      "Error fetching the URL: 404 Client Error: Not Found for url: https://www.fis.agh.edu.pl/home/wfiis/wfiis/doc/pl/seminarium/niewodniczanski.pdf\n"
     ]
    },
    {
     "name": "stderr",
     "output_type": "stream",
     "text": [
      "Crawling:  71%|███████▏  | 713/1000 [33:57<11:09,  2.33s/it]"
     ]
    },
    {
     "name": "stdout",
     "output_type": "stream",
     "text": [
      "Error fetching the URL: 404 Client Error: Not Found for url: https://www.fis.agh.edu.pl/home/wfiis/wfiis/doc/pl/seminarium/ft/FTsem1.pdf\n"
     ]
    },
    {
     "name": "stderr",
     "output_type": "stream",
     "text": [
      "Crawling:  71%|███████▏  | 714/1000 [33:59<10:03,  2.11s/it]"
     ]
    },
    {
     "name": "stdout",
     "output_type": "stream",
     "text": [
      "Error fetching the URL: 404 Client Error: Not Found for url: https://www.fis.agh.edu.pl/home/wfiis/wfiis/doc/pl/seminarium/ft/FTsem2.pdf\n"
     ]
    },
    {
     "name": "stderr",
     "output_type": "stream",
     "text": [
      "Crawling:  72%|███████▏  | 715/1000 [34:00<09:03,  1.91s/it]"
     ]
    },
    {
     "name": "stdout",
     "output_type": "stream",
     "text": [
      "Error fetching the URL: 404 Client Error: Not Found for url: https://www.fis.agh.edu.pl/home/wfiis/wfiis/doc/pl/seminarium/ft/FTsem3.pdf\n"
     ]
    },
    {
     "name": "stderr",
     "output_type": "stream",
     "text": [
      "Crawling:  72%|███████▏  | 716/1000 [34:02<08:20,  1.76s/it]"
     ]
    },
    {
     "name": "stdout",
     "output_type": "stream",
     "text": [
      "Error fetching the URL: 404 Client Error: Not Found for url: https://www.fis.agh.edu.pl/home/wfiis/wfiis/doc/pl/seminarium/ft/FTsem4.pdf\n"
     ]
    },
    {
     "name": "stderr",
     "output_type": "stream",
     "text": [
      "Crawling:  72%|███████▏  | 717/1000 [34:03<07:41,  1.63s/it]"
     ]
    },
    {
     "name": "stdout",
     "output_type": "stream",
     "text": [
      "Error fetching the URL: 404 Client Error: Not Found for url: https://www.fis.agh.edu.pl/home/wfiis/wfiis/doc/pl/seminarium/ft/FTsem5.pdf\n"
     ]
    },
    {
     "name": "stderr",
     "output_type": "stream",
     "text": [
      "Crawling:  72%|███████▏  | 718/1000 [34:04<07:12,  1.53s/it]"
     ]
    },
    {
     "name": "stdout",
     "output_type": "stream",
     "text": [
      "Error fetching the URL: 404 Client Error: Not Found for url: https://www.fis.agh.edu.pl/home/wfiis/wfiis/doc/pl/seminarium/ft/FTsem6.pdf\n"
     ]
    },
    {
     "name": "stderr",
     "output_type": "stream",
     "text": [
      "Crawling:  72%|███████▏  | 719/1000 [34:06<07:15,  1.55s/it]"
     ]
    },
    {
     "name": "stdout",
     "output_type": "stream",
     "text": [
      "Error fetching the URL: 404 Client Error: Not Found for url: https://www.fis.agh.edu.pl/home/wfiis/wfiis/doc/pl/seminarium/ft/sem7FCS.pdf\n"
     ]
    },
    {
     "name": "stderr",
     "output_type": "stream",
     "text": [
      "Crawling:  72%|███████▏  | 720/1000 [34:08<07:17,  1.56s/it]"
     ]
    },
    {
     "name": "stdout",
     "output_type": "stream",
     "text": [
      "Error fetching the URL: 404 Client Error: Not Found for url: https://www.fis.agh.edu.pl/home/wfiis/wfiis/doc/pl/seminarium/ft/sem7FJ.pdf\n"
     ]
    },
    {
     "name": "stderr",
     "output_type": "stream",
     "text": [
      "Crawling:  72%|███████▏  | 721/1000 [34:09<07:09,  1.54s/it]"
     ]
    },
    {
     "name": "stdout",
     "output_type": "stream",
     "text": [
      "Error fetching the URL: 404 Client Error: Not Found for url: https://www.fis.agh.edu.pl/home/wfiis/wfiis/doc/pl/seminarium/ft/sem7FK.pdf\n"
     ]
    },
    {
     "name": "stderr",
     "output_type": "stream",
     "text": [
      "Crawling:  72%|███████▏  | 722/1000 [34:11<07:06,  1.54s/it]"
     ]
    },
    {
     "name": "stdout",
     "output_type": "stream",
     "text": [
      "Error fetching the URL: 404 Client Error: Not Found for url: https://www.fis.agh.edu.pl/home/wfiis/wfiis/doc/pl/seminarium/ft/sem7FS.pdf\n"
     ]
    },
    {
     "name": "stderr",
     "output_type": "stream",
     "text": [
      "Crawling:  72%|███████▏  | 723/1000 [34:12<07:13,  1.56s/it]"
     ]
    },
    {
     "name": "stdout",
     "output_type": "stream",
     "text": [
      "Error fetching the URL: 404 Client Error: Not Found for url: https://www.fis.agh.edu.pl/home/wfiis/wfiis/doc/pl/seminarium/fm/FMsem1.pdf\n"
     ]
    },
    {
     "name": "stderr",
     "output_type": "stream",
     "text": [
      "Crawling:  72%|███████▏  | 724/1000 [34:14<07:38,  1.66s/it]"
     ]
    },
    {
     "name": "stdout",
     "output_type": "stream",
     "text": [
      "Error fetching the URL: 404 Client Error: Not Found for url: https://www.fis.agh.edu.pl/home/wfiis/wfiis/doc/pl/seminarium/fm/FMsem2.pdf\n"
     ]
    },
    {
     "name": "stderr",
     "output_type": "stream",
     "text": [
      "Crawling:  72%|███████▎  | 725/1000 [34:16<07:32,  1.65s/it]"
     ]
    },
    {
     "name": "stdout",
     "output_type": "stream",
     "text": [
      "Error fetching the URL: 404 Client Error: Not Found for url: https://www.fis.agh.edu.pl/home/wfiis/wfiis/doc/pl/seminarium/fm/FMsem3.pdf\n"
     ]
    },
    {
     "name": "stderr",
     "output_type": "stream",
     "text": [
      "Crawling:  73%|███████▎  | 726/1000 [34:17<07:26,  1.63s/it]"
     ]
    },
    {
     "name": "stdout",
     "output_type": "stream",
     "text": [
      "Error fetching the URL: 404 Client Error: Not Found for url: https://www.fis.agh.edu.pl/home/wfiis/wfiis/doc/pl/seminarium/fm/FMsem4.pdf\n"
     ]
    },
    {
     "name": "stderr",
     "output_type": "stream",
     "text": [
      "Crawling:  73%|███████▎  | 727/1000 [34:19<07:00,  1.54s/it]"
     ]
    },
    {
     "name": "stdout",
     "output_type": "stream",
     "text": [
      "Error fetching the URL: 404 Client Error: Not Found for url: https://www.fis.agh.edu.pl/home/wfiis/wfiis/doc/pl/seminarium/fm/FMsem5.pdf\n"
     ]
    },
    {
     "name": "stderr",
     "output_type": "stream",
     "text": [
      "Crawling:  73%|███████▎  | 728/1000 [34:20<07:15,  1.60s/it]"
     ]
    },
    {
     "name": "stdout",
     "output_type": "stream",
     "text": [
      "Error fetching the URL: 404 Client Error: Not Found for url: https://www.fis.agh.edu.pl/home/wfiis/wfiis/doc/pl/seminarium/fm/FMsem6.pdf\n"
     ]
    },
    {
     "name": "stderr",
     "output_type": "stream",
     "text": [
      "Crawling:  73%|███████▎  | 729/1000 [34:22<06:57,  1.54s/it]"
     ]
    },
    {
     "name": "stdout",
     "output_type": "stream",
     "text": [
      "Error fetching the URL: 404 Client Error: Not Found for url: https://www.fis.agh.edu.pl/home/wfiis/wfiis/doc/pl/seminarium/fm/FMsem7.pdf\n"
     ]
    },
    {
     "name": "stderr",
     "output_type": "stream",
     "text": [
      "Crawling:  73%|███████▎  | 730/1000 [34:23<06:59,  1.55s/it]"
     ]
    },
    {
     "name": "stdout",
     "output_type": "stream",
     "text": [
      "Error fetching the URL: 404 Client Error: Not Found for url: https://www.fis.agh.edu.pl/home/wfiis/wfiis/doc/pl/seminarium/is/ISsem1.pdf\n"
     ]
    },
    {
     "name": "stderr",
     "output_type": "stream",
     "text": [
      "Crawling:  73%|███████▎  | 731/1000 [34:25<07:08,  1.59s/it]"
     ]
    },
    {
     "name": "stdout",
     "output_type": "stream",
     "text": [
      "Error fetching the URL: 404 Client Error: Not Found for url: https://www.fis.agh.edu.pl/home/wfiis/wfiis/doc/pl/seminarium/is/ISsem2.pdf\n"
     ]
    },
    {
     "name": "stderr",
     "output_type": "stream",
     "text": [
      "Crawling:  73%|███████▎  | 732/1000 [34:27<07:02,  1.58s/it]"
     ]
    },
    {
     "name": "stdout",
     "output_type": "stream",
     "text": [
      "Error fetching the URL: 404 Client Error: Not Found for url: https://www.fis.agh.edu.pl/home/wfiis/wfiis/doc/pl/seminarium/is/ISsem3.pdf\n"
     ]
    },
    {
     "name": "stderr",
     "output_type": "stream",
     "text": [
      "Crawling:  73%|███████▎  | 733/1000 [34:28<06:52,  1.55s/it]"
     ]
    },
    {
     "name": "stdout",
     "output_type": "stream",
     "text": [
      "Error fetching the URL: 404 Client Error: Not Found for url: https://www.fis.agh.edu.pl/home/wfiis/wfiis/doc/pl/seminarium/is/ISsem4.pdf\n"
     ]
    },
    {
     "name": "stderr",
     "output_type": "stream",
     "text": [
      "Crawling:  73%|███████▎  | 734/1000 [34:30<07:03,  1.59s/it]"
     ]
    },
    {
     "name": "stdout",
     "output_type": "stream",
     "text": [
      "Error fetching the URL: 404 Client Error: Not Found for url: https://www.fis.agh.edu.pl/home/wfiis/wfiis/doc/pl/seminarium/is/ISsem5.pdf\n"
     ]
    },
    {
     "name": "stderr",
     "output_type": "stream",
     "text": [
      "Crawling:  74%|███████▎  | 735/1000 [34:31<07:13,  1.64s/it]"
     ]
    },
    {
     "name": "stdout",
     "output_type": "stream",
     "text": [
      "Error fetching the URL: 404 Client Error: Not Found for url: https://www.fis.agh.edu.pl/home/wfiis/wfiis/doc/pl/seminarium/is/ISsem6.pdf\n"
     ]
    },
    {
     "name": "stderr",
     "output_type": "stream",
     "text": [
      "Crawling:  74%|███████▎  | 736/1000 [34:33<07:07,  1.62s/it]"
     ]
    },
    {
     "name": "stdout",
     "output_type": "stream",
     "text": [
      "Error fetching the URL: 404 Client Error: Not Found for url: https://www.fis.agh.edu.pl/home/wfiis/wfiis/doc/pl/seminarium/is/ISsem7.pdf\n"
     ]
    },
    {
     "name": "stderr",
     "output_type": "stream",
     "text": [
      "Crawling:  75%|███████▌  | 750/1000 [35:10<12:25,  2.98s/it]"
     ]
    },
    {
     "name": "stdout",
     "output_type": "stream",
     "text": [
      "Error fetching the URL: 404 Client Error: Not Found for url: https://www.fis.agh.edu.pl/home/wfiis/wfiis/doc/pl/seminarium/MarsAGH\n"
     ]
    },
    {
     "name": "stderr",
     "output_type": "stream",
     "text": [
      "Crawling:  77%|███████▋  | 767/1000 [36:01<12:03,  3.10s/it]"
     ]
    },
    {
     "name": "stdout",
     "output_type": "stream",
     "text": [
      "Error fetching the URL: 404 Client Error: Not Found for url: https://www.fis.agh.edu.pl/home/wfiis/wfiis/doc/pl/seminarium/idzik.ps.gz\n"
     ]
    },
    {
     "name": "stderr",
     "output_type": "stream",
     "text": [
      "Crawling:  77%|███████▋  | 774/1000 [36:13<06:49,  1.81s/it]"
     ]
    },
    {
     "name": "stdout",
     "output_type": "stream",
     "text": [
      "Error fetching the URL: 404 Client Error: Not Found for url: https://www.fis.agh.edu.pl/fee2016/\n"
     ]
    },
    {
     "name": "stderr",
     "output_type": "stream",
     "text": [
      "Crawling:  95%|█████████▍| 947/1000 [41:19<02:18,  2.62s/it]\n"
     ]
    },
    {
     "name": "stdout",
     "output_type": "stream",
     "text": [
      "https://www.wms.agh.edu.pl/\n"
     ]
    },
    {
     "name": "stderr",
     "output_type": "stream",
     "text": [
      "Crawling:  10%|█         | 101/1000 [02:39<26:04,  1.74s/it]"
     ]
    },
    {
     "name": "stdout",
     "output_type": "stream",
     "text": [
      "Error fetching the URL: 404 Client Error: Not Found for url: https://www.wms.agh.edu.pl/fileadmin/default/templates/css/j/wms/Studia/I_stopien/plan_stud_I_2018_19.xlsx\n"
     ]
    },
    {
     "name": "stderr",
     "output_type": "stream",
     "text": [
      "Crawling:  16%|█▌        | 158/1000 [04:10<22:41,  1.62s/it]"
     ]
    },
    {
     "name": "stdout",
     "output_type": "stream",
     "text": [
      "Error fetching the URL: 404 Client Error: Not Found for url: https://www.wms.agh.edu.pl/fileadmin/default/templates/css/j/wms/Studia/I_stopien/ZD_-_Szczegolowe_zasady_realizacji_programu_studiow_dla_studiow_I_stopnia_na_kierunku_Matematyka_-_zal_1.pdf\n"
     ]
    },
    {
     "name": "stderr",
     "output_type": "stream",
     "text": [
      "Crawling:  17%|█▋        | 174/1000 [04:37<26:33,  1.93s/it]"
     ]
    },
    {
     "ename": "KeyboardInterrupt",
     "evalue": "",
     "output_type": "error",
     "traceback": [
      "\u001B[31m---------------------------------------------------------------------------\u001B[39m",
      "\u001B[31mKeyboardInterrupt\u001B[39m                         Traceback (most recent call last)",
      "\u001B[36mCell\u001B[39m\u001B[36m \u001B[39m\u001B[32mIn[15]\u001B[39m\u001B[32m, line 45\u001B[39m\n\u001B[32m     38\u001B[39m GRAPH_JSON_PATH = \u001B[33mf\u001B[39m\u001B[33m\"\u001B[39m\u001B[33mgraphs\u001B[39m\u001B[38;5;132;01m{\u001B[39;00mprefix\u001B[38;5;132;01m}\u001B[39;00m\u001B[33m_graph.json\u001B[39m\u001B[33m\"\u001B[39m\n\u001B[32m     40\u001B[39m graph_generator = GraphGenerator(\n\u001B[32m     41\u001B[39m     allowed_domains=[url],\n\u001B[32m     42\u001B[39m     start_urls=[url],\n\u001B[32m     43\u001B[39m     max_pages=\u001B[32m1000\u001B[39m,\n\u001B[32m     44\u001B[39m )\n\u001B[32m---> \u001B[39m\u001B[32m45\u001B[39m \u001B[43mgraph_generator\u001B[49m\u001B[43m.\u001B[49m\u001B[43mgenerate_graph\u001B[49m\u001B[43m(\u001B[49m\u001B[43m)\u001B[49m\n\u001B[32m     46\u001B[39m graph_generator.graph_to_json(output_file=GRAPH_JSON_PATH)\n",
      "\u001B[36mFile \u001B[39m\u001B[32m~/PycharmProjects/ChatAGH_DataCollecting/web_scraping/graph_generator.py:65\u001B[39m, in \u001B[36mGraphGenerator.generate_graph\u001B[39m\u001B[34m(self)\u001B[39m\n\u001B[32m     56\u001B[39m \u001B[38;5;250m\u001B[39m\u001B[33;03m\"\"\"\u001B[39;00m\n\u001B[32m     57\u001B[39m \u001B[33;03mGenerate a graph by crawling from all start URLs.\u001B[39;00m\n\u001B[32m     58\u001B[39m \n\u001B[32m   (...)\u001B[39m\u001B[32m     62\u001B[39m \u001B[33;03m    The directed graph of crawled pages and links.\u001B[39;00m\n\u001B[32m     63\u001B[39m \u001B[33;03m\"\"\"\u001B[39;00m\n\u001B[32m     64\u001B[39m \u001B[38;5;28;01mfor\u001B[39;00m start_url \u001B[38;5;129;01min\u001B[39;00m \u001B[38;5;28mself\u001B[39m.start_urls:\n\u001B[32m---> \u001B[39m\u001B[32m65\u001B[39m     \u001B[38;5;28;43mself\u001B[39;49m\u001B[43m.\u001B[49m\u001B[43mcrawl\u001B[49m\u001B[43m(\u001B[49m\u001B[43mstart_url\u001B[49m\u001B[43m,\u001B[49m\u001B[43m \u001B[49m\u001B[38;5;28;43mself\u001B[39;49m\u001B[43m.\u001B[49m\u001B[43mmax_pages\u001B[49m\u001B[43m)\u001B[49m\n\u001B[32m     66\u001B[39m \u001B[38;5;28;01mreturn\u001B[39;00m \u001B[38;5;28mself\u001B[39m.G\n",
      "\u001B[36mFile \u001B[39m\u001B[32m~/PycharmProjects/ChatAGH_DataCollecting/web_scraping/graph_generator.py:121\u001B[39m, in \u001B[36mGraphGenerator.crawl\u001B[39m\u001B[34m(self, start_url, max_pages, delay)\u001B[39m\n\u001B[32m    118\u001B[39m     \u001B[38;5;28;01mif\u001B[39;00m current_url \u001B[38;5;129;01mnot\u001B[39;00m \u001B[38;5;129;01min\u001B[39;00m \u001B[38;5;28mself\u001B[39m.G:\n\u001B[32m    119\u001B[39m         \u001B[38;5;28mself\u001B[39m.G.add_node(current_url)\n\u001B[32m--> \u001B[39m\u001B[32m121\u001B[39m     \u001B[43mtime\u001B[49m\u001B[43m.\u001B[49m\u001B[43msleep\u001B[49m\u001B[43m(\u001B[49m\u001B[43mdelay\u001B[49m\u001B[43m \u001B[49m\u001B[43m+\u001B[49m\u001B[43m \u001B[49m\u001B[43mrandom\u001B[49m\u001B[43m.\u001B[49m\u001B[43muniform\u001B[49m\u001B[43m(\u001B[49m\u001B[32;43m0\u001B[39;49m\u001B[43m,\u001B[49m\u001B[43m \u001B[49m\u001B[32;43m0.5\u001B[39;49m\u001B[43m)\u001B[49m\u001B[43m)\u001B[49m\n\u001B[32m    123\u001B[39m \u001B[38;5;28;01mexcept\u001B[39;00m \u001B[38;5;167;01mException\u001B[39;00m \u001B[38;5;28;01mas\u001B[39;00m e:\n\u001B[32m    124\u001B[39m     \u001B[38;5;28mprint\u001B[39m(\u001B[33mf\u001B[39m\u001B[33m\"\u001B[39m\u001B[33mError crawling \u001B[39m\u001B[38;5;132;01m{\u001B[39;00mcurrent_url\u001B[38;5;132;01m}\u001B[39;00m\u001B[33m: \u001B[39m\u001B[38;5;132;01m{\u001B[39;00me\u001B[38;5;132;01m}\u001B[39;00m\u001B[33m\"\u001B[39m)\n",
      "\u001B[31mKeyboardInterrupt\u001B[39m: "
     ]
    }
   ],
   "execution_count": 15
  },
  {
   "cell_type": "markdown",
   "id": "9c352c3f-c801-45aa-ae2c-cbf559f12ce1",
   "metadata": {},
   "source": [
    "## 3. Load Graph from JSON\n",
    "\n",
    "We rebuild the **directed graph (DiGraph)** from the JSON file.  \n",
    "Each **node** is a web page (URL), and each **edge** is a hyperlink from one page to another.  \n",
    "\n",
    "- Nodes represent entities we might later cluster.  \n",
    "- Edges capture relationships that clustering algorithms exploit.  "
   ]
  },
  {
   "cell_type": "code",
   "id": "823bd5eb-a87c-4095-9b7a-8fa8b54a9776",
   "metadata": {
    "ExecuteTime": {
     "end_time": "2025-10-07T10:31:18.250618Z",
     "start_time": "2025-10-07T10:31:18.231797Z"
    }
   },
   "source": [
    "GRAPH_JSON_PATH = \"/Users/wnowogorski/PycharmProjects/ChatAGH_DataCollecting/graphs/rekrutacja_agh_edu_graph.json\"  # <-- change path if needed\n",
    "\n",
    "with open(GRAPH_JSON_PATH, \"r\") as f:\n",
    "    data = json.load(f)\n",
    "\n",
    "G = nx.DiGraph()\n",
    "G.add_nodes_from([n[\"url\"] for n in data[\"nodes\"]])\n",
    "G.add_edges_from([(e[\"source\"], e[\"target\"]) for e in data[\"edges\"]])\n",
    "\n",
    "print(f\"Loaded graph: {G.number_of_nodes():,} nodes, {G.number_of_edges():,} edges\")"
   ],
   "outputs": [
    {
     "name": "stdout",
     "output_type": "stream",
     "text": [
      "Loaded graph: 578 nodes, 7,781 edges\n"
     ]
    }
   ],
   "execution_count": 9
  },
  {
   "metadata": {
    "ExecuteTime": {
     "end_time": "2025-10-07T10:12:42.233983Z",
     "start_time": "2025-10-07T10:12:42.232803Z"
    }
   },
   "cell_type": "code",
   "source": "",
   "id": "c8c69ef84cecfd59",
   "outputs": [],
   "execution_count": null
  }
 ],
 "metadata": {
  "kernelspec": {
   "display_name": "Python 3 (ipykernel)",
   "language": "python",
   "name": "python3"
  },
  "language_info": {
   "codemirror_mode": {
    "name": "ipython",
    "version": 3
   },
   "file_extension": ".py",
   "mimetype": "text/x-python",
   "name": "python",
   "nbconvert_exporter": "python",
   "pygments_lexer": "ipython3",
   "version": "3.12.10"
  }
 },
 "nbformat": 4,
 "nbformat_minor": 5
}
